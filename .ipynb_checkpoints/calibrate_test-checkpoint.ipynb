{
 "cells": [
  {
   "cell_type": "code",
   "execution_count": 1,
   "metadata": {},
   "outputs": [],
   "source": [
    "import pickle\n",
    "import numpy as np \n",
    "import pandas as pd\n",
    "import matplotlib.pyplot as plt\n",
    "%matplotlib inline"
   ]
  },
  {
   "cell_type": "code",
   "execution_count": 2,
   "metadata": {},
   "outputs": [],
   "source": [
    "C = np.load(\"output/C/result/result.pkl\")\n",
    "H = np.load(\"output/H/result/result.pkl\")\n",
    "I = np.load(\"output/I/result/result.pkl\")\n",
    "K = np.load(\"output/K/result/result.pkl\")"
   ]
  },
  {
   "cell_type": "code",
   "execution_count": 3,
   "metadata": {},
   "outputs": [],
   "source": [
    "C = np.asarray(C[\"C\"])\n",
    "H = np.asarray(H[\"H\"])\n",
    "I = np.asarray(I[\"I\"])\n",
    "K = np.asarray(K[\"K\"])"
   ]
  },
  {
   "cell_type": "code",
   "execution_count": 4,
   "metadata": {},
   "outputs": [],
   "source": [
    "df = pd.DataFrame({\n",
    "    \"wl\": [i for i in range(650, 1001, 10)],\n",
    "    \"C\": C[:, 0],\n",
    "    \"H\": H[:, 0],\n",
    "    \"I\": I[:, 0],\n",
    "    \"K\": K[:, 0]\n",
    "})"
   ]
  },
  {
   "cell_type": "code",
   "execution_count": 5,
   "metadata": {},
   "outputs": [],
   "source": [
    "df.to_csv(\"CHIK/sim_spec.csv\", index=None)"
   ]
  },
  {
   "cell_type": "code",
   "execution_count": 6,
   "metadata": {},
   "outputs": [],
   "source": [
    "from calibration import Calibrator\n",
    "calib = Calibrator()"
   ]
  },
  {
   "cell_type": "code",
   "execution_count": 7,
   "metadata": {},
   "outputs": [],
   "source": [
    "sim = df.iloc[:, 1:].values.T"
   ]
  },
  {
   "cell_type": "code",
   "execution_count": 8,
   "metadata": {},
   "outputs": [],
   "source": [
    "# calib.get_a_b(sim, )"
   ]
  },
  {
   "cell_type": "code",
   "execution_count": 9,
   "metadata": {},
   "outputs": [],
   "source": [
    "df_0111 = pd.read_csv(\"CHIK/20190111_IJV.csv\")"
   ]
  },
  {
   "cell_type": "code",
   "execution_count": 10,
   "metadata": {},
   "outputs": [
    {
     "data": {
      "text/html": [
       "<div>\n",
       "<style scoped>\n",
       "    .dataframe tbody tr th:only-of-type {\n",
       "        vertical-align: middle;\n",
       "    }\n",
       "\n",
       "    .dataframe tbody tr th {\n",
       "        vertical-align: top;\n",
       "    }\n",
       "\n",
       "    .dataframe thead th {\n",
       "        text-align: right;\n",
       "    }\n",
       "</style>\n",
       "<table border=\"1\" class=\"dataframe\">\n",
       "  <thead>\n",
       "    <tr style=\"text-align: right;\">\n",
       "      <th></th>\n",
       "      <th>Wavelength (nm)</th>\n",
       "      <th>PC</th>\n",
       "      <th>PH</th>\n",
       "      <th>PI</th>\n",
       "      <th>PK</th>\n",
       "      <th>WH_lie0_1</th>\n",
       "      <th>WH_lie0_2</th>\n",
       "      <th>Unnamed: 7</th>\n",
       "      <th>Unnamed: 8</th>\n",
       "      <th>Unnamed: 9</th>\n",
       "      <th>Unnamed: 10</th>\n",
       "      <th>Unnamed: 11</th>\n",
       "      <th>Unnamed: 12</th>\n",
       "      <th>Unnamed: 13</th>\n",
       "    </tr>\n",
       "  </thead>\n",
       "  <tbody>\n",
       "    <tr>\n",
       "      <th>0</th>\n",
       "      <td>539.5939</td>\n",
       "      <td>316.000000</td>\n",
       "      <td>315.666667</td>\n",
       "      <td>315.000000</td>\n",
       "      <td>323.333333</td>\n",
       "      <td>311</td>\n",
       "      <td>317</td>\n",
       "      <td>NaN</td>\n",
       "      <td>NaN</td>\n",
       "      <td>NaN</td>\n",
       "      <td>NaN</td>\n",
       "      <td>NaN</td>\n",
       "      <td>NaN</td>\n",
       "      <td>NaN</td>\n",
       "    </tr>\n",
       "    <tr>\n",
       "      <th>1</th>\n",
       "      <td>539.9378</td>\n",
       "      <td>318.666667</td>\n",
       "      <td>315.666667</td>\n",
       "      <td>314.666667</td>\n",
       "      <td>327.333333</td>\n",
       "      <td>321</td>\n",
       "      <td>316</td>\n",
       "      <td>NaN</td>\n",
       "      <td>NaN</td>\n",
       "      <td>NaN</td>\n",
       "      <td>NaN</td>\n",
       "      <td>NaN</td>\n",
       "      <td>NaN</td>\n",
       "      <td>NaN</td>\n",
       "    </tr>\n",
       "    <tr>\n",
       "      <th>2</th>\n",
       "      <td>540.2817</td>\n",
       "      <td>317.666667</td>\n",
       "      <td>312.333333</td>\n",
       "      <td>313.333333</td>\n",
       "      <td>323.333333</td>\n",
       "      <td>321</td>\n",
       "      <td>323</td>\n",
       "      <td>NaN</td>\n",
       "      <td>NaN</td>\n",
       "      <td>NaN</td>\n",
       "      <td>NaN</td>\n",
       "      <td>NaN</td>\n",
       "      <td>NaN</td>\n",
       "      <td>NaN</td>\n",
       "    </tr>\n",
       "    <tr>\n",
       "      <th>3</th>\n",
       "      <td>540.6256</td>\n",
       "      <td>314.333333</td>\n",
       "      <td>314.000000</td>\n",
       "      <td>316.000000</td>\n",
       "      <td>324.666667</td>\n",
       "      <td>316</td>\n",
       "      <td>322</td>\n",
       "      <td>NaN</td>\n",
       "      <td>NaN</td>\n",
       "      <td>NaN</td>\n",
       "      <td>NaN</td>\n",
       "      <td>NaN</td>\n",
       "      <td>NaN</td>\n",
       "      <td>NaN</td>\n",
       "    </tr>\n",
       "    <tr>\n",
       "      <th>4</th>\n",
       "      <td>540.9695</td>\n",
       "      <td>314.000000</td>\n",
       "      <td>317.000000</td>\n",
       "      <td>318.333333</td>\n",
       "      <td>324.666667</td>\n",
       "      <td>313</td>\n",
       "      <td>320</td>\n",
       "      <td>NaN</td>\n",
       "      <td>NaN</td>\n",
       "      <td>NaN</td>\n",
       "      <td>NaN</td>\n",
       "      <td>NaN</td>\n",
       "      <td>NaN</td>\n",
       "      <td>NaN</td>\n",
       "    </tr>\n",
       "  </tbody>\n",
       "</table>\n",
       "</div>"
      ],
      "text/plain": [
       "   Wavelength (nm)          PC          PH          PI          PK  WH_lie0_1  \\\n",
       "0         539.5939  316.000000  315.666667  315.000000  323.333333        311   \n",
       "1         539.9378  318.666667  315.666667  314.666667  327.333333        321   \n",
       "2         540.2817  317.666667  312.333333  313.333333  323.333333        321   \n",
       "3         540.6256  314.333333  314.000000  316.000000  324.666667        316   \n",
       "4         540.9695  314.000000  317.000000  318.333333  324.666667        313   \n",
       "\n",
       "   WH_lie0_2  Unnamed: 7  Unnamed: 8  Unnamed: 9  Unnamed: 10  Unnamed: 11  \\\n",
       "0        317         NaN         NaN         NaN          NaN          NaN   \n",
       "1        316         NaN         NaN         NaN          NaN          NaN   \n",
       "2        323         NaN         NaN         NaN          NaN          NaN   \n",
       "3        322         NaN         NaN         NaN          NaN          NaN   \n",
       "4        320         NaN         NaN         NaN          NaN          NaN   \n",
       "\n",
       "   Unnamed: 12  Unnamed: 13  \n",
       "0          NaN          NaN  \n",
       "1          NaN          NaN  \n",
       "2          NaN          NaN  \n",
       "3          NaN          NaN  \n",
       "4          NaN          NaN  "
      ]
     },
     "execution_count": 10,
     "metadata": {},
     "output_type": "execute_result"
    }
   ],
   "source": [
    "df_0111.head()\n"
   ]
  },
  {
   "cell_type": "code",
   "execution_count": 11,
   "metadata": {},
   "outputs": [],
   "source": [
    "exp_wl = df_0111[\"Wavelength (nm)\"].tolist()\n",
    "exp = df_0111.iloc[:, 1:5].values\n",
    "live = df_0111.iloc[:, 5:7].values\n",
    "\n"
   ]
  },
  {
   "cell_type": "code",
   "execution_count": 12,
   "metadata": {},
   "outputs": [
    {
     "name": "stdout",
     "output_type": "stream",
     "text": [
      "(4, 36)\n",
      "(4, 36)\n",
      "(4, 36)\n"
     ]
    }
   ],
   "source": [
    "print(sim.shape)\n",
    "coeff, exp = calib.get_a_b(sim, exp.T, exp_wl)"
   ]
  },
  {
   "cell_type": "code",
   "execution_count": 13,
   "metadata": {},
   "outputs": [
    {
     "data": {
      "text/plain": [
       "array([[ 5.36267371e-12, -1.97408520e-09],\n",
       "       [ 2.14197396e-12, -8.58956337e-10],\n",
       "       [ 3.21450707e-12, -1.47475958e-09],\n",
       "       [ 2.60472399e-12, -1.16953965e-09],\n",
       "       [ 2.45243831e-12, -1.01492476e-09],\n",
       "       [ 2.46065762e-12, -1.21083916e-09],\n",
       "       [ 2.61137073e-12, -1.16226660e-09],\n",
       "       [ 2.24556324e-12, -8.50154393e-10],\n",
       "       [ 2.28163889e-12, -1.17858965e-09],\n",
       "       [ 9.91344266e-13, -2.26486701e-10],\n",
       "       [ 2.29055571e-12, -8.41948092e-10],\n",
       "       [ 2.61050445e-12, -1.90518402e-09],\n",
       "       [ 3.16219936e-12, -3.73872545e-09],\n",
       "       [ 2.70519635e-12, -3.84992827e-09],\n",
       "       [ 2.14944066e-12, -3.77535009e-09],\n",
       "       [ 2.27250271e-12, -4.37942989e-09],\n",
       "       [ 2.41847763e-12, -6.15683141e-09],\n",
       "       [ 2.96523793e-12, -8.01008439e-09],\n",
       "       [ 2.72758556e-12, -7.32663110e-09],\n",
       "       [ 3.44251365e-12, -8.64173686e-09],\n",
       "       [ 2.71144151e-12, -6.37921041e-09],\n",
       "       [ 3.78275414e-12, -1.00650772e-08],\n",
       "       [ 3.81070547e-12, -7.84917963e-09],\n",
       "       [ 2.40996536e-12, -4.94443883e-09],\n",
       "       [ 2.81227070e-12, -4.52604046e-09],\n",
       "       [ 6.59448349e-13, -9.60600262e-10],\n",
       "       [ 9.63934039e-15, -2.86392538e-12],\n",
       "       [ 2.77014505e-12, -4.39473055e-09],\n",
       "       [ 1.30738780e-11, -1.95282350e-08],\n",
       "       [ 1.53958272e-11, -2.16899498e-08],\n",
       "       [ 2.50354043e-11, -3.23241267e-08],\n",
       "       [ 2.39824791e-11, -2.08296210e-08],\n",
       "       [ 3.12969588e-11, -2.39805873e-08],\n",
       "       [ 4.41045423e-11, -3.27725218e-08],\n",
       "       [ 3.65978732e-11, -1.76920105e-08],\n",
       "       [ 4.21633959e-11, -2.84564043e-08]])"
      ]
     },
     "execution_count": 13,
     "metadata": {},
     "output_type": "execute_result"
    }
   ],
   "source": [
    "coeff"
   ]
  },
  {
   "cell_type": "code",
   "execution_count": 14,
   "metadata": {},
   "outputs": [
    {
     "name": "stdout",
     "output_type": "stream",
     "text": [
      "(4, 36)\n",
      "(1600, 4)\n"
     ]
    },
    {
     "ename": "ValueError",
     "evalue": "operands could not be broadcast together with shapes (4,) (36,) ",
     "output_type": "error",
     "traceback": [
      "\u001b[0;31m---------------------------------------------------------------------------\u001b[0m",
      "\u001b[0;31mValueError\u001b[0m                                Traceback (most recent call last)",
      "\u001b[0;32m<ipython-input-14-aad7f10ad669>\u001b[0m in \u001b[0;36m<module>\u001b[0;34m()\u001b[0m\n\u001b[1;32m      4\u001b[0m \u001b[0;32mfor\u001b[0m \u001b[0mx\u001b[0m\u001b[0;34m,\u001b[0m \u001b[0my\u001b[0m \u001b[0;32min\u001b[0m \u001b[0mzip\u001b[0m\u001b[0;34m(\u001b[0m\u001b[0msim\u001b[0m\u001b[0;34m,\u001b[0m \u001b[0mexp\u001b[0m\u001b[0;34m)\u001b[0m\u001b[0;34m:\u001b[0m\u001b[0;34m\u001b[0m\u001b[0m\n\u001b[1;32m      5\u001b[0m     \u001b[0my_fit\u001b[0m \u001b[0;34m=\u001b[0m \u001b[0mx\u001b[0m \u001b[0;34m*\u001b[0m \u001b[0mcoeff\u001b[0m\u001b[0;34m[\u001b[0m\u001b[0;34m:\u001b[0m\u001b[0;34m,\u001b[0m\u001b[0;36m0\u001b[0m\u001b[0;34m]\u001b[0m \u001b[0;34m+\u001b[0m \u001b[0mcoeff\u001b[0m\u001b[0;34m[\u001b[0m\u001b[0;34m:\u001b[0m\u001b[0;34m,\u001b[0m\u001b[0;36m1\u001b[0m\u001b[0;34m]\u001b[0m\u001b[0;34m\u001b[0m\u001b[0m\n\u001b[0;32m----> 6\u001b[0;31m     \u001b[0mresidual\u001b[0m \u001b[0;34m=\u001b[0m \u001b[0;34m(\u001b[0m\u001b[0;34m(\u001b[0m\u001b[0my\u001b[0m\u001b[0;34m-\u001b[0m\u001b[0my_fit\u001b[0m\u001b[0;34m)\u001b[0m\u001b[0;34m**\u001b[0m\u001b[0;36m2\u001b[0m\u001b[0;34m)\u001b[0m\u001b[0;34m.\u001b[0m\u001b[0msum\u001b[0m\u001b[0;34m(\u001b[0m\u001b[0;34m)\u001b[0m\u001b[0;34m\u001b[0m\u001b[0m\n\u001b[0m\u001b[1;32m      7\u001b[0m     \u001b[0mSS_total\u001b[0m \u001b[0;34m=\u001b[0m \u001b[0;34m(\u001b[0m\u001b[0;34m(\u001b[0m\u001b[0my\u001b[0m\u001b[0;34m.\u001b[0m\u001b[0mmean\u001b[0m\u001b[0;34m(\u001b[0m\u001b[0;34m)\u001b[0m\u001b[0;34m-\u001b[0m\u001b[0my_fit\u001b[0m\u001b[0;34m)\u001b[0m\u001b[0;34m**\u001b[0m\u001b[0;36m2\u001b[0m\u001b[0;34m)\u001b[0m\u001b[0;34m.\u001b[0m\u001b[0msum\u001b[0m\u001b[0;34m(\u001b[0m\u001b[0;34m)\u001b[0m\u001b[0;34m\u001b[0m\u001b[0m\n\u001b[1;32m      8\u001b[0m \u001b[0;34m\u001b[0m\u001b[0m\n",
      "\u001b[0;31mValueError\u001b[0m: operands could not be broadcast together with shapes (4,) (36,) "
     ]
    }
   ],
   "source": [
    "r_square = []\n",
    "print(sim.shape)\n",
    "print(exp.shape)\n",
    "for x, y in zip(sim, exp):\n",
    "    y_fit = x * coeff[:,0] + coeff[:,1]\n",
    "    residual = ((y-y_fit)**2).sum()\n",
    "    SS_total = ((y.mean()-y_fit)**2).sum()\n",
    "\n",
    "    r_square.append(1 - residual/SS_total)\n",
    "\n",
    "r_square = np.mean(r_square)"
   ]
  },
  {
   "cell_type": "code",
   "execution_count": null,
   "metadata": {},
   "outputs": [],
   "source": [
    "wl = [i for i in range(650, 1001, 10)]\n",
    "live_0 = np.interp(wl, exp_wl, live[:, 0])\n",
    "live_1 = np.interp(wl, exp_wl, live[:, 1])\n",
    "\n",
    "fig, ax = plt.subplots(2, 1)\n",
    "ax[0].plot(wl, live_0, label=\"lie 0\")\n",
    "ax[1].plot(wl, live_0*coeff[:,0] + coeff[:,1], label=\"calibrated\")\n",
    "# plt.plot(wl, live_1, label=\"lie 1\")\n",
    "# plt.plot(live[:, 0], label=\"lie 0\")\n",
    "\n",
    "ax[0].grid()\n",
    "ax[1].grid()\n",
    "ax[0].legend()\n",
    "ax[1].legend()\n",
    "ax[1].set_xlabel(\"wavelength[nm]\")\n",
    "plt.show()"
   ]
  },
  {
   "cell_type": "code",
   "execution_count": null,
   "metadata": {},
   "outputs": [],
   "source": [
    "fig, ax = plt.subplots(2, 1)\n",
    "ax[0].plot(wl, live_1, label=\"lie 1\")\n",
    "ax[1].plot(wl, live_1*coeff[:,0] + coeff[:,1], label=\"calibrated\")\n",
    "# plt.plot(wl, live_1, label=\"lie 1\")\n",
    "# plt.plot(live[:, 0], label=\"lie 0\")\n",
    "\n",
    "ax[0].grid()\n",
    "ax[1].grid()\n",
    "ax[0].legend()\n",
    "ax[1].legend()\n",
    "ax[1].set_xlabel(\"wavelength[nm]\")\n",
    "plt.show()"
   ]
  },
  {
   "cell_type": "code",
   "execution_count": null,
   "metadata": {},
   "outputs": [],
   "source": []
  }
 ],
 "metadata": {
  "kernelspec": {
   "display_name": "Python 3",
   "language": "python",
   "name": "python3"
  },
  "language_info": {
   "codemirror_mode": {
    "name": "ipython",
    "version": 3
   },
   "file_extension": ".py",
   "mimetype": "text/x-python",
   "name": "python",
   "nbconvert_exporter": "python",
   "pygments_lexer": "ipython3",
   "version": "3.6.3"
  }
 },
 "nbformat": 4,
 "nbformat_minor": 2
}
