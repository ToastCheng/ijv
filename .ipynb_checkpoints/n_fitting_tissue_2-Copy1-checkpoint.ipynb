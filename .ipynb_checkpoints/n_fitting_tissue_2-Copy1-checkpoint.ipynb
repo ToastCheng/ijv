{
 "cells": [
  {
   "cell_type": "code",
   "execution_count": 1,
   "metadata": {},
   "outputs": [],
   "source": [
    "from engine import Engine\n",
    "from glob import glob \n",
    "import os\n",
    "from random import uniform\n",
    "from copy import deepcopy\n",
    "\n",
    "from utils.ga import GA\n",
    "import pandas as pd \n",
    "import numpy as np \n",
    "import matplotlib.pyplot as plt"
   ]
  },
  {
   "cell_type": "code",
   "execution_count": 2,
   "metadata": {},
   "outputs": [],
   "source": [
    "def rmse(x, y):\n",
    "\n",
    "    x, y = np.array(x), np.array(y)\n",
    "    return 100 * np.sqrt(((x-y)**2)).mean()/y.mean()"
   ]
  },
  {
   "cell_type": "code",
   "execution_count": 3,
   "metadata": {},
   "outputs": [],
   "source": [
    "spec_list = glob(\"data/calibrated/20190805/IJV/20190805_*.csv\")\n",
    "spec_list.sort(key=\n",
    "    lambda x: (int(x.split('_')[-2]), int(x.split('_')[-1].strip('.csv'))) \n",
    ")"
   ]
  },
  {
   "cell_type": "code",
   "execution_count": 4,
   "metadata": {},
   "outputs": [],
   "source": [
    "geo_max=[2, 2.25, 5.21, 13, 6, 16, 3]\n",
    "geo_min=[2, 2.25, 3.69, 13, 6, 16, 3]\n",
    "log_phantom = []"
   ]
  },
  {
   "cell_type": "code",
   "execution_count": 5,
   "metadata": {},
   "outputs": [],
   "source": [
    "wl = [i for i in range(660, 811, 10)]\n",
    "ratio = [1, 0.66, 0.5, 0.33, 0]"
   ]
  },
  {
   "cell_type": "code",
   "execution_count": 6,
   "metadata": {},
   "outputs": [
    {
     "data": {
      "text/plain": [
       "['data/calibrated/20190805/IJV/20190805_1_1.csv',\n",
       " 'data/calibrated/20190805/IJV/20190805_1_2.csv',\n",
       " 'data/calibrated/20190805/IJV/20190805_1_3.csv',\n",
       " 'data/calibrated/20190805/IJV/20190805_1_4.csv',\n",
       " 'data/calibrated/20190805/IJV/20190805_1_5.csv',\n",
       " 'data/calibrated/20190805/IJV/20190805_2_1.csv',\n",
       " 'data/calibrated/20190805/IJV/20190805_2_2.csv',\n",
       " 'data/calibrated/20190805/IJV/20190805_2_3.csv',\n",
       " 'data/calibrated/20190805/IJV/20190805_2_4.csv',\n",
       " 'data/calibrated/20190805/IJV/20190805_2_5.csv',\n",
       " 'data/calibrated/20190805/IJV/20190805_3_1.csv',\n",
       " 'data/calibrated/20190805/IJV/20190805_3_2.csv',\n",
       " 'data/calibrated/20190805/IJV/20190805_3_3.csv',\n",
       " 'data/calibrated/20190805/IJV/20190805_3_4.csv',\n",
       " 'data/calibrated/20190805/IJV/20190805_3_5.csv',\n",
       " 'data/calibrated/20190805/IJV/20190805_4_1.csv',\n",
       " 'data/calibrated/20190805/IJV/20190805_4_2.csv',\n",
       " 'data/calibrated/20190805/IJV/20190805_4_3.csv',\n",
       " 'data/calibrated/20190805/IJV/20190805_4_4.csv',\n",
       " 'data/calibrated/20190805/IJV/20190805_4_5.csv',\n",
       " 'data/calibrated/20190805/IJV/20190805_5_1.csv',\n",
       " 'data/calibrated/20190805/IJV/20190805_5_2.csv',\n",
       " 'data/calibrated/20190805/IJV/20190805_5_3.csv',\n",
       " 'data/calibrated/20190805/IJV/20190805_5_4.csv',\n",
       " 'data/calibrated/20190805/IJV/20190805_5_5.csv']"
      ]
     },
     "execution_count": 6,
     "metadata": {},
     "output_type": "execute_result"
    }
   ],
   "source": [
    "spec_list"
   ]
  },
  {
   "cell_type": "code",
   "execution_count": null,
   "metadata": {},
   "outputs": [
    {
     "name": "stdout",
     "output_type": "stream",
     "text": [
      "data/calibrated/20190805/IJV/20190805_2_3.csv\n",
      "2_3\n",
      "epoch 0:\n",
      "Size of gene library: 1000\n",
      "best fit error: 32.795018\n",
      "best fit spectrum rmsp: 28.84\n",
      "best fit absorption rmsp: 79.20\n",
      "\u001b[31mijv scvO2: 0.64\u001b[0m\n",
      "epoch 10:\n",
      "Size of gene library: 1000\n",
      "best fit error: 32.795018\n",
      "best fit spectrum rmsp: 28.84\n",
      "best fit absorption rmsp: 79.20\n",
      "\u001b[31mijv scvO2: 0.64\u001b[0m\n",
      "epoch 20:\n",
      "Size of gene library: 1000\n",
      "best fit error: 32.795018\n",
      "best fit spectrum rmsp: 28.84\n",
      "best fit absorption rmsp: 79.20\n",
      "\u001b[31mijv scvO2: 0.64\u001b[0m\n",
      "epoch 30:\n",
      "Size of gene library: 1000\n",
      "best fit error: 32.795018\n",
      "best fit spectrum rmsp: 28.84\n",
      "best fit absorption rmsp: 79.20\n",
      "\u001b[31mijv scvO2: 0.64\u001b[0m\n"
     ]
    }
   ],
   "source": [
    "for s in spec_list[7:8]:\n",
    "    print(s)\n",
    "    idx = \"{:d}_{:d}\".format(int(s.split('_')[-2]), int(s.split('_')[-1].strip('.csv')))\n",
    "    print(idx)\n",
    "    if not os.path.isdir(\"fitting/phantom2/\" + idx):\n",
    "        os.mkdir(\"fitting/phantom2/\" + idx)\n",
    "    spec = pd.read_csv(s)\n",
    "    spec = spec[\n",
    "        (spec[\"wavelength\"] >= wl[0])&\n",
    "        (spec[\"wavelength\"] <= wl[-1])\n",
    "    ]\n",
    "    target_max = spec[\"max\"].values.T\n",
    "    target_min = spec[\"min\"].values.T\n",
    "    \n",
    "    ga = GA(1000, 24, target_max, target_min, geo_max, geo_min, dual_ratio=0.05, iteration=1000, log_period=10, phantom=True) #, ink_ratio=r)\n",
    "    ga(plot=True, verbose=True, output_dir=\"fitting/phantom2/\" + idx)\n",
    "    log_phantom += [deepcopy(ga)]"
   ]
  },
  {
   "cell_type": "code",
   "execution_count": null,
   "metadata": {},
   "outputs": [],
   "source": []
  }
 ],
 "metadata": {
  "kernelspec": {
   "display_name": "Python 3",
   "language": "python",
   "name": "python3"
  },
  "language_info": {
   "codemirror_mode": {
    "name": "ipython",
    "version": 3
   },
   "file_extension": ".py",
   "mimetype": "text/x-python",
   "name": "python",
   "nbconvert_exporter": "python",
   "pygments_lexer": "ipython3",
   "version": "3.7.3"
  }
 },
 "nbformat": 4,
 "nbformat_minor": 4
}
