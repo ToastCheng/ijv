{
 "cells": [
  {
   "cell_type": "code",
   "execution_count": 1,
   "metadata": {},
   "outputs": [],
   "source": [
    "import torch\n",
    "import torch.nn as nn\n",
    "import torch.optim as optim\n",
    "import torch.nn.functional as F\n",
    "from torch.utils.data import Dataset, DataLoader\n",
    "\n",
    "import numpy as np \n",
    "import pandas as pd \n",
    "import matplotlib.pyplot as plt\n",
    "from MySQLdb import connect\n",
    "%matplotlib inline"
   ]
  },
  {
   "cell_type": "code",
   "execution_count": 20,
   "metadata": {},
   "outputs": [],
   "source": [
    "class Model(nn.Module):\n",
    "    def __init__(self):\n",
    "        super().__init__()\n",
    "        self.spec_layer = nn.Linear(29, 64)\n",
    "        self.geo_layer = nn.Linear(7, 64)\n",
    "        \n",
    "        self.fc1 = nn.Linear(64, 64)\n",
    "        self.fc2 = nn.Linear(64, 19)\n",
    "    \n",
    "    def forward(self, spec, geo):\n",
    "        spec = self.spec_layer(spec)\n",
    "        spec = torch.relu(spec)\n",
    "        \n",
    "        geo = self.geo_layer(geo)\n",
    "        geo = torch.relu(geo)\n",
    "        \n",
    "        out = self.fc1(spec + geo)\n",
    "        out = torch.relu(out)\n",
    "        out = self.fc2(out)\n",
    "        out = torch.sigmoid(out)\n",
    "        \n",
    "        return out"
   ]
  },
  {
   "cell_type": "code",
   "execution_count": null,
   "metadata": {},
   "outputs": [],
   "source": [
    "class Model(nn.Module):\n",
    "    def __init__(self):\n",
    "        super().__init__()\n",
    "        self.spec_layer = nn.Linear(29, 64)\n",
    "        self.geo_layer = nn.Linear(7, 64)\n",
    "        \n",
    "        self.fc1 = nn.Linear(64, 64)\n",
    "        self.fc2 = nn.Linear(64, 1)\n",
    "    \n",
    "    def forward(self, spec, geo):\n",
    "        spec = self.spec_layer(spec)\n",
    "        spec = torch.relu(spec)\n",
    "        \n",
    "        geo = self.geo_layer(geo)\n",
    "        geo = torch.relu(geo)\n",
    "        \n",
    "        out = self.fc1(spec + geo)\n",
    "        out = torch.relu(out)\n",
    "        out = self.fc2(out)\n",
    "        out = torch.sigmoid(out)\n",
    "        \n",
    "        return out"
   ]
  },
  {
   "cell_type": "code",
   "execution_count": 22,
   "metadata": {},
   "outputs": [],
   "source": [
    "model = Model()\n",
    "loss_func = nn.MSELoss(reduction=\"sum\")\n",
    "optimizer = optim.Adam(lr=1e-4, params=model.parameters())"
   ]
  },
  {
   "cell_type": "code",
   "execution_count": 9,
   "metadata": {},
   "outputs": [
    {
     "data": {
      "text/html": [
       "<div>\n",
       "<style scoped>\n",
       "    .dataframe tbody tr th:only-of-type {\n",
       "        vertical-align: middle;\n",
       "    }\n",
       "\n",
       "    .dataframe tbody tr th {\n",
       "        vertical-align: top;\n",
       "    }\n",
       "\n",
       "    .dataframe thead th {\n",
       "        text-align: right;\n",
       "    }\n",
       "</style>\n",
       "<table border=\"1\" class=\"dataframe\">\n",
       "  <thead>\n",
       "    <tr style=\"text-align: right;\">\n",
       "      <th></th>\n",
       "      <th>id</th>\n",
       "      <th>idx</th>\n",
       "      <th>skin_b</th>\n",
       "      <th>skin_s</th>\n",
       "      <th>skin_w</th>\n",
       "      <th>skin_f</th>\n",
       "      <th>skin_m</th>\n",
       "      <th>fat_f</th>\n",
       "      <th>muscle_b</th>\n",
       "      <th>muscle_s</th>\n",
       "      <th>...</th>\n",
       "      <th>muscle_bmie</th>\n",
       "      <th>ijv_musp</th>\n",
       "      <th>cca_musp</th>\n",
       "      <th>geo_skin</th>\n",
       "      <th>geo_fat</th>\n",
       "      <th>geo_ijvr</th>\n",
       "      <th>geo_ijvd</th>\n",
       "      <th>geo_ccar</th>\n",
       "      <th>geo_ccad</th>\n",
       "      <th>geo_ijvcca</th>\n",
       "    </tr>\n",
       "  </thead>\n",
       "  <tbody>\n",
       "    <tr>\n",
       "      <th>0</th>\n",
       "      <td>1</td>\n",
       "      <td>rEex0Ikp72</td>\n",
       "      <td>0.001578</td>\n",
       "      <td>0.986756</td>\n",
       "      <td>0.185165</td>\n",
       "      <td>0.212165</td>\n",
       "      <td>0.012897</td>\n",
       "      <td>0.500404</td>\n",
       "      <td>0.038247</td>\n",
       "      <td>0.847001</td>\n",
       "      <td>...</td>\n",
       "      <td>2.799222</td>\n",
       "      <td>16.865398</td>\n",
       "      <td>15.316587</td>\n",
       "      <td>0.555695</td>\n",
       "      <td>0.968492</td>\n",
       "      <td>2.809574</td>\n",
       "      <td>14.908403</td>\n",
       "      <td>3.920479</td>\n",
       "      <td>22.581128</td>\n",
       "      <td>6.743225</td>\n",
       "    </tr>\n",
       "    <tr>\n",
       "      <th>1</th>\n",
       "      <td>2</td>\n",
       "      <td>G2ne6zkU9O</td>\n",
       "      <td>0.003130</td>\n",
       "      <td>0.999259</td>\n",
       "      <td>0.214317</td>\n",
       "      <td>0.246911</td>\n",
       "      <td>0.013295</td>\n",
       "      <td>0.803872</td>\n",
       "      <td>0.029362</td>\n",
       "      <td>0.812739</td>\n",
       "      <td>...</td>\n",
       "      <td>2.799222</td>\n",
       "      <td>16.865398</td>\n",
       "      <td>15.316587</td>\n",
       "      <td>0.555695</td>\n",
       "      <td>0.968492</td>\n",
       "      <td>2.809574</td>\n",
       "      <td>14.908403</td>\n",
       "      <td>3.920479</td>\n",
       "      <td>22.581128</td>\n",
       "      <td>6.743225</td>\n",
       "    </tr>\n",
       "    <tr>\n",
       "      <th>2</th>\n",
       "      <td>3</td>\n",
       "      <td>tQrojsJTKf</td>\n",
       "      <td>0.004095</td>\n",
       "      <td>0.992246</td>\n",
       "      <td>0.219400</td>\n",
       "      <td>0.252054</td>\n",
       "      <td>0.010603</td>\n",
       "      <td>0.658904</td>\n",
       "      <td>0.018714</td>\n",
       "      <td>0.567127</td>\n",
       "      <td>...</td>\n",
       "      <td>2.799222</td>\n",
       "      <td>16.865398</td>\n",
       "      <td>15.316587</td>\n",
       "      <td>0.555695</td>\n",
       "      <td>0.968492</td>\n",
       "      <td>2.809574</td>\n",
       "      <td>14.908403</td>\n",
       "      <td>3.920479</td>\n",
       "      <td>22.581128</td>\n",
       "      <td>6.743225</td>\n",
       "    </tr>\n",
       "    <tr>\n",
       "      <th>3</th>\n",
       "      <td>4</td>\n",
       "      <td>QT4wRfxVbs</td>\n",
       "      <td>0.001441</td>\n",
       "      <td>0.997800</td>\n",
       "      <td>0.213012</td>\n",
       "      <td>0.274114</td>\n",
       "      <td>0.014002</td>\n",
       "      <td>0.605281</td>\n",
       "      <td>0.011880</td>\n",
       "      <td>0.656199</td>\n",
       "      <td>...</td>\n",
       "      <td>2.799222</td>\n",
       "      <td>16.865398</td>\n",
       "      <td>15.316587</td>\n",
       "      <td>0.555695</td>\n",
       "      <td>0.968492</td>\n",
       "      <td>2.809574</td>\n",
       "      <td>14.908403</td>\n",
       "      <td>3.920479</td>\n",
       "      <td>22.581128</td>\n",
       "      <td>6.743225</td>\n",
       "    </tr>\n",
       "    <tr>\n",
       "      <th>4</th>\n",
       "      <td>5</td>\n",
       "      <td>BnhBpEoIUs</td>\n",
       "      <td>0.002893</td>\n",
       "      <td>0.995540</td>\n",
       "      <td>0.257708</td>\n",
       "      <td>0.225956</td>\n",
       "      <td>0.011420</td>\n",
       "      <td>0.841960</td>\n",
       "      <td>0.014797</td>\n",
       "      <td>0.612145</td>\n",
       "      <td>...</td>\n",
       "      <td>2.799222</td>\n",
       "      <td>16.865398</td>\n",
       "      <td>15.316587</td>\n",
       "      <td>0.555695</td>\n",
       "      <td>0.968492</td>\n",
       "      <td>2.809574</td>\n",
       "      <td>14.908403</td>\n",
       "      <td>3.920479</td>\n",
       "      <td>22.581128</td>\n",
       "      <td>6.743225</td>\n",
       "    </tr>\n",
       "  </tbody>\n",
       "</table>\n",
       "<p>5 rows × 28 columns</p>\n",
       "</div>"
      ],
      "text/plain": [
       "   id         idx    skin_b    skin_s    skin_w    skin_f    skin_m     fat_f  \\\n",
       "0   1  rEex0Ikp72  0.001578  0.986756  0.185165  0.212165  0.012897  0.500404   \n",
       "1   2  G2ne6zkU9O  0.003130  0.999259  0.214317  0.246911  0.013295  0.803872   \n",
       "2   3  tQrojsJTKf  0.004095  0.992246  0.219400  0.252054  0.010603  0.658904   \n",
       "3   4  QT4wRfxVbs  0.001441  0.997800  0.213012  0.274114  0.014002  0.605281   \n",
       "4   5  BnhBpEoIUs  0.002893  0.995540  0.257708  0.225956  0.011420  0.841960   \n",
       "\n",
       "   muscle_b  muscle_s     ...      muscle_bmie   ijv_musp   cca_musp  \\\n",
       "0  0.038247  0.847001     ...         2.799222  16.865398  15.316587   \n",
       "1  0.029362  0.812739     ...         2.799222  16.865398  15.316587   \n",
       "2  0.018714  0.567127     ...         2.799222  16.865398  15.316587   \n",
       "3  0.011880  0.656199     ...         2.799222  16.865398  15.316587   \n",
       "4  0.014797  0.612145     ...         2.799222  16.865398  15.316587   \n",
       "\n",
       "   geo_skin   geo_fat  geo_ijvr   geo_ijvd  geo_ccar   geo_ccad  geo_ijvcca  \n",
       "0  0.555695  0.968492  2.809574  14.908403  3.920479  22.581128    6.743225  \n",
       "1  0.555695  0.968492  2.809574  14.908403  3.920479  22.581128    6.743225  \n",
       "2  0.555695  0.968492  2.809574  14.908403  3.920479  22.581128    6.743225  \n",
       "3  0.555695  0.968492  2.809574  14.908403  3.920479  22.581128    6.743225  \n",
       "4  0.555695  0.968492  2.809574  14.908403  3.920479  22.581128    6.743225  \n",
       "\n",
       "[5 rows x 28 columns]"
      ]
     },
     "execution_count": 9,
     "metadata": {},
     "output_type": "execute_result"
    }
   ],
   "source": [
    "conn = connect(\n",
    "    host=\"140.112.174.26\",\n",
    "    user=\"md703\",\n",
    "    passwd=\"MD703\",\n",
    "    db=\"ijv\"\n",
    ")\n",
    "df = pd.read_sql(\"SELECT * FROM ijv_sim_spec\", con=conn)\n",
    "df.head()"
   ]
  },
  {
   "cell_type": "code",
   "execution_count": 48,
   "metadata": {},
   "outputs": [],
   "source": [
    "class SpecData(Dataset):\n",
    "    def __init__(self, df):\n",
    "        self.df = df\n",
    "        \n",
    "\n",
    "    def __getitem__(self, idx):\n",
    "        i = self.df[\"idx\"][idx]\n",
    "        path = \"train/spec/{}/{}.npy\".format(i, i)\n",
    "        spec = np.load(path)[5] # SDS: 20mm \n",
    "        spec = torch.tensor(spec).float()\n",
    "        \n",
    "        geo = self.df[[\"geo_skin\", \"geo_fat\", \"geo_ijvr\", \"geo_ijvd\", \"geo_ccar\", \"geo_ccad\", \"geo_ijvcca\"]].values[idx]\n",
    "        geo = torch.tensor(geo).float()\n",
    "        \n",
    "        param = self.df[['skin_b', 'skin_s', 'skin_w', 'skin_f', 'skin_m', 'fat_f',\n",
    "       'muscle_b', 'muscle_s', 'muscle_w', 'ijv_s', 'cca_s', 'skin_musp',\n",
    "       'skin_bmie', 'fat_musp', 'fat_bmie', 'muscle_musp', 'muscle_bmie',\n",
    "       'ijv_musp', 'cca_musp']].values[idx]\n",
    "        param = torch.tensor(param).float()\n",
    "        return spec, geo, param\n",
    "    \n",
    "    def __len__(self):\n",
    "        return len(self.df)\n"
   ]
  },
  {
   "cell_type": "code",
   "execution_count": null,
   "metadata": {},
   "outputs": [],
   "source": [
    "dataset = SpecData(df)\n",
    "dataloader = DataLoader(dataset, batch_size=8,\n",
    "                        shuffle=True, num_workers=1)"
   ]
  },
  {
   "cell_type": "code",
   "execution_count": 62,
   "metadata": {},
   "outputs": [],
   "source": [
    "lr_list = []\n",
    "loss_list = []"
   ]
  },
  {
   "cell_type": "code",
   "execution_count": null,
   "metadata": {},
   "outputs": [
    {
     "name": "stdout",
     "output_type": "stream",
     "text": [
      "loss:  14986.078125\n",
      "loss:  11996.8466796875\n",
      "loss:  15086.84765625\n",
      "loss:  12594.4482421875\n",
      "loss:  12594.3984375\n",
      "loss:  15345.001953125\n",
      "loss:  12894.44140625\n",
      "epoch:  64\r"
     ]
    }
   ],
   "source": [
    "for epoch in range(1000):\n",
    "    print(\"epoch: \", epoch, end=\"\\r\")\n",
    "    for i, (spec, geo, param) in enumerate(dataloader):\n",
    "        optimizer.zero_grad()\n",
    "        predict = model(spec, geo)\n",
    "        loss = loss_func(predict, param)\n",
    "        loss.backward()\n",
    "        optimizer.step()\n",
    "    loss_list += [float(loss.data)]\n",
    "    lr_list += [optimizer.param_groups[0][\"lr\"]]\n",
    "    if epoch % 10 == 0:\n",
    "        print(\"loss: \", loss_list[-1])\n",
    "    "
   ]
  },
  {
   "cell_type": "code",
   "execution_count": 65,
   "metadata": {},
   "outputs": [
    {
     "data": {
      "text/plain": [
       "[<matplotlib.lines.Line2D at 0x7f2e9bf70940>]"
      ]
     },
     "execution_count": 65,
     "metadata": {},
     "output_type": "execute_result"
    },
    {
     "data": {
      "image/png": "[encoded data removed]",
      "text/plain": [
       "<Figure size 432x288 with 1 Axes>"
      ]
     },
     "metadata": {
      "needs_background": "light"
     },
     "output_type": "display_data"
    }
   ],
   "source": [
    "# plt.plot(lr_list)\n",
    "plt.plot(loss_list)"
   ]
  },
  {
   "cell_type": "code",
   "execution_count": 58,
   "metadata": {},
   "outputs": [
    {
     "data": {
      "text/plain": [
       "0.0001"
      ]
     },
     "execution_count": 58,
     "metadata": {},
     "output_type": "execute_result"
    }
   ],
   "source": []
  },
  {
   "cell_type": "markdown",
   "metadata": {},
   "source": [
    "#### 測試區"
   ]
  },
  {
   "cell_type": "code",
   "execution_count": 13,
   "metadata": {},
   "outputs": [
    {
     "data": {
      "text/plain": [
       "Index(['id', 'idx', 'skin_b', 'skin_s', 'skin_w', 'skin_f', 'skin_m', 'fat_f',\n",
       "       'muscle_b', 'muscle_s', 'muscle_w', 'ijv_s', 'cca_s', 'skin_musp',\n",
       "       'skin_bmie', 'fat_musp', 'fat_bmie', 'muscle_musp', 'muscle_bmie',\n",
       "       'ijv_musp', 'cca_musp', 'geo_skin', 'geo_fat', 'geo_ijvr', 'geo_ijvd',\n",
       "       'geo_ccar', 'geo_ccad', 'geo_ijvcca'],\n",
       "      dtype='object')"
      ]
     },
     "execution_count": 13,
     "metadata": {},
     "output_type": "execute_result"
    }
   ],
   "source": [
    "df.columns"
   ]
  },
  {
   "cell_type": "code",
   "execution_count": 17,
   "metadata": {},
   "outputs": [
    {
     "data": {
      "text/plain": [
       "tensor([ 0.5557,  0.9685,  2.8096, 14.9084,  3.9205, 22.5811,  6.7432],\n",
       "       dtype=torch.float64)"
      ]
     },
     "execution_count": 17,
     "metadata": {},
     "output_type": "execute_result"
    }
   ],
   "source": [
    "torch.tensor(df[[\"geo_skin\", \"geo_fat\", \"geo_ijvr\", \"geo_ijvd\", \"geo_ccar\", \"geo_ccad\", \"geo_ijvcca\"]].values[1]\n",
    ")"
   ]
  },
  {
   "cell_type": "code",
   "execution_count": null,
   "metadata": {},
   "outputs": [],
   "source": []
  },
  {
   "cell_type": "code",
   "execution_count": null,
   "metadata": {},
   "outputs": [],
   "source": [
    "spec = torch.rand(100, 29)\n",
    "geo = torch.rand(100, 7)\n",
    "y = model(spec, geo)\n",
    "y.shape"
   ]
  },
  {
   "cell_type": "code",
   "execution_count": 2,
   "metadata": {},
   "outputs": [],
   "source": [
    "x = np.load(\"train/spec/bU6cajDHxS/bU6cajDHxS.npy\")"
   ]
  },
  {
   "cell_type": "code",
   "execution_count": 4,
   "metadata": {},
   "outputs": [
    {
     "data": {
      "text/plain": [
       "tensor([[1.0408e-06, 1.0324e-06, 1.0034e-06, 9.5299e-07, 9.3924e-07, 9.5263e-07,\n",
       "         9.7319e-07, 9.3268e-07, 8.8969e-07, 8.7825e-07, 8.4541e-07, 8.1464e-07,\n",
       "         7.6760e-07, 7.7507e-07, 7.6680e-07, 7.4076e-07, 7.1105e-07, 7.1413e-07,\n",
       "         6.6429e-07, 6.4713e-07, 6.2505e-07, 6.2822e-07, 6.0908e-07, 5.9282e-07,\n",
       "         5.6927e-07, 5.9081e-07, 5.6350e-07, 5.2947e-07, 5.1831e-07],\n",
       "        [6.9771e-07, 6.8707e-07, 6.8903e-07, 7.2644e-07, 6.9338e-07, 6.9638e-07,\n",
       "         6.8564e-07, 6.7437e-07, 6.0486e-07, 5.8981e-07, 5.6721e-07, 5.2133e-07,\n",
       "         5.4799e-07, 5.4664e-07, 5.4748e-07, 5.0134e-07, 4.9878e-07, 4.8709e-07,\n",
       "         4.7273e-07, 4.6758e-07, 4.2331e-07, 4.6610e-07, 4.2094e-07, 4.1544e-07,\n",
       "         3.9125e-07, 3.7711e-07, 3.7129e-07, 3.6829e-07, 3.1805e-07],\n",
       "        [3.6464e-07, 3.4948e-07, 3.5824e-07, 3.4661e-07, 3.6648e-07, 3.5867e-07,\n",
       "         3.1745e-07, 3.2999e-07, 3.4104e-07, 3.1161e-07, 2.7153e-07, 2.8408e-07,\n",
       "         2.8178e-07, 2.7281e-07, 2.6298e-07, 2.4808e-07, 2.5452e-07, 2.6510e-07,\n",
       "         2.2611e-07, 2.3151e-07, 2.1383e-07, 2.0605e-07, 2.1123e-07, 1.9998e-07,\n",
       "         1.8349e-07, 1.9153e-07, 1.9610e-07, 1.8665e-07, 1.7270e-07],\n",
       "        [4.5577e-07, 4.3368e-07, 4.5432e-07, 4.5246e-07, 4.2519e-07, 4.2060e-07,\n",
       "         4.2525e-07, 4.1898e-07, 4.1765e-07, 3.9162e-07, 3.4141e-07, 3.4535e-07,\n",
       "         3.5591e-07, 3.3628e-07, 3.2822e-07, 3.0099e-07, 3.1086e-07, 3.0121e-07,\n",
       "         2.9802e-07, 2.7216e-07, 2.7480e-07, 2.7911e-07, 2.4886e-07, 2.4473e-07,\n",
       "         2.4877e-07, 2.1547e-07, 2.3556e-07, 2.1343e-07, 2.0093e-07],\n",
       "        [4.4751e-07, 4.4134e-07, 4.2754e-07, 4.2521e-07, 4.4065e-07, 4.3195e-07,\n",
       "         4.1775e-07, 3.9869e-07, 3.8978e-07, 3.7640e-07, 3.6026e-07, 3.6142e-07,\n",
       "         3.3286e-07, 3.3449e-07, 3.2474e-07, 3.0609e-07, 3.0563e-07, 2.8572e-07,\n",
       "         2.7336e-07, 2.7495e-07, 2.6866e-07, 2.7876e-07, 2.3522e-07, 2.4158e-07,\n",
       "         2.3598e-07, 2.3541e-07, 2.2204e-07, 2.0003e-07, 1.9168e-07],\n",
       "        [1.0324e-06, 1.0573e-06, 1.0990e-06, 1.1398e-06, 1.1923e-06, 1.1298e-06,\n",
       "         1.1996e-06, 1.1827e-06, 1.1495e-06, 1.0625e-06, 9.8472e-07, 8.5260e-07,\n",
       "         8.8069e-07, 8.6869e-07, 8.8394e-07, 8.0651e-07, 7.9102e-07, 7.5435e-07,\n",
       "         7.2070e-07, 6.6322e-07, 6.5577e-07, 6.3949e-07, 5.9277e-07, 5.7787e-07,\n",
       "         5.3083e-07, 5.1694e-07, 4.9090e-07, 4.6069e-07, 4.4574e-07],\n",
       "        [8.0812e-07, 8.7146e-07, 9.1096e-07, 9.4197e-07, 9.6663e-07, 9.8548e-07,\n",
       "         9.9599e-07, 9.9995e-07, 9.9804e-07, 9.5950e-07, 8.2215e-07, 7.5432e-07,\n",
       "         7.5974e-07, 7.7683e-07, 7.3513e-07, 7.3205e-07, 7.3392e-07, 6.7411e-07,\n",
       "         6.4359e-07, 5.8805e-07, 5.8492e-07, 5.5885e-07, 5.4304e-07, 5.0200e-07,\n",
       "         5.0448e-07, 4.4141e-07, 4.5545e-07, 4.2542e-07, 3.8541e-07],\n",
       "        [6.7651e-07, 7.4788e-07, 7.8784e-07, 8.5183e-07, 8.6912e-07, 8.6859e-07,\n",
       "         8.8360e-07, 9.4073e-07, 9.0284e-07, 8.5384e-07, 7.5227e-07, 6.8614e-07,\n",
       "         7.2344e-07, 6.9441e-07, 7.2670e-07, 6.8503e-07, 6.7136e-07, 6.2728e-07,\n",
       "         5.9306e-07, 5.7502e-07, 5.4828e-07, 5.3824e-07, 4.9949e-07, 4.9103e-07,\n",
       "         4.4381e-07, 4.2966e-07, 4.3178e-07, 3.9607e-07, 3.5941e-07]],\n",
       "       dtype=torch.float64)"
      ]
     },
     "execution_count": 4,
     "metadata": {},
     "output_type": "execute_result"
    }
   ],
   "source": [
    "torch.tensor(x)"
   ]
  },
  {
   "cell_type": "code",
   "execution_count": null,
   "metadata": {},
   "outputs": [],
   "source": []
  },
  {
   "cell_type": "code",
   "execution_count": null,
   "metadata": {},
   "outputs": [],
   "source": []
  }
 ],
 "metadata": {
  "kernelspec": {
   "display_name": "Python 3",
   "language": "python",
   "name": "python3"
  },
  "language_info": {
   "codemirror_mode": {
    "name": "ipython",
    "version": 3
   },
   "file_extension": ".py",
   "mimetype": "text/x-python",
   "name": "python",
   "nbconvert_exporter": "python",
   "pygments_lexer": "ipython3",
   "version": "3.6.4"
  }
 },
 "nbformat": 4,
 "nbformat_minor": 2
}
