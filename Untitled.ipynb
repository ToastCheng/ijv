{
 "cells": [
  {
   "cell_type": "code",
   "execution_count": 18,
   "metadata": {},
   "outputs": [],
   "source": [
    "import torch\n",
    "import torch.nn as nn\n",
    "import torch.optim as optim\n",
    "import torch.nn.functional as F\n",
    "\n",
    "import numpy as np \n",
    "import matplotlib.pyplot as plt\n",
    "\n",
    "%matplotlib inline"
   ]
  },
  {
   "cell_type": "code",
   "execution_count": 54,
   "metadata": {},
   "outputs": [],
   "source": [
    "class Model(nn.Module):\n",
    "    def __init__(self):\n",
    "        super().__init__()\n",
    "        self.spec_layer = nn.Linear(29, 64)\n",
    "        self.geo_layer = nn.Linear(7, 64)\n",
    "        \n",
    "        self.fc1 = nn.Linear(64, 64)\n",
    "        self.fc2 = nn.Linear(64, 19)\n",
    "    \n",
    "    def forward(self, spec, geo):\n",
    "        spec = self.spec_layer(spec)\n",
    "        spec = torch.relu(spec)\n",
    "        \n",
    "        geo = self.geo_layer(geo)\n",
    "        geo = torch.relu(geo)\n",
    "        \n",
    "        out = self.fc1(spec + geo)\n",
    "        out = torch.relu(out)\n",
    "        out = self.fc2(out)\n",
    "        out = torch.sigmoid(out)\n",
    "        \n",
    "        return out"
   ]
  },
  {
   "cell_type": "code",
   "execution_count": 50,
   "metadata": {},
   "outputs": [],
   "source": [
    "model = Model()\n",
    "loss = nn.MSELoss(reduction=\"sum\")\n",
    "optimizer = optim.Adam(lr=1e-4, params=model.parameters())"
   ]
  },
  {
   "cell_type": "code",
   "execution_count": 51,
   "metadata": {},
   "outputs": [],
   "source": [
    "spec = torch.rand(100, 29)\n",
    "geo = torch.rand(100, 7)"
   ]
  },
  {
   "cell_type": "code",
   "execution_count": 52,
   "metadata": {},
   "outputs": [
    {
     "data": {
      "text/plain": [
       "torch.Size([100, 26])"
      ]
     },
     "execution_count": 52,
     "metadata": {},
     "output_type": "execute_result"
    }
   ],
   "source": [
    "y = model(spec, geo)\n",
    "y.shape"
   ]
  },
  {
   "cell_type": "code",
   "execution_count": 53,
   "metadata": {},
   "outputs": [
    {
     "data": {
      "text/plain": [
       "tensor([[0.4587, 0.5275, 0.4734,  ..., 0.4953, 0.5064, 0.5431],\n",
       "        [0.4597, 0.5208, 0.4878,  ..., 0.4985, 0.4934, 0.5300],\n",
       "        [0.4610, 0.5410, 0.4828,  ..., 0.5103, 0.4946, 0.5288],\n",
       "        ...,\n",
       "        [0.4719, 0.5409, 0.4827,  ..., 0.4966, 0.5026, 0.5444],\n",
       "        [0.4796, 0.5162, 0.4911,  ..., 0.4939, 0.4975, 0.5546],\n",
       "        [0.4678, 0.5472, 0.4742,  ..., 0.5070, 0.4860, 0.5465]],\n",
       "       grad_fn=<SigmoidBackward>)"
      ]
     },
     "execution_count": 53,
     "metadata": {},
     "output_type": "execute_result"
    }
   ],
   "source": [
    "y"
   ]
  },
  {
   "cell_type": "code",
   "execution_count": null,
   "metadata": {},
   "outputs": [],
   "source": []
  }
 ],
 "metadata": {
  "kernelspec": {
   "display_name": "Python 3",
   "language": "python",
   "name": "python3"
  },
  "language_info": {
   "codemirror_mode": {
    "name": "ipython",
    "version": 3
   },
   "file_extension": ".py",
   "mimetype": "text/x-python",
   "name": "python",
   "nbconvert_exporter": "python",
   "pygments_lexer": "ipython3",
   "version": "3.7.3"
  }
 },
 "nbformat": 4,
 "nbformat_minor": 2
}
