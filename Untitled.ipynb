{
 "cells": [
  {
   "cell_type": "code",
   "execution_count": 1,
   "metadata": {},
   "outputs": [],
   "source": [
    "import pandas as pd \n",
    "import numpy as np \n",
    "from glob import glob\n",
    "import matplotlib.pyplot as plt \n",
    "\n",
    "%matplotlib inline"
   ]
  },
  {
   "cell_type": "code",
   "execution_count": 7,
   "metadata": {},
   "outputs": [
    {
     "name": "stdout",
     "output_type": "stream",
     "text": [
      "hwfm_1_1.png hwfm_1_3.png live_1_1.png live_1_2.png live_1_3.png\n",
      "hwfm_1_2.png live_1_1.csv live_1_2.csv live_1_3.csv\n",
      "hwfm_c.png    hwfm_k.png    phantom_e.csv phantom_i.csv phantom_n.csv\n",
      "hwfm_e.png    hwfm_n.png    phantom_e.png phantom_i.png phantom_n.png\n",
      "hwfm_h.png    phantom_c.csv phantom_h.csv phantom_k.csv\n",
      "hwfm_i.png    phantom_c.png phantom_h.png phantom_k.png\n"
     ]
    }
   ],
   "source": [
    "!ls data/processed/20190510/muscle/live\n",
    "!ls data/processed/20190510/muscle/phantom"
   ]
  },
  {
   "cell_type": "code",
   "execution_count": 6,
   "metadata": {},
   "outputs": [],
   "source": [
    "phantom_list = glob(\"data/processed/20190510/muscle/phantom/*.csv\")\n",
    "live_list = glob(\"data/processed/20190510/muscle/live/*.csv\")\n"
   ]
  },
  {
   "cell_type": "code",
   "execution_count": null,
   "metadata": {},
   "outputs": [],
   "source": []
  }
 ],
 "metadata": {
  "kernelspec": {
   "display_name": "Python 3",
   "language": "python",
   "name": "python3"
  },
  "language_info": {
   "codemirror_mode": {
    "name": "ipython",
    "version": 3
   },
   "file_extension": ".py",
   "mimetype": "text/x-python",
   "name": "python",
   "nbconvert_exporter": "python",
   "pygments_lexer": "ipython3",
   "version": "3.7.3"
  }
 },
 "nbformat": 4,
 "nbformat_minor": 2
}
