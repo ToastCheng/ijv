{
 "cells": [
  {
   "cell_type": "code",
   "execution_count": 1,
   "metadata": {},
   "outputs": [],
   "source": [
    "import pandas as pd \n",
    "import numpy as np \n",
    "from glob import glob\n",
    "import matplotlib.pyplot as plt \n",
    "\n",
    "%matplotlib inline"
   ]
  },
  {
   "cell_type": "code",
   "execution_count": 7,
   "metadata": {},
   "outputs": [
    {
     "name": "stdout",
     "output_type": "stream",
     "text": [
      "hwfm_1_1.png hwfm_1_3.png live_1_1.png live_1_2.png live_1_3.png\n",
      "hwfm_1_2.png live_1_1.csv live_1_2.csv live_1_3.csv\n",
      "hwfm_c.png    hwfm_k.png    phantom_e.csv phantom_i.csv phantom_n.csv\n",
      "hwfm_e.png    hwfm_n.png    phantom_e.png phantom_i.png phantom_n.png\n",
      "hwfm_h.png    phantom_c.csv phantom_h.csv phantom_k.csv\n",
      "hwfm_i.png    phantom_c.png phantom_h.png phantom_k.png\n"
     ]
    }
   ],
   "source": [
    "!ls data/processed/20190510/muscle/live\n",
    "!ls data/processed/20190510/muscle/phantom"
   ]
  },
  {
   "cell_type": "code",
   "execution_count": 26,
   "metadata": {},
   "outputs": [
    {
     "data": {
      "text/plain": [
       "(4, 5, 36)"
      ]
     },
     "execution_count": 26,
     "metadata": {},
     "output_type": "execute_result"
    }
   ],
   "source": [
    "phantom_list = glob(\"data/processed/20190510/muscle/phantom/*.csv\")\n",
    "phantom = np.random.rand(4, 5, 36)\n",
    "# live_list = glob(\"data/processed/20190510/muscle/live/*.csv\")\n",
    "phantom.shape"
   ]
  },
  {
   "cell_type": "code",
   "execution_count": 27,
   "metadata": {},
   "outputs": [
    {
     "data": {
      "text/plain": [
       "(4, 5, 36)"
      ]
     },
     "execution_count": 27,
     "metadata": {},
     "output_type": "execute_result"
    }
   ],
   "source": [
    "phantom_measure = []\n",
    "for p in \"chik\":\n",
    "    path = \"data/processed/20190510/muscle/phantom/phantom_{}.csv\".format(p)\n",
    "    phantom_measure += [pd.read_csv(path).values.T[1:]] # 波長不用取\n",
    "phantom_measure = np.asarray(phantom_measure)\n",
    "\n",
    "phantom_measure.shape"
   ]
  },
  {
   "cell_type": "code",
   "execution_count": 33,
   "metadata": {},
   "outputs": [
    {
     "data": {
      "text/plain": [
       "array([[[  1,   2,   3],\n",
       "        [  4,   5,   6]],\n",
       "\n",
       "       [[ 10,  20,  30],\n",
       "        [ 40,  50,  60]],\n",
       "\n",
       "       [[100, 200, 300],\n",
       "        [400, 500, 600]]])"
      ]
     },
     "execution_count": 33,
     "metadata": {},
     "output_type": "execute_result"
    }
   ],
   "source": [
    "test = np.asarray([[[1, 2, 3], [4, 5, 6]],\n",
    "           [[10, 20, 30], [40, 50, 60]],\n",
    "           [[100, 200, 300], [400, 500, 600]\n",
    "           ]])\n",
    "test"
   ]
  },
  {
   "cell_type": "code",
   "execution_count": 31,
   "metadata": {},
   "outputs": [
    {
     "data": {
      "text/plain": [
       "array([  1,   4,  10,  40, 100, 400])"
      ]
     },
     "execution_count": 31,
     "metadata": {},
     "output_type": "execute_result"
    }
   ],
   "source": [
    "test[:, :, 0].reshape(-1)"
   ]
  },
  {
   "cell_type": "code",
   "execution_count": 37,
   "metadata": {},
   "outputs": [
    {
     "data": {
      "text/plain": [
       "array([[  1,   4,  10,  40, 100, 400],\n",
       "       [  2,   5,  20,  50, 200, 500],\n",
       "       [  3,   6,  30,  60, 300, 600]])"
      ]
     },
     "execution_count": 37,
     "metadata": {},
     "output_type": "execute_result"
    }
   ],
   "source": [
    "test.transpose((2, 0, 1)).reshape(test.shape[2], -1)"
   ]
  },
  {
   "cell_type": "code",
   "execution_count": 38,
   "metadata": {},
   "outputs": [
    {
     "data": {
      "text/plain": [
       "array([[[  1,   4],\n",
       "        [ 10,  40],\n",
       "        [100, 400]],\n",
       "\n",
       "       [[  2,   5],\n",
       "        [ 20,  50],\n",
       "        [200, 500]],\n",
       "\n",
       "       [[  3,   6],\n",
       "        [ 30,  60],\n",
       "        [300, 600]]])"
      ]
     },
     "execution_count": 38,
     "metadata": {},
     "output_type": "execute_result"
    }
   ],
   "source": [
    "test.transpose((2, 0, 1))"
   ]
  },
  {
   "cell_type": "code",
   "execution_count": null,
   "metadata": {},
   "outputs": [],
   "source": []
  }
 ],
 "metadata": {
  "kernelspec": {
   "display_name": "Python 3",
   "language": "python",
   "name": "python3"
  },
  "language_info": {
   "codemirror_mode": {
    "name": "ipython",
    "version": 3
   },
   "file_extension": ".py",
   "mimetype": "text/x-python",
   "name": "python",
   "nbconvert_exporter": "python",
   "pygments_lexer": "ipython3",
   "version": "3.7.3"
  }
 },
 "nbformat": 4,
 "nbformat_minor": 2
}
