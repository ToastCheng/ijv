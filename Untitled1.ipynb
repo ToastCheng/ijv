{
 "cells": [
  {
   "cell_type": "code",
   "execution_count": 85,
   "metadata": {},
   "outputs": [],
   "source": [
    "import os\n",
    "import pandas as pd \n",
    "import numpy as np \n",
    "from glob import glob\n",
    "\n",
    "import matplotlib.pyplot as plt\n",
    "\n",
    "%matplotlib inline"
   ]
  },
  {
   "cell_type": "code",
   "execution_count": 15,
   "metadata": {},
   "outputs": [],
   "source": [
    "os.chdir(\"..\")"
   ]
  },
  {
   "cell_type": "code",
   "execution_count": 4,
   "metadata": {},
   "outputs": [],
   "source": [
    "inp = glob(\"*\")"
   ]
  },
  {
   "cell_type": "code",
   "execution_count": 5,
   "metadata": {},
   "outputs": [],
   "source": [
    "os.chdir(\"../output\")\n",
    "out = glob(\"*\")"
   ]
  },
  {
   "cell_type": "code",
   "execution_count": 6,
   "metadata": {},
   "outputs": [
    {
     "data": {
      "text/plain": [
       "6196"
      ]
     },
     "execution_count": 6,
     "metadata": {},
     "output_type": "execute_result"
    }
   ],
   "source": [
    "len(inp)"
   ]
  },
  {
   "cell_type": "code",
   "execution_count": 7,
   "metadata": {},
   "outputs": [
    {
     "data": {
      "text/plain": [
       "5945"
      ]
     },
     "execution_count": 7,
     "metadata": {},
     "output_type": "execute_result"
    }
   ],
   "source": [
    "len(out)"
   ]
  },
  {
   "cell_type": "code",
   "execution_count": 10,
   "metadata": {},
   "outputs": [],
   "source": [
    "both_have = []\n",
    "for i in inp:\n",
    "    if i in out:\n",
    "        both_have += [i]"
   ]
  },
  {
   "cell_type": "code",
   "execution_count": 11,
   "metadata": {},
   "outputs": [
    {
     "data": {
      "text/plain": [
       "5944"
      ]
     },
     "execution_count": 11,
     "metadata": {},
     "output_type": "execute_result"
    }
   ],
   "source": [
    "len(both_have)"
   ]
  },
  {
   "cell_type": "code",
   "execution_count": 24,
   "metadata": {},
   "outputs": [],
   "source": [
    "i = [[] for i in range(14)]\n",
    "o = [[] for i in range(5)]\n",
    "for bh in both_have:\n",
    "    ii = np.loadtxt(\"input/{}\".format(bh))\n",
    "    oo = np.loadtxt(\"output/{}\".format(bh))\n",
    "    for num in range(14):\n",
    "        i[num] += [ii[num]]\n",
    "    for num in range(5):\n",
    "        o[num] += [oo[num]]\n",
    "\n",
    "dict_ = {\n",
    "    \"up_thick\": i[0],\n",
    "    \"up_mua\": i[1],\n",
    "    \"up_mus\": i[2],\n",
    "    \"up_n\": i[3],\n",
    "    \"up_g\": i[4],\n",
    "    \"mid_thick\": i[5],\n",
    "    \"mid_mua\": i[6],\n",
    "    \"mid_mus\": i[7],\n",
    "    \"mud_n\": i[8],\n",
    "    \"mid_g\": i[9],\n",
    "    \"third_mua\": i[10],\n",
    "    \"third_mus\": i[11],\n",
    "    \"third_n\": i[12],\n",
    "    \"third_g\": i[13],\n",
    "    \"reflectance_0\": o[0],\n",
    "    \"reflectance_1\": o[1],\n",
    "    \"reflectance_2\": o[2],\n",
    "    \"reflectance_3\": o[3],\n",
    "    \"reflectance_4\": o[4],  \n",
    "}\n",
    "\n",
    "df = pd.DataFrame(dict_)"
   ]
  },
  {
   "cell_type": "code",
   "execution_count": 26,
   "metadata": {},
   "outputs": [],
   "source": [
    "df.to_csv(\"dataset1.csv\", index=None)"
   ]
  },
  {
   "cell_type": "code",
   "execution_count": 27,
   "metadata": {},
   "outputs": [
    {
     "data": {
      "text/html": [
       "<div>\n",
       "<style scoped>\n",
       "    .dataframe tbody tr th:only-of-type {\n",
       "        vertical-align: middle;\n",
       "    }\n",
       "\n",
       "    .dataframe tbody tr th {\n",
       "        vertical-align: top;\n",
       "    }\n",
       "\n",
       "    .dataframe thead th {\n",
       "        text-align: right;\n",
       "    }\n",
       "</style>\n",
       "<table border=\"1\" class=\"dataframe\">\n",
       "  <thead>\n",
       "    <tr style=\"text-align: right;\">\n",
       "      <th></th>\n",
       "      <th>up_thick</th>\n",
       "      <th>up_mua</th>\n",
       "      <th>up_mus</th>\n",
       "      <th>up_n</th>\n",
       "      <th>up_g</th>\n",
       "      <th>mid_thick</th>\n",
       "      <th>mid_mua</th>\n",
       "      <th>mid_mus</th>\n",
       "      <th>mud_n</th>\n",
       "      <th>mid_g</th>\n",
       "      <th>third_mua</th>\n",
       "      <th>third_mus</th>\n",
       "      <th>third_n</th>\n",
       "      <th>third_g</th>\n",
       "      <th>reflectance_0</th>\n",
       "      <th>reflectance_1</th>\n",
       "      <th>reflectance_2</th>\n",
       "      <th>reflectance_3</th>\n",
       "      <th>reflectance_4</th>\n",
       "    </tr>\n",
       "  </thead>\n",
       "  <tbody>\n",
       "    <tr>\n",
       "      <th>0</th>\n",
       "      <td>0.167013</td>\n",
       "      <td>8.134856</td>\n",
       "      <td>168.039293</td>\n",
       "      <td>1.355544</td>\n",
       "      <td>0.116576</td>\n",
       "      <td>0.207034</td>\n",
       "      <td>2.300444</td>\n",
       "      <td>35.49293</td>\n",
       "      <td>1.374054</td>\n",
       "      <td>0.697861</td>\n",
       "      <td>0.068905</td>\n",
       "      <td>22.613261</td>\n",
       "      <td>1.363596</td>\n",
       "      <td>0.021698</td>\n",
       "      <td>8.646570e-14</td>\n",
       "      <td>0.0</td>\n",
       "      <td>0.0</td>\n",
       "      <td>0.0</td>\n",
       "      <td>0.0</td>\n",
       "    </tr>\n",
       "  </tbody>\n",
       "</table>\n",
       "</div>"
      ],
      "text/plain": [
       "   up_thick    up_mua      up_mus      up_n      up_g  mid_thick   mid_mua  \\\n",
       "0  0.167013  8.134856  168.039293  1.355544  0.116576   0.207034  2.300444   \n",
       "\n",
       "    mid_mus     mud_n     mid_g  third_mua  third_mus   third_n   third_g  \\\n",
       "0  35.49293  1.374054  0.697861   0.068905  22.613261  1.363596  0.021698   \n",
       "\n",
       "   reflectance_0  reflectance_1  reflectance_2  reflectance_3  reflectance_4  \n",
       "0   8.646570e-14            0.0            0.0            0.0            0.0  "
      ]
     },
     "execution_count": 27,
     "metadata": {},
     "output_type": "execute_result"
    }
   ],
   "source": [
    "df.head(1)"
   ]
  },
  {
   "cell_type": "code",
   "execution_count": 117,
   "metadata": {},
   "outputs": [],
   "source": [
    "import torch\n",
    "import torch.nn as nn\n",
    "import torch.optim as optim\n",
    "from torch.utils.data import Dataset, DataLoader\n",
    "\n",
    "class Muscle(nn.Module):\n",
    "    def __init__(self):\n",
    "        super(Muscle, self).__init__()\n",
    "        self.fc1 = nn.Linear(14, 128)\n",
    "        self.bn1 = nn.BatchNorm1d(128)\n",
    "        self.fc2 = nn.Linear(128, 128)\n",
    "        self.bn2 = nn.BatchNorm1d(128)\n",
    "        self.fc3 = nn.Linear(128, 64)\n",
    "        self.bn3 = nn.BatchNorm1d(64)\n",
    "        self.fc4 = nn.Linear(64, 5)\n",
    "\n",
    "    def forward(self, x):\n",
    "        x = self.fc1(x)\n",
    "        x = self.bn1(x)\n",
    "        x = torch.tanh(x)\n",
    "        x = self.fc2(x)\n",
    "        x = self.bn2(x)\n",
    "        x = torch.tanh(x)\n",
    "        x = self.fc3(x)\n",
    "        x = self.bn3(x)\n",
    "        x = torch.tanh(x)\n",
    "        x = self.fc4(x)\n",
    "        return x"
   ]
  },
  {
   "cell_type": "code",
   "execution_count": 118,
   "metadata": {},
   "outputs": [],
   "source": [
    "model = Muscle()"
   ]
  },
  {
   "cell_type": "code",
   "execution_count": 119,
   "metadata": {},
   "outputs": [],
   "source": [
    "optimizer = optim.Adam(params=model.parameters(), lr=1e-3)\n",
    "loss_func = nn.MSELoss()"
   ]
  },
  {
   "cell_type": "code",
   "execution_count": 113,
   "metadata": {},
   "outputs": [],
   "source": [
    "class MuscleData(Dataset):\n",
    "    def __init__(self, df):\n",
    "        self.df = df\n",
    "\n",
    "    def __getitem__(self, idx):\n",
    "        x = torch.FloatTensor(self.df.values[idx][:14])\n",
    "        y = torch.FloatTensor(self.df.values[idx][14:]) * 1e8\n",
    "\n",
    "        return x, y\n",
    "        \n",
    "    def __len__(self):\n",
    "        return len(self.df)"
   ]
  },
  {
   "cell_type": "code",
   "execution_count": 123,
   "metadata": {},
   "outputs": [],
   "source": [
    "train_data = MuscleData(df[1000:])\n",
    "valid_data = MuscleData(df[:1000])\n",
    "train_loader = DataLoader(train_data, shuffle=True, batch_size=8)\n",
    "valid_loader = DataLoader(valid_data)"
   ]
  },
  {
   "cell_type": "code",
   "execution_count": 115,
   "metadata": {},
   "outputs": [],
   "source": [
    "loss_ls = []"
   ]
  },
  {
   "cell_type": "code",
   "execution_count": 125,
   "metadata": {},
   "outputs": [
    {
     "name": "stdout",
     "output_type": "stream",
     "text": [
      "epoch:   99 | loss: 7.1427e+02 | valid: 4.6541e+02\r"
     ]
    }
   ],
   "source": [
    "for epoch in range(100):\n",
    "    loss_ = []\n",
    "    for idx, (x, y) in enumerate(train_loader):\n",
    "        optimizer.zero_grad()\n",
    "        pred = model(x)\n",
    "        loss = loss_func(pred, y)\n",
    "        loss.backward()\n",
    "        loss_ += [float(loss)]\n",
    "        optimizer.step()\n",
    "    model.eval()\n",
    "    valid_loss = []\n",
    "    for x, y in valid_loader:\n",
    "        pred = model(x)\n",
    "        valid_loss += [float(loss_func(pred, y))]\n",
    "    model.train()   \n",
    "    loss_ls += [np.mean(loss_)]\n",
    "    print(\"epoch: {:4d} | loss: {:.4e} | valid: {:.4e}\".format(\n",
    "        epoch, np.mean(loss_), np.mean(valid_loss)), end=\"\\r\")"
   ]
  },
  {
   "cell_type": "code",
   "execution_count": 121,
   "metadata": {},
   "outputs": [
    {
     "data": {
      "text/plain": [
       "(tensor([[158.3299,  67.7940,  48.6488,  24.3530,  12.4910],\n",
       "         [  9.3700,   3.7302,   2.6371,   1.3308,   0.6306],\n",
       "         [ -5.7498,  -2.2984,  -1.6255,  -0.8393,  -0.4201],\n",
       "         [  2.2676,  -3.4493,  -3.5230,  -2.8865,  -2.0210],\n",
       "         [ -0.1818,  -0.7960,  -0.7633,  -0.6444,  -0.1836],\n",
       "         [  3.8398,   1.5342,   1.1526,   0.6001,   0.3481],\n",
       "         [ 91.7209,  36.1338,  24.9382,  11.9429,   5.5251],\n",
       "         [ -6.3962,  -2.5688,  -1.9813,  -0.8879,  -0.4632]],\n",
       "        grad_fn=<AddmmBackward>),\n",
       " tensor([[5.4047e+01, 2.5512e+01, 1.8776e+01, 9.5985e+00, 4.7958e+00],\n",
       "         [3.3680e+01, 9.9033e+00, 5.4544e+00, 1.7727e+00, 4.1812e-01],\n",
       "         [3.0119e-06, 0.0000e+00, 0.0000e+00, 0.0000e+00, 0.0000e+00],\n",
       "         [7.4354e-01, 6.7405e-02, 2.4984e-02, 3.4869e-03, 9.2450e-04],\n",
       "         [2.9555e-02, 5.2151e-04, 1.3178e-04, 7.1503e-07, 0.0000e+00],\n",
       "         [1.4358e-03, 2.3087e-06, 0.0000e+00, 0.0000e+00, 0.0000e+00],\n",
       "         [2.2348e+00, 1.9264e-01, 6.1344e-02, 1.0273e-02, 5.9971e-04],\n",
       "         [7.2032e-05, 0.0000e+00, 0.0000e+00, 1.4880e-06, 1.1067e-06]]))"
      ]
     },
     "execution_count": 121,
     "metadata": {},
     "output_type": "execute_result"
    }
   ],
   "source": [
    "pred, y"
   ]
  },
  {
   "cell_type": "code",
   "execution_count": 122,
   "metadata": {},
   "outputs": [
    {
     "data": {
      "text/plain": [
       "[<matplotlib.lines.Line2D at 0x12839af60>]"
      ]
     },
     "execution_count": 122,
     "metadata": {},
     "output_type": "execute_result"
    },
    {
     "data": {
      "image/png": "[encoded data removed]",
      "text/plain": [
       "<Figure size 432x288 with 1 Axes>"
      ]
     },
     "metadata": {
      "needs_background": "light"
     },
     "output_type": "display_data"
    }
   ],
   "source": [
    "plt.plot(loss_ls)"
   ]
  },
  {
   "cell_type": "code",
   "execution_count": 97,
   "metadata": {},
   "outputs": [
    {
     "data": {
      "text/html": [
       "<div>\n",
       "<style scoped>\n",
       "    .dataframe tbody tr th:only-of-type {\n",
       "        vertical-align: middle;\n",
       "    }\n",
       "\n",
       "    .dataframe tbody tr th {\n",
       "        vertical-align: top;\n",
       "    }\n",
       "\n",
       "    .dataframe thead th {\n",
       "        text-align: right;\n",
       "    }\n",
       "</style>\n",
       "<table border=\"1\" class=\"dataframe\">\n",
       "  <thead>\n",
       "    <tr style=\"text-align: right;\">\n",
       "      <th></th>\n",
       "      <th>reflectance_0</th>\n",
       "      <th>reflectance_1</th>\n",
       "      <th>reflectance_2</th>\n",
       "      <th>reflectance_3</th>\n",
       "      <th>reflectance_4</th>\n",
       "    </tr>\n",
       "  </thead>\n",
       "  <tbody>\n",
       "    <tr>\n",
       "      <th>count</th>\n",
       "      <td>5.944000e+03</td>\n",
       "      <td>5.944000e+03</td>\n",
       "      <td>5.944000e+03</td>\n",
       "      <td>5.944000e+03</td>\n",
       "      <td>5.944000e+03</td>\n",
       "    </tr>\n",
       "    <tr>\n",
       "      <th>mean</th>\n",
       "      <td>2.441657e-07</td>\n",
       "      <td>9.264044e-08</td>\n",
       "      <td>6.351994e-08</td>\n",
       "      <td>2.965176e-08</td>\n",
       "      <td>1.419035e-08</td>\n",
       "    </tr>\n",
       "    <tr>\n",
       "      <th>std</th>\n",
       "      <td>6.504910e-07</td>\n",
       "      <td>2.979858e-07</td>\n",
       "      <td>2.190200e-07</td>\n",
       "      <td>1.173240e-07</td>\n",
       "      <td>6.397851e-08</td>\n",
       "    </tr>\n",
       "    <tr>\n",
       "      <th>min</th>\n",
       "      <td>0.000000e+00</td>\n",
       "      <td>0.000000e+00</td>\n",
       "      <td>0.000000e+00</td>\n",
       "      <td>0.000000e+00</td>\n",
       "      <td>0.000000e+00</td>\n",
       "    </tr>\n",
       "    <tr>\n",
       "      <th>25%</th>\n",
       "      <td>2.788485e-10</td>\n",
       "      <td>1.362598e-11</td>\n",
       "      <td>4.248460e-12</td>\n",
       "      <td>3.473782e-13</td>\n",
       "      <td>2.487247e-14</td>\n",
       "    </tr>\n",
       "    <tr>\n",
       "      <th>50%</th>\n",
       "      <td>1.325870e-08</td>\n",
       "      <td>1.695885e-09</td>\n",
       "      <td>7.364505e-10</td>\n",
       "      <td>1.289410e-10</td>\n",
       "      <td>2.285110e-11</td>\n",
       "    </tr>\n",
       "    <tr>\n",
       "      <th>75%</th>\n",
       "      <td>1.482192e-07</td>\n",
       "      <td>3.409688e-08</td>\n",
       "      <td>1.883068e-08</td>\n",
       "      <td>5.142745e-09</td>\n",
       "      <td>1.559182e-09</td>\n",
       "    </tr>\n",
       "    <tr>\n",
       "      <th>max</th>\n",
       "      <td>7.792320e-06</td>\n",
       "      <td>4.362410e-06</td>\n",
       "      <td>3.494370e-06</td>\n",
       "      <td>2.157960e-06</td>\n",
       "      <td>1.253950e-06</td>\n",
       "    </tr>\n",
       "  </tbody>\n",
       "</table>\n",
       "</div>"
      ],
      "text/plain": [
       "       reflectance_0  reflectance_1  reflectance_2  reflectance_3  \\\n",
       "count   5.944000e+03   5.944000e+03   5.944000e+03   5.944000e+03   \n",
       "mean    2.441657e-07   9.264044e-08   6.351994e-08   2.965176e-08   \n",
       "std     6.504910e-07   2.979858e-07   2.190200e-07   1.173240e-07   \n",
       "min     0.000000e+00   0.000000e+00   0.000000e+00   0.000000e+00   \n",
       "25%     2.788485e-10   1.362598e-11   4.248460e-12   3.473782e-13   \n",
       "50%     1.325870e-08   1.695885e-09   7.364505e-10   1.289410e-10   \n",
       "75%     1.482192e-07   3.409688e-08   1.883068e-08   5.142745e-09   \n",
       "max     7.792320e-06   4.362410e-06   3.494370e-06   2.157960e-06   \n",
       "\n",
       "       reflectance_4  \n",
       "count   5.944000e+03  \n",
       "mean    1.419035e-08  \n",
       "std     6.397851e-08  \n",
       "min     0.000000e+00  \n",
       "25%     2.487247e-14  \n",
       "50%     2.285110e-11  \n",
       "75%     1.559182e-09  \n",
       "max     1.253950e-06  "
      ]
     },
     "execution_count": 97,
     "metadata": {},
     "output_type": "execute_result"
    }
   ],
   "source": [
    "df.iloc[:, -5:].describe()"
   ]
  },
  {
   "cell_type": "code",
   "execution_count": null,
   "metadata": {},
   "outputs": [],
   "source": []
  }
 ],
 "metadata": {
  "kernelspec": {
   "display_name": "Python 3",
   "language": "python",
   "name": "python3"
  },
  "language_info": {
   "codemirror_mode": {
    "name": "ipython",
    "version": 3
   },
   "file_extension": ".py",
   "mimetype": "text/x-python",
   "name": "python",
   "nbconvert_exporter": "python",
   "pygments_lexer": "ipython3",
   "version": "3.7.3"
  }
 },
 "nbformat": 4,
 "nbformat_minor": 2
}
