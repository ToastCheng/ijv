{
 "cells": [
  {
   "cell_type": "code",
   "execution_count": 1,
   "metadata": {},
   "outputs": [],
   "source": [
    "import numpy as np\n",
    "import pandas as pd \n",
    "import matplotlib.pyplot as plt \n",
    "\n",
    "%matplotlib inline"
   ]
  },
  {
   "cell_type": "code",
   "execution_count": 2,
   "metadata": {},
   "outputs": [
    {
     "name": "stdout",
     "output_type": "stream",
     "text": [
      "c.pkl          i.pkl          mua_in_mm.csv  phantom.csv\r\n",
      "h.pkl          k.pkl          musp_in_mm.csv\r\n"
     ]
    }
   ],
   "source": [
    "!ls CHIKEN"
   ]
  },
  {
   "cell_type": "code",
   "execution_count": 11,
   "metadata": {},
   "outputs": [],
   "source": [
    "c = np.load(\"CHIKEN/c.pkl\", allow_pickle=True)[\"C\"]\n",
    "h = np.load(\"CHIKEN/h.pkl\", allow_pickle=True)[\"H\"]\n",
    "i = np.load(\"CHIKEN/i.pkl\", allow_pickle=True)[\"I\"]\n",
    "k = np.load(\"CHIKEN/k.pkl\", allow_pickle=True)[\"K\"]"
   ]
  },
  {
   "cell_type": "code",
   "execution_count": 21,
   "metadata": {},
   "outputs": [],
   "source": [
    "c = np.asarray(c).reshape(-1)\n",
    "h = np.asarray(h).reshape(-1)\n",
    "i = np.asarray(i).reshape(-1)\n",
    "k = np.asarray(k).reshape(-1)"
   ]
  },
  {
   "cell_type": "code",
   "execution_count": null,
   "metadata": {},
   "outputs": [],
   "source": []
  },
  {
   "cell_type": "code",
   "execution_count": 24,
   "metadata": {},
   "outputs": [],
   "source": [
    "df = pd.DataFrame({\n",
    "    \"wl\": [i for i in range(650, 1001, 10)],\n",
    "    \"c\": c,\n",
    "    \"h\": h,\n",
    "    \"i\": i,\n",
    "    \"k\": k\n",
    "})"
   ]
  },
  {
   "cell_type": "code",
   "execution_count": 27,
   "metadata": {},
   "outputs": [],
   "source": [
    "df.to_csv(\"CHIKEN/sim_chik.csv\", index=None)"
   ]
  },
  {
   "cell_type": "code",
   "execution_count": null,
   "metadata": {},
   "outputs": [],
   "source": []
  }
 ],
 "metadata": {
  "kernelspec": {
   "display_name": "Python 3",
   "language": "python",
   "name": "python3"
  },
  "language_info": {
   "codemirror_mode": {
    "name": "ipython",
    "version": 3
   },
   "file_extension": ".py",
   "mimetype": "text/x-python",
   "name": "python",
   "nbconvert_exporter": "python",
   "pygments_lexer": "ipython3",
   "version": "3.7.3"
  }
 },
 "nbformat": 4,
 "nbformat_minor": 2
}
