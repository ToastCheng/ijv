{
 "cells": [
  {
   "cell_type": "code",
   "execution_count": 11,
   "metadata": {},
   "outputs": [],
   "source": [
    "from utils.mch import MCHHandler\n",
    "import numpy as np \n",
    "import pandas as pd\n",
    "import matplotlib.pyplot as plt\n",
    "\n",
    "%matplotlib inline"
   ]
  },
  {
   "cell_type": "code",
   "execution_count": 12,
   "metadata": {},
   "outputs": [],
   "source": [
    "wl = [i for i in range(650, 1001, 10)]\n",
    "\n",
    "mh = MCHHandler()\n",
    "\n",
    "mh.load_config(\"configs/phantom_muscle.json\")"
   ]
  },
  {
   "cell_type": "code",
   "execution_count": 13,
   "metadata": {},
   "outputs": [],
   "source": [
    "df, header ,photon = mh._load_mch(\"output/phantom_muscle/mcx_output/phantom_muscle_1000_C.mch\")\n"
   ]
  },
  {
   "cell_type": "code",
   "execution_count": 14,
   "metadata": {},
   "outputs": [
    {
     "data": {
      "text/plain": [
       "array([0.0593058])"
      ]
     },
     "execution_count": 14,
     "metadata": {},
     "output_type": "execute_result"
    }
   ],
   "source": [
    "mh._make_tissue_phantom(1000, header, 'C')"
   ]
  },
  {
   "cell_type": "code",
   "execution_count": 15,
   "metadata": {},
   "outputs": [],
   "source": [
    "s = mh.calculate_reflectance_white()"
   ]
  },
  {
   "cell_type": "code",
   "execution_count": 16,
   "metadata": {},
   "outputs": [
    {
     "data": {
      "text/plain": [
       "(5, 144)"
      ]
     },
     "execution_count": 16,
     "metadata": {},
     "output_type": "execute_result"
    }
   ],
   "source": [
    "s[0].shape"
   ]
  },
  {
   "cell_type": "code",
   "execution_count": 17,
   "metadata": {},
   "outputs": [],
   "source": [
    "mch_list = mh.mch_list.copy()"
   ]
  },
  {
   "cell_type": "code",
   "execution_count": 18,
   "metadata": {},
   "outputs": [],
   "source": [
    "pid = { c: i for i, c in enumerate(\"CHIKEN\")}\n",
    "mh.mch_list.sort(\n",
    "    key=lambda x: (int(x.split(\"_\")[-2]), pid[x.split('_')[-1].strip('.mch')])\n",
    ")"
   ]
  },
  {
   "cell_type": "code",
   "execution_count": 9,
   "metadata": {},
   "outputs": [
    {
     "data": {
      "text/plain": [
       "['output/phantom_muscle/mcx_output/phantom_muscle_650_C.mch',\n",
       " 'output/phantom_muscle/mcx_output/phantom_muscle_650_H.mch',\n",
       " 'output/phantom_muscle/mcx_output/phantom_muscle_650_I.mch',\n",
       " 'output/phantom_muscle/mcx_output/phantom_muscle_650_K.mch',\n",
       " 'output/phantom_muscle/mcx_output/phantom_muscle_660_C.mch',\n",
       " 'output/phantom_muscle/mcx_output/phantom_muscle_660_H.mch',\n",
       " 'output/phantom_muscle/mcx_output/phantom_muscle_660_I.mch',\n",
       " 'output/phantom_muscle/mcx_output/phantom_muscle_660_K.mch',\n",
       " 'output/phantom_muscle/mcx_output/phantom_muscle_670_C.mch',\n",
       " 'output/phantom_muscle/mcx_output/phantom_muscle_670_H.mch',\n",
       " 'output/phantom_muscle/mcx_output/phantom_muscle_670_I.mch',\n",
       " 'output/phantom_muscle/mcx_output/phantom_muscle_670_K.mch',\n",
       " 'output/phantom_muscle/mcx_output/phantom_muscle_680_C.mch',\n",
       " 'output/phantom_muscle/mcx_output/phantom_muscle_680_H.mch',\n",
       " 'output/phantom_muscle/mcx_output/phantom_muscle_680_I.mch',\n",
       " 'output/phantom_muscle/mcx_output/phantom_muscle_680_K.mch',\n",
       " 'output/phantom_muscle/mcx_output/phantom_muscle_690_C.mch',\n",
       " 'output/phantom_muscle/mcx_output/phantom_muscle_690_H.mch',\n",
       " 'output/phantom_muscle/mcx_output/phantom_muscle_690_I.mch',\n",
       " 'output/phantom_muscle/mcx_output/phantom_muscle_690_K.mch',\n",
       " 'output/phantom_muscle/mcx_output/phantom_muscle_700_C.mch',\n",
       " 'output/phantom_muscle/mcx_output/phantom_muscle_700_H.mch',\n",
       " 'output/phantom_muscle/mcx_output/phantom_muscle_700_I.mch',\n",
       " 'output/phantom_muscle/mcx_output/phantom_muscle_700_K.mch',\n",
       " 'output/phantom_muscle/mcx_output/phantom_muscle_710_C.mch',\n",
       " 'output/phantom_muscle/mcx_output/phantom_muscle_710_H.mch',\n",
       " 'output/phantom_muscle/mcx_output/phantom_muscle_710_I.mch',\n",
       " 'output/phantom_muscle/mcx_output/phantom_muscle_710_K.mch',\n",
       " 'output/phantom_muscle/mcx_output/phantom_muscle_720_C.mch',\n",
       " 'output/phantom_muscle/mcx_output/phantom_muscle_720_H.mch',\n",
       " 'output/phantom_muscle/mcx_output/phantom_muscle_720_I.mch',\n",
       " 'output/phantom_muscle/mcx_output/phantom_muscle_720_K.mch',\n",
       " 'output/phantom_muscle/mcx_output/phantom_muscle_730_C.mch',\n",
       " 'output/phantom_muscle/mcx_output/phantom_muscle_730_H.mch',\n",
       " 'output/phantom_muscle/mcx_output/phantom_muscle_730_I.mch',\n",
       " 'output/phantom_muscle/mcx_output/phantom_muscle_730_K.mch',\n",
       " 'output/phantom_muscle/mcx_output/phantom_muscle_740_C.mch',\n",
       " 'output/phantom_muscle/mcx_output/phantom_muscle_740_H.mch',\n",
       " 'output/phantom_muscle/mcx_output/phantom_muscle_740_I.mch',\n",
       " 'output/phantom_muscle/mcx_output/phantom_muscle_740_K.mch',\n",
       " 'output/phantom_muscle/mcx_output/phantom_muscle_750_C.mch',\n",
       " 'output/phantom_muscle/mcx_output/phantom_muscle_750_H.mch',\n",
       " 'output/phantom_muscle/mcx_output/phantom_muscle_750_I.mch',\n",
       " 'output/phantom_muscle/mcx_output/phantom_muscle_750_K.mch',\n",
       " 'output/phantom_muscle/mcx_output/phantom_muscle_760_C.mch',\n",
       " 'output/phantom_muscle/mcx_output/phantom_muscle_760_H.mch',\n",
       " 'output/phantom_muscle/mcx_output/phantom_muscle_760_I.mch',\n",
       " 'output/phantom_muscle/mcx_output/phantom_muscle_760_K.mch',\n",
       " 'output/phantom_muscle/mcx_output/phantom_muscle_770_C.mch',\n",
       " 'output/phantom_muscle/mcx_output/phantom_muscle_770_H.mch',\n",
       " 'output/phantom_muscle/mcx_output/phantom_muscle_770_I.mch',\n",
       " 'output/phantom_muscle/mcx_output/phantom_muscle_770_K.mch',\n",
       " 'output/phantom_muscle/mcx_output/phantom_muscle_780_C.mch',\n",
       " 'output/phantom_muscle/mcx_output/phantom_muscle_780_H.mch',\n",
       " 'output/phantom_muscle/mcx_output/phantom_muscle_780_I.mch',\n",
       " 'output/phantom_muscle/mcx_output/phantom_muscle_780_K.mch',\n",
       " 'output/phantom_muscle/mcx_output/phantom_muscle_790_C.mch',\n",
       " 'output/phantom_muscle/mcx_output/phantom_muscle_790_H.mch',\n",
       " 'output/phantom_muscle/mcx_output/phantom_muscle_790_I.mch',\n",
       " 'output/phantom_muscle/mcx_output/phantom_muscle_790_K.mch',\n",
       " 'output/phantom_muscle/mcx_output/phantom_muscle_800_C.mch',\n",
       " 'output/phantom_muscle/mcx_output/phantom_muscle_800_H.mch',\n",
       " 'output/phantom_muscle/mcx_output/phantom_muscle_800_I.mch',\n",
       " 'output/phantom_muscle/mcx_output/phantom_muscle_800_K.mch',\n",
       " 'output/phantom_muscle/mcx_output/phantom_muscle_810_C.mch',\n",
       " 'output/phantom_muscle/mcx_output/phantom_muscle_810_H.mch',\n",
       " 'output/phantom_muscle/mcx_output/phantom_muscle_810_I.mch',\n",
       " 'output/phantom_muscle/mcx_output/phantom_muscle_810_K.mch',\n",
       " 'output/phantom_muscle/mcx_output/phantom_muscle_820_C.mch',\n",
       " 'output/phantom_muscle/mcx_output/phantom_muscle_820_H.mch',\n",
       " 'output/phantom_muscle/mcx_output/phantom_muscle_820_I.mch',\n",
       " 'output/phantom_muscle/mcx_output/phantom_muscle_820_K.mch',\n",
       " 'output/phantom_muscle/mcx_output/phantom_muscle_830_C.mch',\n",
       " 'output/phantom_muscle/mcx_output/phantom_muscle_830_H.mch',\n",
       " 'output/phantom_muscle/mcx_output/phantom_muscle_830_I.mch',\n",
       " 'output/phantom_muscle/mcx_output/phantom_muscle_830_K.mch',\n",
       " 'output/phantom_muscle/mcx_output/phantom_muscle_840_C.mch',\n",
       " 'output/phantom_muscle/mcx_output/phantom_muscle_840_H.mch',\n",
       " 'output/phantom_muscle/mcx_output/phantom_muscle_840_I.mch',\n",
       " 'output/phantom_muscle/mcx_output/phantom_muscle_840_K.mch',\n",
       " 'output/phantom_muscle/mcx_output/phantom_muscle_850_C.mch',\n",
       " 'output/phantom_muscle/mcx_output/phantom_muscle_850_H.mch',\n",
       " 'output/phantom_muscle/mcx_output/phantom_muscle_850_I.mch',\n",
       " 'output/phantom_muscle/mcx_output/phantom_muscle_850_K.mch',\n",
       " 'output/phantom_muscle/mcx_output/phantom_muscle_860_C.mch',\n",
       " 'output/phantom_muscle/mcx_output/phantom_muscle_860_H.mch',\n",
       " 'output/phantom_muscle/mcx_output/phantom_muscle_860_I.mch',\n",
       " 'output/phantom_muscle/mcx_output/phantom_muscle_860_K.mch',\n",
       " 'output/phantom_muscle/mcx_output/phantom_muscle_870_C.mch',\n",
       " 'output/phantom_muscle/mcx_output/phantom_muscle_870_H.mch',\n",
       " 'output/phantom_muscle/mcx_output/phantom_muscle_870_I.mch',\n",
       " 'output/phantom_muscle/mcx_output/phantom_muscle_870_K.mch',\n",
       " 'output/phantom_muscle/mcx_output/phantom_muscle_880_C.mch',\n",
       " 'output/phantom_muscle/mcx_output/phantom_muscle_880_H.mch',\n",
       " 'output/phantom_muscle/mcx_output/phantom_muscle_880_I.mch',\n",
       " 'output/phantom_muscle/mcx_output/phantom_muscle_880_K.mch',\n",
       " 'output/phantom_muscle/mcx_output/phantom_muscle_890_C.mch',\n",
       " 'output/phantom_muscle/mcx_output/phantom_muscle_890_H.mch',\n",
       " 'output/phantom_muscle/mcx_output/phantom_muscle_890_I.mch',\n",
       " 'output/phantom_muscle/mcx_output/phantom_muscle_890_K.mch',\n",
       " 'output/phantom_muscle/mcx_output/phantom_muscle_900_C.mch',\n",
       " 'output/phantom_muscle/mcx_output/phantom_muscle_900_H.mch',\n",
       " 'output/phantom_muscle/mcx_output/phantom_muscle_900_I.mch',\n",
       " 'output/phantom_muscle/mcx_output/phantom_muscle_900_K.mch',\n",
       " 'output/phantom_muscle/mcx_output/phantom_muscle_910_C.mch',\n",
       " 'output/phantom_muscle/mcx_output/phantom_muscle_910_H.mch',\n",
       " 'output/phantom_muscle/mcx_output/phantom_muscle_910_I.mch',\n",
       " 'output/phantom_muscle/mcx_output/phantom_muscle_910_K.mch',\n",
       " 'output/phantom_muscle/mcx_output/phantom_muscle_920_C.mch',\n",
       " 'output/phantom_muscle/mcx_output/phantom_muscle_920_H.mch',\n",
       " 'output/phantom_muscle/mcx_output/phantom_muscle_920_I.mch',\n",
       " 'output/phantom_muscle/mcx_output/phantom_muscle_920_K.mch',\n",
       " 'output/phantom_muscle/mcx_output/phantom_muscle_930_C.mch',\n",
       " 'output/phantom_muscle/mcx_output/phantom_muscle_930_H.mch',\n",
       " 'output/phantom_muscle/mcx_output/phantom_muscle_930_I.mch',\n",
       " 'output/phantom_muscle/mcx_output/phantom_muscle_930_K.mch',\n",
       " 'output/phantom_muscle/mcx_output/phantom_muscle_940_C.mch',\n",
       " 'output/phantom_muscle/mcx_output/phantom_muscle_940_H.mch',\n",
       " 'output/phantom_muscle/mcx_output/phantom_muscle_940_I.mch',\n",
       " 'output/phantom_muscle/mcx_output/phantom_muscle_940_K.mch',\n",
       " 'output/phantom_muscle/mcx_output/phantom_muscle_950_C.mch',\n",
       " 'output/phantom_muscle/mcx_output/phantom_muscle_950_H.mch',\n",
       " 'output/phantom_muscle/mcx_output/phantom_muscle_950_I.mch',\n",
       " 'output/phantom_muscle/mcx_output/phantom_muscle_950_K.mch',\n",
       " 'output/phantom_muscle/mcx_output/phantom_muscle_960_C.mch',\n",
       " 'output/phantom_muscle/mcx_output/phantom_muscle_960_H.mch',\n",
       " 'output/phantom_muscle/mcx_output/phantom_muscle_960_I.mch',\n",
       " 'output/phantom_muscle/mcx_output/phantom_muscle_960_K.mch',\n",
       " 'output/phantom_muscle/mcx_output/phantom_muscle_970_C.mch',\n",
       " 'output/phantom_muscle/mcx_output/phantom_muscle_970_H.mch',\n",
       " 'output/phantom_muscle/mcx_output/phantom_muscle_970_I.mch',\n",
       " 'output/phantom_muscle/mcx_output/phantom_muscle_970_K.mch',\n",
       " 'output/phantom_muscle/mcx_output/phantom_muscle_980_C.mch',\n",
       " 'output/phantom_muscle/mcx_output/phantom_muscle_980_H.mch',\n",
       " 'output/phantom_muscle/mcx_output/phantom_muscle_980_I.mch',\n",
       " 'output/phantom_muscle/mcx_output/phantom_muscle_980_K.mch',\n",
       " 'output/phantom_muscle/mcx_output/phantom_muscle_990_C.mch',\n",
       " 'output/phantom_muscle/mcx_output/phantom_muscle_990_H.mch',\n",
       " 'output/phantom_muscle/mcx_output/phantom_muscle_990_I.mch',\n",
       " 'output/phantom_muscle/mcx_output/phantom_muscle_990_K.mch',\n",
       " 'output/phantom_muscle/mcx_output/phantom_muscle_1000_C.mch',\n",
       " 'output/phantom_muscle/mcx_output/phantom_muscle_1000_H.mch',\n",
       " 'output/phantom_muscle/mcx_output/phantom_muscle_1000_I.mch',\n",
       " 'output/phantom_muscle/mcx_output/phantom_muscle_1000_K.mch']"
      ]
     },
     "execution_count": 9,
     "metadata": {},
     "output_type": "execute_result"
    }
   ],
   "source": [
    "\n",
    "mh.mch_list"
   ]
  },
  {
   "cell_type": "code",
   "execution_count": 34,
   "metadata": {},
   "outputs": [
    {
     "data": {
      "image/png": "[encoded data removed]",
      "text/plain": [
       "<Figure size 576x432 with 1 Axes>"
      ]
     },
     "metadata": {
      "needs_background": "light"
     },
     "output_type": "display_data"
    }
   ],
   "source": [
    "d = s[0].T\n",
    "plt.figure(figsize=(8, 6))\n",
    "for dd in d[::4].T:\n",
    "    plt.plot(wl, dd)\n",
    "#     plt.ylim(0, 0.0000175)"
   ]
  },
  {
   "cell_type": "code",
   "execution_count": 25,
   "metadata": {},
   "outputs": [
    {
     "data": {
      "text/plain": [
       "(36, 5)"
      ]
     },
     "execution_count": 25,
     "metadata": {},
     "output_type": "execute_result"
    }
   ],
   "source": [
    "d[::4].shape"
   ]
  },
  {
   "cell_type": "code",
   "execution_count": null,
   "metadata": {},
   "outputs": [],
   "source": []
  }
 ],
 "metadata": {
  "kernelspec": {
   "display_name": "Python 3",
   "language": "python",
   "name": "python3"
  },
  "language_info": {
   "codemirror_mode": {
    "name": "ipython",
    "version": 3
   },
   "file_extension": ".py",
   "mimetype": "text/x-python",
   "name": "python",
   "nbconvert_exporter": "python",
   "pygments_lexer": "ipython3",
   "version": "3.6.4"
  }
 },
 "nbformat": 4,
 "nbformat_minor": 2
}
