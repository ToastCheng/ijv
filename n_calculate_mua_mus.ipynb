{
 "cells": [
  {
   "cell_type": "code",
   "execution_count": 4,
   "metadata": {},
   "outputs": [],
   "source": [
    "import numpy as np \n",
    "import pandas as pd \n",
    "import matplotlib.pyplot as plt \n",
    "\n",
    "%matplotlib inline"
   ]
  },
  {
   "cell_type": "code",
   "execution_count": 5,
   "metadata": {},
   "outputs": [],
   "source": [
    "def calculate_mua(b, s, w, f, m):\n",
    "    _mua = b * (s * mua[\"oxy\"] + (1-s) * mua[\"deoxy\"]) + w * mua[\"water\"] +  (1-w-b) * mua[\"collagen\"] + f * mua[\"fat\"] + m * mua[\"mel\"]                     \n",
    "\n",
    "    return _mua\n",
    "\n",
    "def calculate_mus(mus500, fray, bmie, g):\n",
    "    mus_p = mus500 * (fray * (wl/500)**(-4) + (1-fray) * (wl/500) ** (-bmie))\n",
    "    mus = mus_p/g * 0.1\n",
    "    return mus "
   ]
  },
  {
   "cell_type": "code",
   "execution_count": 24,
   "metadata": {},
   "outputs": [],
   "source": [
    "muscle = {\n",
    "    \"blood_volume_fraction\": 0.01,\n",
    "    \"ScvO2\": 0.80,\n",
    "    \"water_volume\": 0.85,\n",
    "    \"fat_volume\": 0,\n",
    "    \"melanin_volume\": 0,\n",
    "    \"n\": 1.40,\n",
    "    \"g\": 0.94,\n",
    "    \"muspx\": 5.17,\n",
    "    \"fray\": 0.0,\n",
    "    \"bmie\": 1.0\n",
    "}"
   ]
  },
  {
   "cell_type": "code",
   "execution_count": 25,
   "metadata": {},
   "outputs": [
    {
     "data": {
      "text/html": [
       "<div>\n",
       "<style scoped>\n",
       "    .dataframe tbody tr th:only-of-type {\n",
       "        vertical-align: middle;\n",
       "    }\n",
       "\n",
       "    .dataframe tbody tr th {\n",
       "        vertical-align: top;\n",
       "    }\n",
       "\n",
       "    .dataframe thead th {\n",
       "        text-align: right;\n",
       "    }\n",
       "</style>\n",
       "<table border=\"1\" class=\"dataframe\">\n",
       "  <thead>\n",
       "    <tr style=\"text-align: right;\">\n",
       "      <th></th>\n",
       "      <th>Unnamed: 0</th>\n",
       "      <th>wavelength</th>\n",
       "      <th>oxy</th>\n",
       "      <th>deoxy</th>\n",
       "      <th>water</th>\n",
       "      <th>fat</th>\n",
       "      <th>collagen</th>\n",
       "      <th>mel</th>\n",
       "      <th>musp</th>\n",
       "    </tr>\n",
       "  </thead>\n",
       "  <tbody>\n",
       "    <tr>\n",
       "      <th>0</th>\n",
       "      <td>0</td>\n",
       "      <td>650</td>\n",
       "      <td>1.9706</td>\n",
       "      <td>20.081</td>\n",
       "      <td>0.0032</td>\n",
       "      <td>0.00471</td>\n",
       "      <td>0.0752</td>\n",
       "      <td>283.49</td>\n",
       "      <td>22.209</td>\n",
       "    </tr>\n",
       "  </tbody>\n",
       "</table>\n",
       "</div>"
      ],
      "text/plain": [
       "   Unnamed: 0  wavelength     oxy   deoxy   water      fat  collagen     mel  \\\n",
       "0           0         650  1.9706  20.081  0.0032  0.00471    0.0752  283.49   \n",
       "\n",
       "     musp  \n",
       "0  22.209  "
      ]
     },
     "execution_count": 25,
     "metadata": {},
     "output_type": "execute_result"
    }
   ],
   "source": [
    "mua = pd.read_csv(\"input/coefficients.csv\")\n",
    "wl = np.asarray([i for i in range(650, 1001)])\n",
    "mua.head(1)"
   ]
  },
  {
   "cell_type": "code",
   "execution_count": 26,
   "metadata": {},
   "outputs": [],
   "source": [
    "mua_ = calculate_mua(\n",
    "    muscle[\"blood_volume_fraction\"],\n",
    "    muscle[\"ScvO2\"],\n",
    "    muscle[\"water_volume\"],\n",
    "    muscle[\"fat_volume\"],\n",
    "    muscle[\"melanin_volume\"]\n",
    ")\n",
    "mus_ = calculate_mus(\n",
    "    muscle[\"muspx\"],\n",
    "    muscle[\"fray\"],\n",
    "    muscle[\"bmie\"],\n",
    "    muscle[\"g\"]\n",
    ")"
   ]
  },
  {
   "cell_type": "code",
   "execution_count": 27,
   "metadata": {},
   "outputs": [
    {
     "data": {
      "text/plain": [
       "wavelength[nm]    840.000000\n",
       "mua[1/cm]           0.857319\n",
       "mus[1/cm]           3.273810\n",
       "Name: 190, dtype: float64"
      ]
     },
     "execution_count": 27,
     "metadata": {},
     "output_type": "execute_result"
    }
   ],
   "source": [
    "dff = pd.DataFrame({\n",
    "    \"wavelength[nm]\": mua[\"wavelength\"],\n",
    "    \"mua[1/cm]\": mua_*10,\n",
    "    \"mus[1/cm]\": mus_*10\n",
    "})\n",
    "dff.iloc[190,:]"
   ]
  },
  {
   "cell_type": "code",
   "execution_count": 16,
   "metadata": {},
   "outputs": [
    {
     "data": {
      "text/plain": [
       "<matplotlib.axes._subplots.AxesSubplot at 0x10ec27f98>"
      ]
     },
     "execution_count": 16,
     "metadata": {},
     "output_type": "execute_result"
    },
    {
     "data": {
      "image/png": "[encoded data removed]",
      "text/plain": [
       "<Figure size 432x288 with 1 Axes>"
      ]
     },
     "metadata": {
      "needs_background": "light"
     },
     "output_type": "display_data"
    }
   ],
   "source": [
    "dff.iloc[:, 1:].plot()"
   ]
  },
  {
   "cell_type": "code",
   "execution_count": 18,
   "metadata": {},
   "outputs": [],
   "source": [
    "dff.to_csv(\"muscle_mua_mus.csv\", index=None)"
   ]
  },
  {
   "cell_type": "code",
   "execution_count": null,
   "metadata": {},
   "outputs": [],
   "source": []
  }
 ],
 "metadata": {
  "kernelspec": {
   "display_name": "Python 3",
   "language": "python",
   "name": "python3"
  },
  "language_info": {
   "codemirror_mode": {
    "name": "ipython",
    "version": 3
   },
   "file_extension": ".py",
   "mimetype": "text/x-python",
   "name": "python",
   "nbconvert_exporter": "python",
   "pygments_lexer": "ipython3",
   "version": "3.7.3"
  }
 },
 "nbformat": 4,
 "nbformat_minor": 2
}
