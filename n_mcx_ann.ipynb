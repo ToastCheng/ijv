{
 "cells": [
  {
   "cell_type": "code",
   "execution_count": 1,
   "metadata": {},
   "outputs": [],
   "source": [
    "import os\n",
    "import torch\n",
    "import torch.nn as nn\n",
    "import torch.optim as optim\n",
    "import torch.nn.functional as F\n",
    "from torch.utils.data import Dataset, DataLoader\n",
    "\n",
    "import numpy as np \n",
    "import pandas as pd \n",
    "import matplotlib.pyplot as plt\n",
    "from MySQLdb import connect\n",
    "%matplotlib inline"
   ]
  },
  {
   "cell_type": "code",
   "execution_count": 2,
   "metadata": {},
   "outputs": [],
   "source": [
    "device = torch.device(\"cuda:0\" if torch.cuda.is_available() else \"cpu\")"
   ]
  },
  {
   "cell_type": "code",
   "execution_count": 3,
   "metadata": {},
   "outputs": [],
   "source": [
    "conn = connect(\n",
    "    host=\"140.112.174.26\",\n",
    "    db=\"ijv\",\n",
    "    user=\"md703\",\n",
    "    passwd=os.getenv(\"PASSWD\")\n",
    ")\n",
    "df = pd.read_sql(\"SELECT * FROM ijv_ann\", con=conn)"
   ]
  },
  {
   "cell_type": "code",
   "execution_count": 5,
   "metadata": {},
   "outputs": [
    {
     "data": {
      "text/plain": [
       "Index(['id', 'idx', 'skin_mua', 'skin_mus', 'skin_g', 'skin_n', 'fat_mua',\n",
       "       'fat_mus', 'fat_g', 'fat_n', 'muscle_mua', 'muscle_mus', 'muscle_g',\n",
       "       'muscle_n', 'ijv_mua', 'ijv_mus', 'ijv_g', 'ijv_n', 'cca_mua',\n",
       "       'cca_mus', 'cca_g', 'cca_n', 'skin_thickness', 'fat_thickness',\n",
       "       'ijv_radius', 'ijv_depth', 'cca_radius', 'cca_depth',\n",
       "       'ijv_cca_distance', 'reflectance_20', 'reflectance_24',\n",
       "       'reflectance_28'],\n",
       "      dtype='object')"
      ]
     },
     "execution_count": 5,
     "metadata": {},
     "output_type": "execute_result"
    }
   ],
   "source": [
    "df.columns"
   ]
  },
  {
   "cell_type": "code",
   "execution_count": 17,
   "metadata": {},
   "outputs": [
    {
     "data": {
      "text/plain": [
       "skin_mua        5.8498\n",
       "skin_mus       4.05295\n",
       "skin_g        0.733152\n",
       "skin_n         1.39427\n",
       "fat_mua       0.001289\n",
       "fat_mus        10.3142\n",
       "fat_g         0.906961\n",
       "fat_n           1.4371\n",
       "muscle_mua    0.243906\n",
       "muscle_mus     9.98201\n",
       "muscle_g       0.94193\n",
       "muscle_n       1.43048\n",
       "ijv_mua       0.651252\n",
       "ijv_mus        12.4042\n",
       "ijv_g         0.919755\n",
       "ijv_n          1.42366\n",
       "cca_mua       0.477174\n",
       "cca_mus        17.5248\n",
       "cca_g         0.938117\n",
       "cca_n          1.43314\n",
       "Name: 1, dtype: object"
      ]
     },
     "execution_count": 17,
     "metadata": {},
     "output_type": "execute_result"
    }
   ],
   "source": [
    "df.iloc[1][2:22]"
   ]
  },
  {
   "cell_type": "code",
   "execution_count": 19,
   "metadata": {},
   "outputs": [],
   "source": [
    "class Model(nn.Module):\n",
    "    def __init__(self):\n",
    "        super().__init__()\n",
    "        self.spec_layer = nn.Linear(20, 64)\n",
    "        self.bn_spec = nn.BatchNorm1d(64)\n",
    "        self.geo_layer = nn.Linear(7, 64)\n",
    "        self.bn_geo = nn.BatchNorm1d(64)\n",
    "        \n",
    "        self.fc1 = nn.Linear(64, 128)\n",
    "        self.bn1 = nn.BatchNorm1d(128)\n",
    "        self.fc2 = nn.Linear(128, 256)\n",
    "        self.bn2 = nn.BatchNorm1d(256)\n",
    "        self.fc3 = nn.Linear(256, 3)\n",
    "    \n",
    "    def forward(self, spec, geo):\n",
    "        spec = self.spec_layer(spec)\n",
    "        spec = self.bn_spec(spec)\n",
    "        spec = torch.relu(spec)\n",
    "        \n",
    "        geo = self.geo_layer(geo)\n",
    "        geo = self.bn_geo(geo)\n",
    "        geo = torch.relu(geo)\n",
    "        \n",
    "        out = self.fc1(spec + geo)\n",
    "        out = self.bn1(out)\n",
    "        out = torch.relu(out)\n",
    "        \n",
    "        out = self.fc2(out)\n",
    "        out = self.bn2(out)\n",
    "        out = torch.relu(out)\n",
    "        out = self.fc3(out)\n",
    "#         out = torch.clamp(out, 0, 100)\n",
    "#         out = torch.sigmoid(out)\n",
    "        \n",
    "        return out"
   ]
  },
  {
   "cell_type": "code",
   "execution_count": 32,
   "metadata": {},
   "outputs": [
    {
     "data": {
      "text/plain": [
       "array([1.26006813e-08, 2.90812540e-09, 4.89341706e-10])"
      ]
     },
     "execution_count": 32,
     "metadata": {},
     "output_type": "execute_result"
    }
   ],
   "source": [
    "df.iloc[1][-3:].astype(np.float).values"
   ]
  },
  {
   "cell_type": "code",
   "execution_count": 39,
   "metadata": {},
   "outputs": [],
   "source": [
    "class SpecData(Dataset):\n",
    "    def __init__(self, df):\n",
    "        self.df = df\n",
    "        \n",
    "\n",
    "    def __getitem__(self, idx):\n",
    "        # 取最後三個(20mm, 24mm, 28mm的reflectance)\n",
    "        spec = self.df.iloc[idx][-3:].astype(np.float).values\n",
    "        spec = torch.tensor(spec).float()\n",
    "        \n",
    "        geo = self.df.iloc[idx][-10:-3].astype(np.float).values\n",
    "        geo = torch.tensor(geo).float()\n",
    "        \n",
    "        param = self.df.iloc[idx][2:22].astype(np.float).values\n",
    "        param = torch.tensor(param).float()\n",
    "        return spec, geo, param\n",
    "    \n",
    "    def __len__(self):\n",
    "        return len(self.df)"
   ]
  },
  {
   "cell_type": "code",
   "execution_count": 43,
   "metadata": {},
   "outputs": [],
   "source": [
    "model = Model()\n",
    "model.to(device)\n",
    "loss_func = nn.MSELoss(reduction=\"sum\")\n",
    "# loss_func = nn.CrossEntropyLoss()\n",
    "optimizer = optim.Adam(lr=1e-4, params=model.parameters(), betas=(0.9, 0.999))\n",
    "# optimizer = optim.SGD(lr=1e-4, params=model.parameters())\n",
    "scheduler = optim.lr_scheduler.ReduceLROnPlateau(optimizer)"
   ]
  },
  {
   "cell_type": "code",
   "execution_count": 40,
   "metadata": {},
   "outputs": [],
   "source": [
    "df = df.sample(frac=1)\n",
    "train_set = SpecData(df[:1000000])\n",
    "trainloader = DataLoader(train_set, batch_size=32,\n",
    "                        shuffle=True, num_workers=2)\n",
    "valid_set = SpecData(df[1000000:])\n",
    "validloader = DataLoader(valid_set, batch_size=32,\n",
    "                        shuffle=True, num_workers=2)"
   ]
  },
  {
   "cell_type": "code",
   "execution_count": 41,
   "metadata": {},
   "outputs": [],
   "source": [
    "lr_list = []\n",
    "train_loss_list = []\n",
    "valid_loss_list = []"
   ]
  },
  {
   "cell_type": "code",
   "execution_count": null,
   "metadata": {},
   "outputs": [
    {
     "name": "stdout",
     "output_type": "stream",
     "text": [
      "epoch:  0\r"
     ]
    }
   ],
   "source": [
    "for epoch in range(1000):\n",
    "    print(\"epoch: \", epoch, end=\"\\r\")\n",
    "    loss_ = []\n",
    "    for i, (spec, geo, param) in enumerate(trainloader):\n",
    "        spec, geo, param = spec.to(device), geo.to(device), param.to(device)\n",
    "        optimizer.zero_grad()\n",
    "        predict = model(param, geo)\n",
    "        loss = loss_func(predict, spec)\n",
    "        loss.backward()\n",
    "        optimizer.step()\n",
    "        loss_ += [float(loss.data)]\n",
    "    train_loss_list += [np.mean(loss_)]\n",
    "    lr_list += [optimizer.param_groups[0][\"lr\"]]\n",
    "    \n",
    "    model.eval()\n",
    "    for i, (spec, geo, param) in enumerate(validloader):\n",
    "        spec, geo, param = spec.to(device), geo.to(device), param.to(device)\n",
    "        predict = model(param, geo)\n",
    "        loss = loss_func(predict, spec)\n",
    "\n",
    "        loss_ += [float(loss.data)]\n",
    "    model.train()\n",
    "    valid_loss_list += [np.mean(loss_)]\n",
    "    lr_list += [optimizer.param_groups[0][\"lr\"]]\n",
    "    \n",
    "    \n",
    "    if epoch % 10 == 0:\n",
    "        print(\"train loss: \", train_loss_list[-1])\n",
    "        print(\"test loss: \", valid_loss_list[-1])\n",
    "#         print(predict)\n",
    "#         print(param)\n",
    "    scheduler.step(loss)"
   ]
  },
  {
   "cell_type": "code",
   "execution_count": null,
   "metadata": {},
   "outputs": [],
   "source": []
  }
 ],
 "metadata": {
  "kernelspec": {
   "display_name": "Python 3",
   "language": "python",
   "name": "python3"
  },
  "language_info": {
   "codemirror_mode": {
    "name": "ipython",
    "version": 3
   },
   "file_extension": ".py",
   "mimetype": "text/x-python",
   "name": "python",
   "nbconvert_exporter": "python",
   "pygments_lexer": "ipython3",
   "version": "3.7.3"
  }
 },
 "nbformat": 4,
 "nbformat_minor": 2
}
