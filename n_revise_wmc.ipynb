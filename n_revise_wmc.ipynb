{
 "cells": [
  {
   "cell_type": "code",
   "execution_count": 1,
   "metadata": {},
   "outputs": [],
   "source": [
    "import json\n",
    "from time import time\n",
    "from glob import glob\n",
    "import torch\n",
    "import numpy as np \n",
    "import pandas as pd\n",
    "import matplotlib.pyplot as plt\n",
    "import os \n",
    "from time import time\n",
    "\n",
    "from utils import load_mch\n",
    "from utils.mch import MCHHandler\n",
    "\n"
   ]
  },
  {
   "cell_type": "code",
   "execution_count": 2,
   "metadata": {},
   "outputs": [],
   "source": [
    "args = {\n",
    "    \"skin\":{\n",
    "        \"blood_volume_fraction\": 0.5,\n",
    "        \"ScvO2\": 0.7,\n",
    "        \"water_volume\": 0.49,\n",
    "        \"fat_volume\": 0,\n",
    "        \"melanin_volume\": 0.01,\n",
    "    },\n",
    "\n",
    "    \"fat\":{\n",
    "        \"blood_volume_fraction\": 0,\n",
    "        \"ScvO2\": 0,\n",
    "        \"water_volume\": 0,\n",
    "        \"fat_volume\": 1,\n",
    "        \"melanin_volume\": 0,\n",
    "    },\n",
    "\n",
    "    \"muscle\":{\n",
    "        \"blood_volume_fraction\": 0.05,\n",
    "        \"ScvO2\": 0.80,\n",
    "        \"water_volume\": 0.75,\n",
    "        \"fat_volume\": 0,\n",
    "        \"melanin_volume\": 0,\n",
    "    },\n",
    "    \"ijv\":{\n",
    "        \"blood_volume_fraction\": 1,\n",
    "        \"ScvO2\": 0.80,\n",
    "        \"water_volume\": 0,\n",
    "        \"fat_volume\": 0,\n",
    "        \"melanin_volume\": 0,\n",
    "    },\n",
    "    \"cca\":{\n",
    "        \"blood_volume_fraction\": 1,\n",
    "        \"ScvO2\": 0.80,\n",
    "        \"water_volume\": 0,\n",
    "        \"fat_volume\": 0,\n",
    "        \"melanin_volume\": 0,\n",
    "    },\n",
    "\n",
    "}\n"
   ]
  },
  {
   "cell_type": "code",
   "execution_count": 18,
   "metadata": {},
   "outputs": [],
   "source": [
    "mch = MCHHandler()\n",
    "mch.quick_load_ijv(\"output/20190502_max/mcx_output\")\n",
    "\n",
    "start = time()\n",
    "s, p = mch.run_wmc(args)\n",
    "end = time()\n",
    "run_one = [(end-start) * i for i in range(1, 101)]"
   ]
  },
  {
   "cell_type": "code",
   "execution_count": 19,
   "metadata": {},
   "outputs": [
    {
     "name": "stdout",
     "output_type": "stream",
     "text": [
      "9\r"
     ]
    }
   ],
   "source": [
    "run_multi = []\n",
    "for i in range(1, 10):\n",
    "    print(i, end=\"\\r\")\n",
    "    start = time()\n",
    "    s, p = mch.run_wmc([args] * i)\n",
    "    end = time()\n",
    "    run_multi += [end-start]"
   ]
  },
  {
   "cell_type": "code",
   "execution_count": 25,
   "metadata": {},
   "outputs": [
    {
     "data": {
      "text/plain": [
       "True"
      ]
     },
     "execution_count": 25,
     "metadata": {},
     "output_type": "execute_result"
    }
   ],
   "source": [
    "import torch\n",
    "torch.cuda.is_available()"
   ]
  },
  {
   "cell_type": "code",
   "execution_count": null,
   "metadata": {},
   "outputs": [],
   "source": [
    "start = time()\n",
    "s, p = mch.run_wmc([args] * 1000)\n",
    "end = time()\n",
    "end - start"
   ]
  },
  {
   "cell_type": "code",
   "execution_count": 27,
   "metadata": {},
   "outputs": [
    {
     "data": {
      "text/plain": [
       "(1000, 3, 27)"
      ]
     },
     "execution_count": 27,
     "metadata": {},
     "output_type": "execute_result"
    }
   ],
   "source": [
    "s.shape"
   ]
  },
  {
   "cell_type": "code",
   "execution_count": 28,
   "metadata": {},
   "outputs": [
    {
     "data": {
      "image/png": "[encoded data removed]",
      "text/plain": [
       "<Figure size 432x288 with 1 Axes>"
      ]
     },
     "metadata": {
      "needs_background": "light"
     },
     "output_type": "display_data"
    }
   ],
   "source": [
    "plt.figure(figsize=(6, 4))\n",
    "i = 9\n",
    "plt.plot(run_multi[:i], label=\"cuda\")\n",
    "plt.plot(run_one[:i], label=\"cpu\")\n",
    "\n",
    "plt.xlabel(\"# of spectrum\")\n",
    "plt.ylabel(\"time [sec]\")\n",
    "plt.legend()\n",
    "plt.grid()\n",
    "plt.show()"
   ]
  },
  {
   "cell_type": "code",
   "execution_count": 6,
   "metadata": {},
   "outputs": [
    {
     "data": {
      "text/plain": [
       "tensor([[0.2627, 0.2048, 0.1237],\n",
       "        [0.8724, 0.7898, 0.6024],\n",
       "        [0.6002, 0.6092, 0.5294],\n",
       "        [0.6724, 0.5498, 0.3614]])"
      ]
     },
     "execution_count": 6,
     "metadata": {},
     "output_type": "execute_result"
    }
   ],
   "source": [
    "torch.rand(4,2) @ torch.rand(2, 3)"
   ]
  },
  {
   "cell_type": "code",
   "execution_count": 15,
   "metadata": {},
   "outputs": [
    {
     "data": {
      "text/plain": [
       "(9, 3, 7)"
      ]
     },
     "execution_count": 15,
     "metadata": {},
     "output_type": "execute_result"
    }
   ],
   "source": [
    "s.shape"
   ]
  },
  {
   "cell_type": "code",
   "execution_count": 16,
   "metadata": {},
   "outputs": [
    {
     "data": {
      "text/plain": [
       "(9, 5, 7)"
      ]
     },
     "execution_count": 16,
     "metadata": {},
     "output_type": "execute_result"
    }
   ],
   "source": [
    "p.shape"
   ]
  },
  {
   "cell_type": "code",
   "execution_count": 22,
   "metadata": {},
   "outputs": [
    {
     "data": {
      "image/png": "[encoded data removed]",
      "text/plain": [
       "<Figure size 432x288 with 1 Axes>"
      ]
     },
     "metadata": {
      "needs_background": "light"
     },
     "output_type": "display_data"
    }
   ],
   "source": [
    "\n",
    "for i in range(3): plt.plot(s[0, i, :])"
   ]
  },
  {
   "cell_type": "code",
   "execution_count": null,
   "metadata": {},
   "outputs": [],
   "source": []
  }
 ],
 "metadata": {
  "kernelspec": {
   "display_name": "Python 3",
   "language": "python",
   "name": "python3"
  },
  "language_info": {
   "codemirror_mode": {
    "name": "ipython",
    "version": 3
   },
   "file_extension": ".py",
   "mimetype": "text/x-python",
   "name": "python",
   "nbconvert_exporter": "python",
   "pygments_lexer": "ipython3",
   "version": "3.7.3"
  }
 },
 "nbformat": 4,
 "nbformat_minor": 2
}
