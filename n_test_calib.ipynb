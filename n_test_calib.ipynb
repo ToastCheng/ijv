{
 "cells": [
  {
   "cell_type": "code",
   "execution_count": 160,
   "metadata": {},
   "outputs": [],
   "source": [
    "from utils.preprocess import Calibrator, Calibrator_backup\n",
    "import pandas as pd \n",
    "import numpy as np \n",
    "import matplotlib.pyplot as plt\n",
    "from utils.kde import smooth\n",
    "\n",
    "%matplotlib inline"
   ]
  },
  {
   "cell_type": "code",
   "execution_count": 2,
   "metadata": {},
   "outputs": [],
   "source": [
    "wl = [i for i in range(660, 921, 10)]"
   ]
  },
  {
   "cell_type": "code",
   "execution_count": 3,
   "metadata": {},
   "outputs": [],
   "source": [
    "calib = Calibrator()\n",
    "p_index = list(\"chik\")\n",
    "s_df = pd.read_csv(\"CHIKEN/sim_20190522_no_prism.csv\")\n",
    "m_df = pd.read_csv(\"data/processed/20190510/IJV/phantom/20190510.csv\")\n",
    "s_df = s_df[(s_df[\"wl\"] >= 660) & (s_df[\"wl\"]<=920)]"
   ]
  },
  {
   "cell_type": "code",
   "execution_count": 4,
   "metadata": {
    "scrolled": true
   },
   "outputs": [
    {
     "data": {
      "text/html": [
       "<div>\n",
       "<style scoped>\n",
       "    .dataframe tbody tr th:only-of-type {\n",
       "        vertical-align: middle;\n",
       "    }\n",
       "\n",
       "    .dataframe tbody tr th {\n",
       "        vertical-align: top;\n",
       "    }\n",
       "\n",
       "    .dataframe thead th {\n",
       "        text-align: right;\n",
       "    }\n",
       "</style>\n",
       "<table border=\"1\" class=\"dataframe\">\n",
       "  <thead>\n",
       "    <tr style=\"text-align: right;\">\n",
       "      <th></th>\n",
       "      <th>wl</th>\n",
       "      <th>c</th>\n",
       "      <th>h</th>\n",
       "      <th>i</th>\n",
       "      <th>k</th>\n",
       "    </tr>\n",
       "  </thead>\n",
       "  <tbody>\n",
       "    <tr>\n",
       "      <th>0</th>\n",
       "      <td>660</td>\n",
       "      <td>4.803836e-14</td>\n",
       "      <td>2.575463e-11</td>\n",
       "      <td>1.387770e-09</td>\n",
       "      <td>8.321318e-09</td>\n",
       "    </tr>\n",
       "    <tr>\n",
       "      <th>1</th>\n",
       "      <td>670</td>\n",
       "      <td>5.946785e-14</td>\n",
       "      <td>4.107851e-11</td>\n",
       "      <td>1.473433e-09</td>\n",
       "      <td>1.014764e-08</td>\n",
       "    </tr>\n",
       "    <tr>\n",
       "      <th>2</th>\n",
       "      <td>680</td>\n",
       "      <td>5.489180e-14</td>\n",
       "      <td>4.942902e-11</td>\n",
       "      <td>1.755818e-09</td>\n",
       "      <td>1.027873e-08</td>\n",
       "    </tr>\n",
       "  </tbody>\n",
       "</table>\n",
       "</div>"
      ],
      "text/plain": [
       "    wl             c             h             i             k\n",
       "0  660  4.803836e-14  2.575463e-11  1.387770e-09  8.321318e-09\n",
       "1  670  5.946785e-14  4.107851e-11  1.473433e-09  1.014764e-08\n",
       "2  680  5.489180e-14  4.942902e-11  1.755818e-09  1.027873e-08"
      ]
     },
     "execution_count": 4,
     "metadata": {},
     "output_type": "execute_result"
    }
   ],
   "source": [
    "s_df.head(3)"
   ]
  },
  {
   "cell_type": "code",
   "execution_count": 5,
   "metadata": {
    "scrolled": false
   },
   "outputs": [
    {
     "data": {
      "text/html": [
       "<div>\n",
       "<style scoped>\n",
       "    .dataframe tbody tr th:only-of-type {\n",
       "        vertical-align: middle;\n",
       "    }\n",
       "\n",
       "    .dataframe tbody tr th {\n",
       "        vertical-align: top;\n",
       "    }\n",
       "\n",
       "    .dataframe thead th {\n",
       "        text-align: right;\n",
       "    }\n",
       "</style>\n",
       "<table border=\"1\" class=\"dataframe\">\n",
       "  <thead>\n",
       "    <tr style=\"text-align: right;\">\n",
       "      <th></th>\n",
       "      <th>wavelength</th>\n",
       "      <th>c</th>\n",
       "      <th>e</th>\n",
       "      <th>h</th>\n",
       "      <th>i</th>\n",
       "      <th>k</th>\n",
       "      <th>n</th>\n",
       "    </tr>\n",
       "  </thead>\n",
       "  <tbody>\n",
       "    <tr>\n",
       "      <th>0</th>\n",
       "      <td>660</td>\n",
       "      <td>14.135375</td>\n",
       "      <td>2627.638745</td>\n",
       "      <td>62.549053</td>\n",
       "      <td>711.787844</td>\n",
       "      <td>5688.642882</td>\n",
       "      <td>2323.380046</td>\n",
       "    </tr>\n",
       "  </tbody>\n",
       "</table>\n",
       "</div>"
      ],
      "text/plain": [
       "   wavelength          c            e          h           i            k  \\\n",
       "0         660  14.135375  2627.638745  62.549053  711.787844  5688.642882   \n",
       "\n",
       "             n  \n",
       "0  2323.380046  "
      ]
     },
     "execution_count": 5,
     "metadata": {},
     "output_type": "execute_result"
    }
   ],
   "source": [
    "m_df.head(1)"
   ]
  },
  {
   "cell_type": "code",
   "execution_count": 151,
   "metadata": {
    "scrolled": true
   },
   "outputs": [
    {
     "name": "stdout",
     "output_type": "stream",
     "text": [
      "(4, 27)\n",
      "(4, 27)\n"
     ]
    }
   ],
   "source": [
    "mea_df = m_df[p_index].values.T\n",
    "sim_df = s_df[p_index].values.T\n",
    "\n",
    "print(mea_df.shape)\n",
    "print(sim_df.shape)\n",
    "a, b, rr = calib.fit(mea_df, sim_df, cross_valid=False, least_square=True)\n",
    "#                      plot_path=\"data/calibrated/20190510/IJV\")"
   ]
  },
  {
   "cell_type": "markdown",
   "metadata": {},
   "source": [
    "#### 觀察拍攝仿體校正後是否跟模擬一樣"
   ]
  },
  {
   "cell_type": "code",
   "execution_count": 158,
   "metadata": {},
   "outputs": [],
   "source": [
    "mm_df = m_df[[\"c\", \"h\", \"i\", \"k\"]].values.T\n",
    "calibed = calib.calibrate(mm_df)"
   ]
  },
  {
   "cell_type": "code",
   "execution_count": 159,
   "metadata": {},
   "outputs": [
    {
     "data": {
      "image/png": "[encoded data removed]",
      "text/plain": [
       "<Figure size 432x288 with 1 Axes>"
      ]
     },
     "metadata": {
      "needs_background": "light"
     },
     "output_type": "display_data"
    },
    {
     "data": {
      "image/png": "[encoded data removed]",
      "text/plain": [
       "<Figure size 432x288 with 1 Axes>"
      ]
     },
     "metadata": {
      "needs_background": "light"
     },
     "output_type": "display_data"
    },
    {
     "data": {
      "image/png": "[encoded data removed]",
      "text/plain": [
       "<Figure size 432x288 with 1 Axes>"
      ]
     },
     "metadata": {
      "needs_background": "light"
     },
     "output_type": "display_data"
    },
    {
     "data": {
      "image/png": "[encoded data removed]",
      "text/plain": [
       "<Figure size 432x288 with 1 Axes>"
      ]
     },
     "metadata": {
      "needs_background": "light"
     },
     "output_type": "display_data"
    }
   ],
   "source": [
    "# for i in \"chik\":\n",
    "for i, p in enumerate(\"chik\"):\n",
    "    plt.plot(wl, s_df[p])\n",
    "    plt.plot(wl, calibed[i])\n",
    "    plt.xlabel(\"wavelength [nm]\")\n",
    "    plt.ylabel(\"reflectance [-]\")\n",
    "    plt.grid()\n",
    "    plt.show()"
   ]
  },
  {
   "cell_type": "markdown",
   "metadata": {},
   "source": [
    "### 作弊 改校正係數"
   ]
  },
  {
   "cell_type": "markdown",
   "metadata": {},
   "source": [
    "#### 直接平均"
   ]
  },
  {
   "cell_type": "code",
   "execution_count": 24,
   "metadata": {},
   "outputs": [],
   "source": [
    "# 740\n",
    "calib.a[8, :] = (calib.a[7, :] + calib.a[9, :])/2\n",
    "# calib.b[8, :] = (calib.b[7, :] + calib.b[9, :])/2\n",
    "\n",
    "# 810\n",
    "# calib.a[15, :] = (calib.a[14, :] + calib.a[16, :])/2"
   ]
  },
  {
   "cell_type": "markdown",
   "metadata": {},
   "source": [
    "#### 多項式fit"
   ]
  },
  {
   "cell_type": "code",
   "execution_count": 62,
   "metadata": {},
   "outputs": [],
   "source": [
    "res0 = np.polyfit(wl, calib.a[:, 0], 5)\n",
    "res1 = np.polyfit(wl, calib.a[:, 1], 5)\n",
    "res2 = np.polyfit(wl, calib.a[:, 2], 5)\n",
    "resb0 = np.polyfit(wl, calib.b[:, 0], 5)\n",
    "resb1 = np.polyfit(wl, calib.b[:, 1], 5)\n",
    "resb2 = np.polyfit(wl, calib.b[:, 2], 5)\n",
    "\n",
    "calib.a[:, 0] = fit(wl, res0)\n",
    "calib.a[:, 1] = fit(wl, res1)\n",
    "calib.a[:, 2] = fit(wl, res2)\n",
    "calib.b[:, 0] = fit(wl, resb0)\n",
    "calib.b[:, 1] = fit(wl, resb1)\n",
    "calib.b[:, 2] = fit(wl, resb2)"
   ]
  },
  {
   "cell_type": "code",
   "execution_count": 63,
   "metadata": {},
   "outputs": [],
   "source": [
    "res\n",
    "def fit(x, res):\n",
    "    x = np.asarray(x)\n",
    "    ans = 0\n",
    "    for i in range(len(res)):\n",
    "        ans += res[i] * x ** (len(res)-i-1)\n",
    "    return ans"
   ]
  },
  {
   "cell_type": "markdown",
   "metadata": {},
   "source": [
    "#### 校正參數a"
   ]
  },
  {
   "cell_type": "code",
   "execution_count": 152,
   "metadata": {
    "scrolled": true
   },
   "outputs": [
    {
     "data": {
      "image/png": "[encoded data removed]",
      "text/plain": [
       "<Figure size 432x288 with 1 Axes>"
      ]
     },
     "metadata": {
      "needs_background": "light"
     },
     "output_type": "display_data"
    }
   ],
   "source": [
    "bw = 2.2\n",
    "plt.plot(wl, calib.a[:, 0], label=\"section 1\")\n",
    "plt.plot(wl, calib.a[:, 1], label=\"section 2\")\n",
    "plt.plot(wl, calib.a[:, 2], label=\"section 3\")\n",
    "# plt.plot(wl, fit(wl, res0))\n",
    "# plt.plot(wl, fit(wl, res1))\n",
    "# plt.plot(wl, fit(wl, res2))\n",
    "plt.plot(wl, smooth(calib.a[:, 0], bw))\n",
    "plt.plot(wl, smooth(calib.a[:, 1], bw))\n",
    "plt.plot(wl, smooth(calib.a[:, 2], bw))\n",
    "\n",
    "\n",
    "plt.xlabel(\"wavelength [nm]\")\n",
    "plt.ylabel(\"calibration coefficient [-]\")\n",
    "\n",
    "plt.grid()\n",
    "plt.legend()\n",
    "plt.show()"
   ]
  },
  {
   "cell_type": "markdown",
   "metadata": {},
   "source": [
    "#### 校正參數b"
   ]
  },
  {
   "cell_type": "code",
   "execution_count": 153,
   "metadata": {},
   "outputs": [
    {
     "data": {
      "image/png": "[encoded data removed]",
      "text/plain": [
       "<Figure size 432x288 with 1 Axes>"
      ]
     },
     "metadata": {
      "needs_background": "light"
     },
     "output_type": "display_data"
    },
    {
     "data": {
      "image/png": "[encoded data removed]",
      "text/plain": [
       "<Figure size 432x288 with 1 Axes>"
      ]
     },
     "metadata": {
      "needs_background": "light"
     },
     "output_type": "display_data"
    },
    {
     "data": {
      "image/png": "[encoded data removed]",
      "text/plain": [
       "<Figure size 432x288 with 1 Axes>"
      ]
     },
     "metadata": {
      "needs_background": "light"
     },
     "output_type": "display_data"
    }
   ],
   "source": [
    "bw = 0.6\n",
    "plt.plot(wl, calib.b[:, 0], label=\"section 1\")\n",
    "# plt.plot(wl, fit(wl, resb0))\n",
    "plt.plot(wl, smooth(calib.b[:, 0], bw))\n",
    "\n",
    "plt.grid()\n",
    "plt.show()\n",
    "\n",
    "plt.plot(wl, calib.b[:, 1], label=\"section 2\")\n",
    "# plt.plot(wl, fit(wl, resb1))\n",
    "plt.plot(wl, smooth(calib.b[:, 1], bw))\n",
    "plt.grid()\n",
    "plt.show()\n",
    "\n",
    "plt.plot(wl, calib.b[:, 2], label=\"section 3\")\n",
    "# plt.plot(wl, fit(wl, resb2))\n",
    "plt.plot(wl, smooth(calib.b[:, 2], bw))\n",
    "plt.grid()\n",
    "plt.show()"
   ]
  },
  {
   "cell_type": "code",
   "execution_count": 146,
   "metadata": {},
   "outputs": [],
   "source": [
    "a, b, rr = calib.fit(mea_df, sim_df, cross_valid=False, least_square=True)"
   ]
  },
  {
   "cell_type": "code",
   "execution_count": 164,
   "metadata": {},
   "outputs": [
    {
     "name": "stdout",
     "output_type": "stream",
     "text": [
      "Optimization terminated successfully.\n",
      "         Current function value: 0.198145\n",
      "         Iterations: 78\n",
      "         Function evaluations: 152\n",
      "Optimization terminated successfully.\n",
      "         Current function value: 0.140520\n",
      "         Iterations: 76\n",
      "         Function evaluations: 151\n",
      "Optimization terminated successfully.\n",
      "         Current function value: 0.134680\n",
      "         Iterations: 77\n",
      "         Function evaluations: 153\n",
      "Optimization terminated successfully.\n",
      "         Current function value: 0.117058\n",
      "         Iterations: 77\n",
      "         Function evaluations: 152\n",
      "Optimization terminated successfully.\n",
      "         Current function value: 0.109739\n",
      "         Iterations: 77\n",
      "         Function evaluations: 150\n",
      "Optimization terminated successfully.\n",
      "         Current function value: 0.098759\n",
      "         Iterations: 75\n",
      "         Function evaluations: 147\n",
      "Optimization terminated successfully.\n",
      "         Current function value: 0.075554\n",
      "         Iterations: 74\n",
      "         Function evaluations: 148\n",
      "Optimization terminated successfully.\n",
      "         Current function value: 0.134521\n",
      "         Iterations: 75\n",
      "         Function evaluations: 149\n",
      "Optimization terminated successfully.\n",
      "         Current function value: 0.092841\n",
      "         Iterations: 76\n",
      "         Function evaluations: 148\n",
      "Optimization terminated successfully.\n",
      "         Current function value: 0.091410\n",
      "         Iterations: 73\n",
      "         Function evaluations: 143\n",
      "Optimization terminated successfully.\n",
      "         Current function value: 0.105686\n",
      "         Iterations: 70\n",
      "         Function evaluations: 139\n",
      "Optimization terminated successfully.\n",
      "         Current function value: 0.094647\n",
      "         Iterations: 71\n",
      "         Function evaluations: 141\n",
      "Optimization terminated successfully.\n",
      "         Current function value: 0.066000\n",
      "         Iterations: 73\n",
      "         Function evaluations: 141\n",
      "Optimization terminated successfully.\n",
      "         Current function value: 0.063057\n",
      "         Iterations: 71\n",
      "         Function evaluations: 139\n",
      "Optimization terminated successfully.\n",
      "         Current function value: 0.096026\n",
      "         Iterations: 72\n",
      "         Function evaluations: 140\n",
      "Optimization terminated successfully.\n",
      "         Current function value: 0.097297\n",
      "         Iterations: 68\n",
      "         Function evaluations: 134\n",
      "Optimization terminated successfully.\n",
      "         Current function value: 0.076678\n",
      "         Iterations: 67\n",
      "         Function evaluations: 133\n",
      "Optimization terminated successfully.\n",
      "         Current function value: 0.057841\n",
      "         Iterations: 67\n",
      "         Function evaluations: 132\n",
      "Optimization terminated successfully.\n",
      "         Current function value: 0.069429\n",
      "         Iterations: 70\n",
      "         Function evaluations: 135\n",
      "Optimization terminated successfully.\n",
      "         Current function value: 0.085038\n",
      "         Iterations: 68\n",
      "         Function evaluations: 133\n",
      "Optimization terminated successfully.\n",
      "         Current function value: 0.120172\n",
      "         Iterations: 67\n",
      "         Function evaluations: 132\n",
      "Optimization terminated successfully.\n",
      "         Current function value: 0.121119\n",
      "         Iterations: 69\n",
      "         Function evaluations: 134\n",
      "Optimization terminated successfully.\n",
      "         Current function value: 0.106503\n",
      "         Iterations: 65\n",
      "         Function evaluations: 130\n",
      "Optimization terminated successfully.\n",
      "         Current function value: 0.096712\n",
      "         Iterations: 71\n",
      "         Function evaluations: 137\n",
      "Optimization terminated successfully.\n",
      "         Current function value: 0.133038\n",
      "         Iterations: 72\n",
      "         Function evaluations: 143\n",
      "Optimization terminated successfully.\n",
      "         Current function value: 0.107784\n",
      "         Iterations: 74\n",
      "         Function evaluations: 146\n",
      "Optimization terminated successfully.\n",
      "         Current function value: 0.126215\n",
      "         Iterations: 71\n",
      "         Function evaluations: 141\n",
      "leave: -1, r_square: 0.85\n",
      "Optimization terminated successfully.\n",
      "         Current function value: 0.019192\n",
      "         Iterations: 67\n",
      "         Function evaluations: 133\n",
      "Optimization terminated successfully.\n",
      "         Current function value: 0.004289\n",
      "         Iterations: 67\n",
      "         Function evaluations: 132\n",
      "Optimization terminated successfully.\n",
      "         Current function value: 0.011990\n",
      "         Iterations: 66\n",
      "         Function evaluations: 129\n",
      "Optimization terminated successfully.\n",
      "         Current function value: 0.012497\n",
      "         Iterations: 63\n",
      "         Function evaluations: 124\n",
      "Optimization terminated successfully.\n",
      "         Current function value: 0.015400\n",
      "         Iterations: 64\n",
      "         Function evaluations: 127\n",
      "Optimization terminated successfully.\n",
      "         Current function value: 0.030905\n",
      "         Iterations: 67\n",
      "         Function evaluations: 131\n",
      "Optimization terminated successfully.\n",
      "         Current function value: 0.026558\n",
      "         Iterations: 64\n",
      "         Function evaluations: 126\n",
      "Optimization terminated successfully.\n",
      "         Current function value: 0.031127\n",
      "         Iterations: 64\n",
      "         Function evaluations: 125\n",
      "Optimization terminated successfully.\n",
      "         Current function value: 0.028464\n",
      "         Iterations: 67\n",
      "         Function evaluations: 130\n",
      "Optimization terminated successfully.\n",
      "         Current function value: 0.012429\n",
      "         Iterations: 66\n",
      "         Function evaluations: 128\n",
      "Optimization terminated successfully.\n",
      "         Current function value: 0.008934\n",
      "         Iterations: 60\n",
      "         Function evaluations: 120\n",
      "Optimization terminated successfully.\n",
      "         Current function value: 0.015825\n",
      "         Iterations: 63\n",
      "         Function evaluations: 124\n",
      "Optimization terminated successfully.\n",
      "         Current function value: 0.026642\n",
      "         Iterations: 62\n",
      "         Function evaluations: 122\n",
      "Optimization terminated successfully.\n",
      "         Current function value: 0.014355\n",
      "         Iterations: 62\n",
      "         Function evaluations: 121\n",
      "Optimization terminated successfully.\n",
      "         Current function value: 0.013853\n",
      "         Iterations: 63\n",
      "         Function evaluations: 122\n",
      "Optimization terminated successfully.\n",
      "         Current function value: 0.018515\n",
      "         Iterations: 64\n",
      "         Function evaluations: 125\n",
      "Optimization terminated successfully.\n",
      "         Current function value: 0.019225\n",
      "         Iterations: 61\n",
      "         Function evaluations: 121\n",
      "Optimization terminated successfully.\n",
      "         Current function value: 0.011809\n",
      "         Iterations: 60\n",
      "         Function evaluations: 118\n",
      "Optimization terminated successfully.\n",
      "         Current function value: 0.018924\n",
      "         Iterations: 62\n",
      "         Function evaluations: 122\n",
      "Optimization terminated successfully.\n",
      "         Current function value: 0.033504\n",
      "         Iterations: 62\n",
      "         Function evaluations: 120\n",
      "Optimization terminated successfully.\n",
      "         Current function value: 0.037101\n",
      "         Iterations: 61\n",
      "         Function evaluations: 120\n",
      "Optimization terminated successfully.\n",
      "         Current function value: 0.034346\n",
      "         Iterations: 66\n",
      "         Function evaluations: 127\n",
      "Optimization terminated successfully.\n",
      "         Current function value: 0.042048\n",
      "         Iterations: 61\n",
      "         Function evaluations: 120\n",
      "Optimization terminated successfully.\n",
      "         Current function value: 0.040887\n",
      "         Iterations: 63\n",
      "         Function evaluations: 123\n",
      "Optimization terminated successfully.\n",
      "         Current function value: 0.035742\n",
      "         Iterations: 65\n",
      "         Function evaluations: 128\n",
      "Optimization terminated successfully.\n",
      "         Current function value: 0.013604\n",
      "         Iterations: 66\n",
      "         Function evaluations: 130\n",
      "Optimization terminated successfully.\n",
      "         Current function value: 0.028427\n",
      "         Iterations: 67\n",
      "         Function evaluations: 130\n",
      "leave: 0, r_square: 0.95\n",
      "Optimization terminated successfully.\n",
      "         Current function value: 0.014925\n",
      "         Iterations: 76\n",
      "         Function evaluations: 150\n",
      "Optimization terminated successfully.\n",
      "         Current function value: 0.002435\n",
      "         Iterations: 75\n",
      "         Function evaluations: 148\n",
      "Optimization terminated successfully.\n",
      "         Current function value: 0.008703\n",
      "         Iterations: 78\n",
      "         Function evaluations: 152\n",
      "Optimization terminated successfully.\n",
      "         Current function value: 0.009170\n",
      "         Iterations: 73\n",
      "         Function evaluations: 144\n",
      "Optimization terminated successfully.\n",
      "         Current function value: 0.011706\n",
      "         Iterations: 77\n",
      "         Function evaluations: 151\n",
      "Optimization terminated successfully.\n",
      "         Current function value: 0.025977\n",
      "         Iterations: 75\n",
      "         Function evaluations: 148\n",
      "Optimization terminated successfully.\n",
      "         Current function value: 0.022283\n",
      "         Iterations: 75\n",
      "         Function evaluations: 146\n",
      "Optimization terminated successfully.\n",
      "         Current function value: 0.024932\n",
      "         Iterations: 76\n",
      "         Function evaluations: 151\n",
      "Optimization terminated successfully.\n",
      "         Current function value: 0.023488\n",
      "         Iterations: 73\n",
      "         Function evaluations: 145\n",
      "Optimization terminated successfully.\n",
      "         Current function value: 0.008594\n",
      "         Iterations: 71\n",
      "         Function evaluations: 141\n",
      "Optimization terminated successfully.\n",
      "         Current function value: 0.005351\n",
      "         Iterations: 69\n",
      "         Function evaluations: 135\n",
      "Optimization terminated successfully.\n",
      "         Current function value: 0.011081\n",
      "         Iterations: 70\n",
      "         Function evaluations: 138\n",
      "Optimization terminated successfully.\n",
      "         Current function value: 0.021678\n",
      "         Iterations: 68\n",
      "         Function evaluations: 135\n"
     ]
    },
    {
     "name": "stdout",
     "output_type": "stream",
     "text": [
      "Optimization terminated successfully.\n",
      "         Current function value: 0.010239\n",
      "         Iterations: 69\n",
      "         Function evaluations: 135\n",
      "Optimization terminated successfully.\n",
      "         Current function value: 0.008925\n",
      "         Iterations: 72\n",
      "         Function evaluations: 139\n",
      "Optimization terminated successfully.\n",
      "         Current function value: 0.012740\n",
      "         Iterations: 72\n",
      "         Function evaluations: 138\n",
      "Optimization terminated successfully.\n",
      "         Current function value: 0.013729\n",
      "         Iterations: 67\n",
      "         Function evaluations: 133\n",
      "Optimization terminated successfully.\n",
      "         Current function value: 0.007673\n",
      "         Iterations: 70\n",
      "         Function evaluations: 136\n",
      "Optimization terminated successfully.\n",
      "         Current function value: 0.013383\n",
      "         Iterations: 66\n",
      "         Function evaluations: 129\n",
      "Optimization terminated successfully.\n",
      "         Current function value: 0.025983\n",
      "         Iterations: 65\n",
      "         Function evaluations: 128\n",
      "Optimization terminated successfully.\n",
      "         Current function value: 0.027576\n",
      "         Iterations: 65\n",
      "         Function evaluations: 129\n",
      "Optimization terminated successfully.\n",
      "         Current function value: 0.024877\n",
      "         Iterations: 67\n",
      "         Function evaluations: 131\n",
      "Optimization terminated successfully.\n",
      "         Current function value: 0.032710\n",
      "         Iterations: 67\n",
      "         Function evaluations: 131\n",
      "Optimization terminated successfully.\n",
      "         Current function value: 0.031915\n",
      "         Iterations: 66\n",
      "         Function evaluations: 131\n",
      "Optimization terminated successfully.\n",
      "         Current function value: 0.027097\n",
      "         Iterations: 70\n",
      "         Function evaluations: 140\n",
      "Optimization terminated successfully.\n",
      "         Current function value: 0.009093\n",
      "         Iterations: 74\n",
      "         Function evaluations: 145\n",
      "Optimization terminated successfully.\n",
      "         Current function value: 0.019172\n",
      "         Iterations: 75\n",
      "         Function evaluations: 144\n",
      "leave: 1, r_square: 0.96\n",
      "Optimization terminated successfully.\n",
      "         Current function value: 0.119885\n",
      "         Iterations: 77\n",
      "         Function evaluations: 153\n",
      "Optimization terminated successfully.\n",
      "         Current function value: 0.096229\n",
      "         Iterations: 79\n",
      "         Function evaluations: 154\n",
      "Optimization terminated successfully.\n",
      "         Current function value: 0.082938\n",
      "         Iterations: 75\n",
      "         Function evaluations: 149\n",
      "Optimization terminated successfully.\n",
      "         Current function value: 0.070607\n",
      "         Iterations: 76\n",
      "         Function evaluations: 150\n",
      "Optimization terminated successfully.\n",
      "         Current function value: 0.062690\n",
      "         Iterations: 77\n",
      "         Function evaluations: 150\n",
      "Optimization terminated successfully.\n",
      "         Current function value: 0.043454\n",
      "         Iterations: 76\n",
      "         Function evaluations: 150\n",
      "Optimization terminated successfully.\n",
      "         Current function value: 0.030735\n",
      "         Iterations: 73\n",
      "         Function evaluations: 145\n",
      "Optimization terminated successfully.\n",
      "         Current function value: 0.068547\n",
      "         Iterations: 75\n",
      "         Function evaluations: 148\n",
      "Optimization terminated successfully.\n",
      "         Current function value: 0.041307\n",
      "         Iterations: 74\n",
      "         Function evaluations: 147\n",
      "Optimization terminated successfully.\n",
      "         Current function value: 0.053623\n",
      "         Iterations: 71\n",
      "         Function evaluations: 141\n",
      "Optimization terminated successfully.\n",
      "         Current function value: 0.067686\n",
      "         Iterations: 69\n",
      "         Function evaluations: 139\n",
      "Optimization terminated successfully.\n",
      "         Current function value: 0.053127\n",
      "         Iterations: 71\n",
      "         Function evaluations: 140\n",
      "Optimization terminated successfully.\n",
      "         Current function value: 0.025023\n",
      "         Iterations: 73\n",
      "         Function evaluations: 140\n",
      "Optimization terminated successfully.\n",
      "         Current function value: 0.032451\n",
      "         Iterations: 70\n",
      "         Function evaluations: 139\n",
      "Optimization terminated successfully.\n",
      "         Current function value: 0.056480\n",
      "         Iterations: 70\n",
      "         Function evaluations: 137\n",
      "Optimization terminated successfully.\n",
      "         Current function value: 0.053353\n",
      "         Iterations: 69\n",
      "         Function evaluations: 137\n",
      "Optimization terminated successfully.\n",
      "         Current function value: 0.038417\n",
      "         Iterations: 71\n",
      "         Function evaluations: 140\n",
      "Optimization terminated successfully.\n",
      "         Current function value: 0.031640\n",
      "         Iterations: 66\n",
      "         Function evaluations: 130\n",
      "Optimization terminated successfully.\n",
      "         Current function value: 0.033992\n",
      "         Iterations: 69\n",
      "         Function evaluations: 133\n",
      "Optimization terminated successfully.\n",
      "         Current function value: 0.034702\n",
      "         Iterations: 70\n",
      "         Function evaluations: 135\n",
      "Optimization terminated successfully.\n",
      "         Current function value: 0.057391\n",
      "         Iterations: 68\n",
      "         Function evaluations: 133\n",
      "Optimization terminated successfully.\n",
      "         Current function value: 0.059826\n",
      "         Iterations: 69\n",
      "         Function evaluations: 135\n",
      "Optimization terminated successfully.\n",
      "         Current function value: 0.044471\n",
      "         Iterations: 71\n",
      "         Function evaluations: 137\n",
      "Optimization terminated successfully.\n",
      "         Current function value: 0.038353\n",
      "         Iterations: 71\n",
      "         Function evaluations: 136\n",
      "Optimization terminated successfully.\n",
      "         Current function value: 0.066149\n",
      "         Iterations: 70\n",
      "         Function evaluations: 140\n",
      "Optimization terminated successfully.\n",
      "         Current function value: 0.064275\n",
      "         Iterations: 74\n",
      "         Function evaluations: 147\n",
      "Optimization terminated successfully.\n",
      "         Current function value: 0.067316\n",
      "         Iterations: 75\n",
      "         Function evaluations: 146\n",
      "leave: 2, r_square: 0.80\n",
      "Optimization terminated successfully.\n",
      "         Current function value: 0.167225\n",
      "         Iterations: 75\n",
      "         Function evaluations: 150\n",
      "Optimization terminated successfully.\n",
      "         Current function value: 0.116108\n",
      "         Iterations: 79\n",
      "         Function evaluations: 155\n",
      "Optimization terminated successfully.\n",
      "         Current function value: 0.121200\n",
      "         Iterations: 75\n",
      "         Function evaluations: 149\n",
      "Optimization terminated successfully.\n",
      "         Current function value: 0.109393\n",
      "         Iterations: 77\n",
      "         Function evaluations: 151\n",
      "Optimization terminated successfully.\n",
      "         Current function value: 0.106858\n",
      "         Iterations: 77\n",
      "         Function evaluations: 151\n",
      "Optimization terminated successfully.\n",
      "         Current function value: 0.108852\n",
      "         Iterations: 75\n",
      "         Function evaluations: 149\n",
      "Optimization terminated successfully.\n",
      "         Current function value: 0.087875\n",
      "         Iterations: 72\n",
      "         Function evaluations: 143\n",
      "Optimization terminated successfully.\n",
      "         Current function value: 0.134204\n",
      "         Iterations: 73\n",
      "         Function evaluations: 146\n",
      "Optimization terminated successfully.\n",
      "         Current function value: 0.102817\n",
      "         Iterations: 77\n",
      "         Function evaluations: 150\n",
      "Optimization terminated successfully.\n",
      "         Current function value: 0.090440\n",
      "         Iterations: 70\n",
      "         Function evaluations: 141\n",
      "Optimization terminated successfully.\n",
      "         Current function value: 0.097001\n",
      "         Iterations: 69\n",
      "         Function evaluations: 139\n",
      "Optimization terminated successfully.\n",
      "         Current function value: 0.095316\n",
      "         Iterations: 73\n",
      "         Function evaluations: 141\n",
      "Optimization terminated successfully.\n",
      "         Current function value: 0.079062\n",
      "         Iterations: 75\n",
      "         Function evaluations: 143\n",
      "Optimization terminated successfully.\n",
      "         Current function value: 0.069430\n",
      "         Iterations: 70\n",
      "         Function evaluations: 139\n",
      "Optimization terminated successfully.\n",
      "         Current function value: 0.094360\n",
      "         Iterations: 73\n",
      "         Function evaluations: 141\n",
      "Optimization terminated successfully.\n",
      "         Current function value: 0.098754\n",
      "         Iterations: 69\n",
      "         Function evaluations: 136\n",
      "Optimization terminated successfully.\n",
      "         Current function value: 0.083459\n",
      "         Iterations: 72\n",
      "         Function evaluations: 140\n",
      "Optimization terminated successfully.\n",
      "         Current function value: 0.063186\n",
      "         Iterations: 65\n",
      "         Function evaluations: 129\n",
      "Optimization terminated successfully.\n",
      "         Current function value: 0.077329\n",
      "         Iterations: 69\n",
      "         Function evaluations: 134\n",
      "Optimization terminated successfully.\n",
      "         Current function value: 0.098060\n",
      "         Iterations: 68\n",
      "         Function evaluations: 133\n",
      "Optimization terminated successfully.\n",
      "         Current function value: 0.126106\n",
      "         Iterations: 67\n",
      "         Function evaluations: 132\n",
      "Optimization terminated successfully.\n",
      "         Current function value: 0.125064\n",
      "         Iterations: 66\n",
      "         Function evaluations: 130\n",
      "Optimization terminated successfully.\n",
      "         Current function value: 0.118715\n",
      "         Iterations: 69\n",
      "         Function evaluations: 135\n",
      "Optimization terminated successfully.\n",
      "         Current function value: 0.110559\n",
      "         Iterations: 72\n",
      "         Function evaluations: 139\n"
     ]
    },
    {
     "name": "stdout",
     "output_type": "stream",
     "text": [
      "Optimization terminated successfully.\n",
      "         Current function value: 0.134637\n",
      "         Iterations: 72\n",
      "         Function evaluations: 143\n",
      "Optimization terminated successfully.\n",
      "         Current function value: 0.102988\n",
      "         Iterations: 76\n",
      "         Function evaluations: 149\n",
      "Optimization terminated successfully.\n",
      "         Current function value: 0.124522\n",
      "         Iterations: 71\n",
      "         Function evaluations: 141\n",
      "leave: 3, r_square: 0.57\n",
      "finally leave: 1\n"
     ]
    }
   ],
   "source": [
    "calib_bk = Calibrator_backup()\n",
    "a, b, rr = calib_bk.fit(mea_df, sim_df, cross_valid=True, least_square=False)"
   ]
  },
  {
   "cell_type": "code",
   "execution_count": 168,
   "metadata": {},
   "outputs": [],
   "source": [
    "bw1 = 2.2\n",
    "bw2 = 0.6\n",
    "for i in range(3):\n",
    "    calib.a[:, i] = smooth(calib.a[:, i], bw1)\n",
    "    calib.b[:, i] = smooth(calib.b[:, i], bw2)\n",
    "    calib_bk.a = smooth(calib_bk.a, bw1)\n",
    "    calib_bk.b = smooth(calib_bk.b, bw2)\n",
    "    "
   ]
  },
  {
   "cell_type": "markdown",
   "metadata": {},
   "source": [
    "#### 活體"
   ]
  },
  {
   "cell_type": "code",
   "execution_count": 132,
   "metadata": {},
   "outputs": [],
   "source": [
    "live = pd.read_csv(\"data/processed/20190510/IJV/live/20190510_1_1.csv\")"
   ]
  },
  {
   "cell_type": "code",
   "execution_count": 148,
   "metadata": {},
   "outputs": [],
   "source": [
    "live_max = calib.calibrate(live[\"max\"].values)[0]\n",
    "live_min = calib.calibrate(live[\"min\"].values)[0]"
   ]
  },
  {
   "cell_type": "code",
   "execution_count": 169,
   "metadata": {},
   "outputs": [],
   "source": [
    "live_max = calib_bk.calibrate(live[\"max\"].values)[0]\n",
    "live_min = calib_bk.calibrate(live[\"min\"].values)[0]"
   ]
  },
  {
   "cell_type": "code",
   "execution_count": 170,
   "metadata": {},
   "outputs": [
    {
     "data": {
      "image/png": "[encoded data removed]",
      "text/plain": [
       "<Figure size 864x432 with 1 Axes>"
      ]
     },
     "metadata": {
      "needs_background": "light"
     },
     "output_type": "display_data"
    }
   ],
   "source": [
    "plt.figure(figsize=(12, 6))\n",
    "plt.plot(wl, live_max, label=\"max\")\n",
    "plt.plot(wl, live_min, label=\"min\")\n",
    "plt.xlabel(\"wavelength [nm]\")\n",
    "plt.ylabel(\"reflectance [-]\")\n",
    "plt.xticks(wl)\n",
    "plt.grid()\n",
    "plt.show()"
   ]
  },
  {
   "cell_type": "code",
   "execution_count": 15,
   "metadata": {},
   "outputs": [
    {
     "ename": "AssertionError",
     "evalue": "",
     "output_type": "error",
     "traceback": [
      "\u001b[0;31m---------------------------------------------------------------------------\u001b[0m",
      "\u001b[0;31mAssertionError\u001b[0m                            Traceback (most recent call last)",
      "\u001b[0;32m<ipython-input-15-a871fdc9ebee>\u001b[0m in \u001b[0;36m<module>\u001b[0;34m\u001b[0m\n\u001b[0;32m----> 1\u001b[0;31m \u001b[0;32massert\u001b[0m \u001b[0;32mFalse\u001b[0m\u001b[0;34m\u001b[0m\u001b[0;34m\u001b[0m\u001b[0m\n\u001b[0m",
      "\u001b[0;31mAssertionError\u001b[0m: "
     ]
    }
   ],
   "source": [
    "assert False"
   ]
  },
  {
   "cell_type": "code",
   "execution_count": null,
   "metadata": {},
   "outputs": [],
   "source": [
    "m_df[\"c\"], calib.calibrate(m_df[\"c\"])"
   ]
  },
  {
   "cell_type": "code",
   "execution_count": null,
   "metadata": {},
   "outputs": [],
   "source": [
    "x = np.arange(1, 100)\n",
    "y = x * 6 + 62"
   ]
  },
  {
   "cell_type": "code",
   "execution_count": null,
   "metadata": {},
   "outputs": [],
   "source": [
    "# plt.plot(x, y)\n",
    "plt.plot(np.log(x), np.log(y))"
   ]
  },
  {
   "cell_type": "code",
   "execution_count": null,
   "metadata": {},
   "outputs": [],
   "source": [
    "from scipy.optimize import curve_fit"
   ]
  },
  {
   "cell_type": "code",
   "execution_count": null,
   "metadata": {},
   "outputs": [],
   "source": [
    "def rmsp(x, a, b, c):\n",
    "    return (x ** a)  * b + c\n"
   ]
  },
  {
   "cell_type": "code",
   "execution_count": null,
   "metadata": {},
   "outputs": [],
   "source": [
    "x = np.arange(1, 100)\n",
    "y = (x**1.1) * 2 + 4 + np.random.rand() * 1\n",
    "\n",
    "result = curve_fit(rmsp, x, y)"
   ]
  },
  {
   "cell_type": "code",
   "execution_count": null,
   "metadata": {},
   "outputs": [],
   "source": [
    "result"
   ]
  },
  {
   "cell_type": "code",
   "execution_count": null,
   "metadata": {},
   "outputs": [],
   "source": [
    "x = np.asarray([1,2,3,4,5,6])\n",
    "y = x ** 2 + x * 4 + 3\n",
    "np.polyfit(x, y, 2)"
   ]
  },
  {
   "cell_type": "code",
   "execution_count": null,
   "metadata": {},
   "outputs": [],
   "source": [
    "m_df.head(1)"
   ]
  },
  {
   "cell_type": "code",
   "execution_count": null,
   "metadata": {},
   "outputs": [],
   "source": [
    "live = pd.read_csv(\"data/processed/20190510/IJV/live/20190510_1_1.csv\")\n",
    "live.head(1)"
   ]
  },
  {
   "cell_type": "code",
   "execution_count": null,
   "metadata": {},
   "outputs": [],
   "source": [
    "plt.plot(wl, m_df[\"c\"], label=\"c\")\n",
    "plt.plot(wl, m_df[\"h\"], label=\"h\")\n",
    "plt.plot(wl, m_df[\"i\"], label=\"i\")\n",
    "plt.plot(wl, m_df[\"k\"], label=\"k\")\n",
    "\n",
    "plt.plot(wl, live[\"max\"], label=\"live\")\n",
    "plt.plot(wl, live[\"min\"], label=\"live\")\n",
    "\n",
    "plt.legend()\n",
    "plt.show()"
   ]
  },
  {
   "cell_type": "code",
   "execution_count": null,
   "metadata": {},
   "outputs": [],
   "source": [
    "def linear_fit(x, y):\n",
    "    x = np.asarray(x)\n",
    "    y = np.asarray(y)\n",
    "\n",
    "    n = x.shape[0]\n",
    "    \n",
    "    x_mean = x.mean()\n",
    "    y_mean = y.mean()\n",
    "    \n",
    "    Sxy = ((y-y_mean) * x).sum()\n",
    "    Sxx = ((x-x_mean) * x).sum()\n",
    "    b1 = Sxy/Sxx\n",
    "    b0 = y_mean - b1 * x_mean\n",
    "    \n",
    "    return b0, b1\n",
    "    "
   ]
  },
  {
   "cell_type": "code",
   "execution_count": null,
   "metadata": {},
   "outputs": [],
   "source": [
    "x = np.arange(1, 10)\n",
    "y = x * 5 + 186\n",
    "linear_fit(x, y)"
   ]
  },
  {
   "cell_type": "code",
   "execution_count": null,
   "metadata": {},
   "outputs": [],
   "source": [
    "from scipy.optimize import fmin"
   ]
  },
  {
   "cell_type": "code",
   "execution_count": null,
   "metadata": {},
   "outputs": [],
   "source": [
    "xx = np.array([1,2,3,4,5])\n",
    "yy = 34 * xx + 21\n",
    "rmsp = lambda x: (((x[0] * xx + x[1] - yy)/yy)**2).mean()"
   ]
  },
  {
   "cell_type": "code",
   "execution_count": null,
   "metadata": {},
   "outputs": [],
   "source": [
    "r = fmin(rmsp, x0=[1, 2])"
   ]
  },
  {
   "cell_type": "code",
   "execution_count": null,
   "metadata": {},
   "outputs": [],
   "source": [
    "r"
   ]
  },
  {
   "cell_type": "code",
   "execution_count": null,
   "metadata": {},
   "outputs": [],
   "source": []
  }
 ],
 "metadata": {
  "kernelspec": {
   "display_name": "Python 3",
   "language": "python",
   "name": "python3"
  },
  "language_info": {
   "codemirror_mode": {
    "name": "ipython",
    "version": 3
   },
   "file_extension": ".py",
   "mimetype": "text/x-python",
   "name": "python",
   "nbconvert_exporter": "python",
   "pygments_lexer": "ipython3",
   "version": "3.7.3"
  }
 },
 "nbformat": 4,
 "nbformat_minor": 2
}
