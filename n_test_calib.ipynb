{
 "cells": [
  {
   "cell_type": "code",
   "execution_count": 1,
   "metadata": {},
   "outputs": [],
   "source": [
    "from utils.preprocess import Calibrator\n",
    "import pandas as pd \n",
    "import numpy as np \n",
    "import matplotlib.pyplot as plt\n",
    "\n",
    "%matplotlib inline"
   ]
  },
  {
   "cell_type": "code",
   "execution_count": 2,
   "metadata": {},
   "outputs": [],
   "source": [
    "wl = [i for i in range(660, 921, 10)]"
   ]
  },
  {
   "cell_type": "code",
   "execution_count": 3,
   "metadata": {},
   "outputs": [],
   "source": [
    "calib = Calibrator()\n",
    "p_index = list(\"chik\")\n",
    "s_df = pd.read_csv(\"CHIKEN/20190509_sim_chik.csv\")\n",
    "m_df = pd.read_csv(\"data/processed/20190510/IJV/phantom/20190510.csv\")\n",
    "s_df = s_df[(s_df[\"wl\"] >= 660) & (s_df[\"wl\"]<=920)]"
   ]
  },
  {
   "cell_type": "code",
   "execution_count": 4,
   "metadata": {
    "scrolled": true
   },
   "outputs": [
    {
     "data": {
      "text/html": [
       "<div>\n",
       "<style scoped>\n",
       "    .dataframe tbody tr th:only-of-type {\n",
       "        vertical-align: middle;\n",
       "    }\n",
       "\n",
       "    .dataframe tbody tr th {\n",
       "        vertical-align: top;\n",
       "    }\n",
       "\n",
       "    .dataframe thead th {\n",
       "        text-align: right;\n",
       "    }\n",
       "</style>\n",
       "<table border=\"1\" class=\"dataframe\">\n",
       "  <thead>\n",
       "    <tr style=\"text-align: right;\">\n",
       "      <th></th>\n",
       "      <th>wl</th>\n",
       "      <th>c</th>\n",
       "      <th>h</th>\n",
       "      <th>i</th>\n",
       "      <th>k</th>\n",
       "    </tr>\n",
       "  </thead>\n",
       "  <tbody>\n",
       "    <tr>\n",
       "      <th>1</th>\n",
       "      <td>660</td>\n",
       "      <td>5.351570e-13</td>\n",
       "      <td>4.862817e-11</td>\n",
       "      <td>2.609549e-09</td>\n",
       "      <td>1.648040e-08</td>\n",
       "    </tr>\n",
       "    <tr>\n",
       "      <th>2</th>\n",
       "      <td>670</td>\n",
       "      <td>7.332732e-13</td>\n",
       "      <td>1.772918e-10</td>\n",
       "      <td>2.559710e-09</td>\n",
       "      <td>1.829626e-08</td>\n",
       "    </tr>\n",
       "    <tr>\n",
       "      <th>3</th>\n",
       "      <td>680</td>\n",
       "      <td>1.540873e-14</td>\n",
       "      <td>3.300411e-11</td>\n",
       "      <td>3.058366e-09</td>\n",
       "      <td>1.723034e-08</td>\n",
       "    </tr>\n",
       "  </tbody>\n",
       "</table>\n",
       "</div>"
      ],
      "text/plain": [
       "    wl             c             h             i             k\n",
       "1  660  5.351570e-13  4.862817e-11  2.609549e-09  1.648040e-08\n",
       "2  670  7.332732e-13  1.772918e-10  2.559710e-09  1.829626e-08\n",
       "3  680  1.540873e-14  3.300411e-11  3.058366e-09  1.723034e-08"
      ]
     },
     "execution_count": 4,
     "metadata": {},
     "output_type": "execute_result"
    }
   ],
   "source": [
    "s_df.head(3)"
   ]
  },
  {
   "cell_type": "code",
   "execution_count": 15,
   "metadata": {
    "scrolled": false
   },
   "outputs": [
    {
     "data": {
      "text/html": [
       "<div>\n",
       "<style scoped>\n",
       "    .dataframe tbody tr th:only-of-type {\n",
       "        vertical-align: middle;\n",
       "    }\n",
       "\n",
       "    .dataframe tbody tr th {\n",
       "        vertical-align: top;\n",
       "    }\n",
       "\n",
       "    .dataframe thead th {\n",
       "        text-align: right;\n",
       "    }\n",
       "</style>\n",
       "<table border=\"1\" class=\"dataframe\">\n",
       "  <thead>\n",
       "    <tr style=\"text-align: right;\">\n",
       "      <th></th>\n",
       "      <th>wavelength</th>\n",
       "      <th>c</th>\n",
       "      <th>e</th>\n",
       "      <th>h</th>\n",
       "      <th>i</th>\n",
       "      <th>k</th>\n",
       "      <th>n</th>\n",
       "    </tr>\n",
       "  </thead>\n",
       "  <tbody>\n",
       "    <tr>\n",
       "      <th>0</th>\n",
       "      <td>660</td>\n",
       "      <td>14.135375</td>\n",
       "      <td>2627.638745</td>\n",
       "      <td>62.549053</td>\n",
       "      <td>711.787844</td>\n",
       "      <td>5688.642882</td>\n",
       "      <td>2323.380046</td>\n",
       "    </tr>\n",
       "    <tr>\n",
       "      <th>1</th>\n",
       "      <td>670</td>\n",
       "      <td>14.745857</td>\n",
       "      <td>3260.374712</td>\n",
       "      <td>81.241801</td>\n",
       "      <td>899.666403</td>\n",
       "      <td>6885.355479</td>\n",
       "      <td>2887.483696</td>\n",
       "    </tr>\n",
       "    <tr>\n",
       "      <th>2</th>\n",
       "      <td>680</td>\n",
       "      <td>17.472876</td>\n",
       "      <td>3917.584497</td>\n",
       "      <td>103.084893</td>\n",
       "      <td>1111.359977</td>\n",
       "      <td>8082.936002</td>\n",
       "      <td>3471.861290</td>\n",
       "    </tr>\n",
       "    <tr>\n",
       "      <th>3</th>\n",
       "      <td>690</td>\n",
       "      <td>19.253690</td>\n",
       "      <td>4401.043056</td>\n",
       "      <td>124.614224</td>\n",
       "      <td>1283.026845</td>\n",
       "      <td>8893.508030</td>\n",
       "      <td>3910.712818</td>\n",
       "    </tr>\n",
       "    <tr>\n",
       "      <th>4</th>\n",
       "      <td>700</td>\n",
       "      <td>22.471854</td>\n",
       "      <td>5352.865160</td>\n",
       "      <td>157.659221</td>\n",
       "      <td>1597.035224</td>\n",
       "      <td>10588.110482</td>\n",
       "      <td>4773.885729</td>\n",
       "    </tr>\n",
       "    <tr>\n",
       "      <th>5</th>\n",
       "      <td>710</td>\n",
       "      <td>26.322115</td>\n",
       "      <td>5893.640093</td>\n",
       "      <td>189.692888</td>\n",
       "      <td>1805.701081</td>\n",
       "      <td>11474.328774</td>\n",
       "      <td>5269.190994</td>\n",
       "    </tr>\n",
       "    <tr>\n",
       "      <th>6</th>\n",
       "      <td>720</td>\n",
       "      <td>28.912318</td>\n",
       "      <td>6712.376432</td>\n",
       "      <td>227.460593</td>\n",
       "      <td>2108.640232</td>\n",
       "      <td>12854.103905</td>\n",
       "      <td>6010.089715</td>\n",
       "    </tr>\n",
       "    <tr>\n",
       "      <th>7</th>\n",
       "      <td>730</td>\n",
       "      <td>32.800232</td>\n",
       "      <td>7445.245694</td>\n",
       "      <td>268.960186</td>\n",
       "      <td>2396.483068</td>\n",
       "      <td>13981.128507</td>\n",
       "      <td>6683.238710</td>\n",
       "    </tr>\n",
       "    <tr>\n",
       "      <th>8</th>\n",
       "      <td>740</td>\n",
       "      <td>32.541859</td>\n",
       "      <td>7211.259721</td>\n",
       "      <td>273.106868</td>\n",
       "      <td>2411.860349</td>\n",
       "      <td>13128.022987</td>\n",
       "      <td>6497.935723</td>\n",
       "    </tr>\n",
       "    <tr>\n",
       "      <th>9</th>\n",
       "      <td>750</td>\n",
       "      <td>41.352144</td>\n",
       "      <td>9010.890982</td>\n",
       "      <td>368.677687</td>\n",
       "      <td>3025.575991</td>\n",
       "      <td>16406.010761</td>\n",
       "      <td>8110.619582</td>\n",
       "    </tr>\n",
       "    <tr>\n",
       "      <th>10</th>\n",
       "      <td>760</td>\n",
       "      <td>45.774550</td>\n",
       "      <td>9890.919279</td>\n",
       "      <td>427.665218</td>\n",
       "      <td>3347.170459</td>\n",
       "      <td>17861.757699</td>\n",
       "      <td>8891.517281</td>\n",
       "    </tr>\n",
       "    <tr>\n",
       "      <th>11</th>\n",
       "      <td>770</td>\n",
       "      <td>52.013260</td>\n",
       "      <td>10671.036037</td>\n",
       "      <td>490.199349</td>\n",
       "      <td>3674.204776</td>\n",
       "      <td>19025.847728</td>\n",
       "      <td>9612.733492</td>\n",
       "    </tr>\n",
       "    <tr>\n",
       "      <th>12</th>\n",
       "      <td>780</td>\n",
       "      <td>55.842243</td>\n",
       "      <td>10879.216014</td>\n",
       "      <td>527.400569</td>\n",
       "      <td>3804.453969</td>\n",
       "      <td>19142.054375</td>\n",
       "      <td>9810.868390</td>\n",
       "    </tr>\n",
       "    <tr>\n",
       "      <th>13</th>\n",
       "      <td>790</td>\n",
       "      <td>60.958106</td>\n",
       "      <td>11758.277815</td>\n",
       "      <td>602.224788</td>\n",
       "      <td>4189.002347</td>\n",
       "      <td>20448.068379</td>\n",
       "      <td>10616.880105</td>\n",
       "    </tr>\n",
       "    <tr>\n",
       "      <th>14</th>\n",
       "      <td>800</td>\n",
       "      <td>64.410389</td>\n",
       "      <td>11785.676479</td>\n",
       "      <td>634.093225</td>\n",
       "      <td>4270.742708</td>\n",
       "      <td>20191.602499</td>\n",
       "      <td>10650.610250</td>\n",
       "    </tr>\n",
       "    <tr>\n",
       "      <th>15</th>\n",
       "      <td>810</td>\n",
       "      <td>68.286961</td>\n",
       "      <td>11834.676177</td>\n",
       "      <td>672.045927</td>\n",
       "      <td>4377.367101</td>\n",
       "      <td>19951.717920</td>\n",
       "      <td>10727.439431</td>\n",
       "    </tr>\n",
       "    <tr>\n",
       "      <th>16</th>\n",
       "      <td>820</td>\n",
       "      <td>69.304707</td>\n",
       "      <td>11408.521917</td>\n",
       "      <td>676.840651</td>\n",
       "      <td>4251.919768</td>\n",
       "      <td>19203.650192</td>\n",
       "      <td>10319.181499</td>\n",
       "    </tr>\n",
       "    <tr>\n",
       "      <th>17</th>\n",
       "      <td>830</td>\n",
       "      <td>80.002034</td>\n",
       "      <td>12713.954526</td>\n",
       "      <td>795.672365</td>\n",
       "      <td>4800.432237</td>\n",
       "      <td>21191.695514</td>\n",
       "      <td>11520.760918</td>\n",
       "    </tr>\n",
       "    <tr>\n",
       "      <th>18</th>\n",
       "      <td>840</td>\n",
       "      <td>74.427042</td>\n",
       "      <td>11102.943254</td>\n",
       "      <td>726.261580</td>\n",
       "      <td>4262.841790</td>\n",
       "      <td>18265.334364</td>\n",
       "      <td>10077.256165</td>\n",
       "    </tr>\n",
       "    <tr>\n",
       "      <th>19</th>\n",
       "      <td>850</td>\n",
       "      <td>76.901999</td>\n",
       "      <td>10950.932807</td>\n",
       "      <td>744.669762</td>\n",
       "      <td>4283.718338</td>\n",
       "      <td>17802.554166</td>\n",
       "      <td>9947.749576</td>\n",
       "    </tr>\n",
       "    <tr>\n",
       "      <th>20</th>\n",
       "      <td>860</td>\n",
       "      <td>80.358071</td>\n",
       "      <td>10879.659338</td>\n",
       "      <td>783.249924</td>\n",
       "      <td>4325.517687</td>\n",
       "      <td>17512.912586</td>\n",
       "      <td>9902.663300</td>\n",
       "    </tr>\n",
       "    <tr>\n",
       "      <th>21</th>\n",
       "      <td>870</td>\n",
       "      <td>77.966357</td>\n",
       "      <td>10070.089983</td>\n",
       "      <td>749.004381</td>\n",
       "      <td>4044.560139</td>\n",
       "      <td>16133.605532</td>\n",
       "      <td>9166.765660</td>\n",
       "    </tr>\n",
       "    <tr>\n",
       "      <th>22</th>\n",
       "      <td>880</td>\n",
       "      <td>72.582940</td>\n",
       "      <td>9067.199884</td>\n",
       "      <td>700.253376</td>\n",
       "      <td>3761.852202</td>\n",
       "      <td>14197.423266</td>\n",
       "      <td>8282.146136</td>\n",
       "    </tr>\n",
       "    <tr>\n",
       "      <th>23</th>\n",
       "      <td>890</td>\n",
       "      <td>65.782092</td>\n",
       "      <td>7810.348286</td>\n",
       "      <td>623.390622</td>\n",
       "      <td>3287.130122</td>\n",
       "      <td>12142.950901</td>\n",
       "      <td>7145.852109</td>\n",
       "    </tr>\n",
       "    <tr>\n",
       "      <th>24</th>\n",
       "      <td>900</td>\n",
       "      <td>42.768669</td>\n",
       "      <td>5141.765636</td>\n",
       "      <td>400.661046</td>\n",
       "      <td>2325.500488</td>\n",
       "      <td>7565.911958</td>\n",
       "      <td>4767.421534</td>\n",
       "    </tr>\n",
       "    <tr>\n",
       "      <th>25</th>\n",
       "      <td>910</td>\n",
       "      <td>25.731238</td>\n",
       "      <td>2802.631238</td>\n",
       "      <td>217.783707</td>\n",
       "      <td>1391.128937</td>\n",
       "      <td>4029.627426</td>\n",
       "      <td>2629.766310</td>\n",
       "    </tr>\n",
       "    <tr>\n",
       "      <th>26</th>\n",
       "      <td>920</td>\n",
       "      <td>58.818175</td>\n",
       "      <td>5982.026659</td>\n",
       "      <td>535.277653</td>\n",
       "      <td>2661.176200</td>\n",
       "      <td>9103.981499</td>\n",
       "      <td>5507.162324</td>\n",
       "    </tr>\n",
       "  </tbody>\n",
       "</table>\n",
       "</div>"
      ],
      "text/plain": [
       "    wavelength          c             e           h            i  \\\n",
       "0          660  14.135375   2627.638745   62.549053   711.787844   \n",
       "1          670  14.745857   3260.374712   81.241801   899.666403   \n",
       "2          680  17.472876   3917.584497  103.084893  1111.359977   \n",
       "3          690  19.253690   4401.043056  124.614224  1283.026845   \n",
       "4          700  22.471854   5352.865160  157.659221  1597.035224   \n",
       "5          710  26.322115   5893.640093  189.692888  1805.701081   \n",
       "6          720  28.912318   6712.376432  227.460593  2108.640232   \n",
       "7          730  32.800232   7445.245694  268.960186  2396.483068   \n",
       "8          740  32.541859   7211.259721  273.106868  2411.860349   \n",
       "9          750  41.352144   9010.890982  368.677687  3025.575991   \n",
       "10         760  45.774550   9890.919279  427.665218  3347.170459   \n",
       "11         770  52.013260  10671.036037  490.199349  3674.204776   \n",
       "12         780  55.842243  10879.216014  527.400569  3804.453969   \n",
       "13         790  60.958106  11758.277815  602.224788  4189.002347   \n",
       "14         800  64.410389  11785.676479  634.093225  4270.742708   \n",
       "15         810  68.286961  11834.676177  672.045927  4377.367101   \n",
       "16         820  69.304707  11408.521917  676.840651  4251.919768   \n",
       "17         830  80.002034  12713.954526  795.672365  4800.432237   \n",
       "18         840  74.427042  11102.943254  726.261580  4262.841790   \n",
       "19         850  76.901999  10950.932807  744.669762  4283.718338   \n",
       "20         860  80.358071  10879.659338  783.249924  4325.517687   \n",
       "21         870  77.966357  10070.089983  749.004381  4044.560139   \n",
       "22         880  72.582940   9067.199884  700.253376  3761.852202   \n",
       "23         890  65.782092   7810.348286  623.390622  3287.130122   \n",
       "24         900  42.768669   5141.765636  400.661046  2325.500488   \n",
       "25         910  25.731238   2802.631238  217.783707  1391.128937   \n",
       "26         920  58.818175   5982.026659  535.277653  2661.176200   \n",
       "\n",
       "               k             n  \n",
       "0    5688.642882   2323.380046  \n",
       "1    6885.355479   2887.483696  \n",
       "2    8082.936002   3471.861290  \n",
       "3    8893.508030   3910.712818  \n",
       "4   10588.110482   4773.885729  \n",
       "5   11474.328774   5269.190994  \n",
       "6   12854.103905   6010.089715  \n",
       "7   13981.128507   6683.238710  \n",
       "8   13128.022987   6497.935723  \n",
       "9   16406.010761   8110.619582  \n",
       "10  17861.757699   8891.517281  \n",
       "11  19025.847728   9612.733492  \n",
       "12  19142.054375   9810.868390  \n",
       "13  20448.068379  10616.880105  \n",
       "14  20191.602499  10650.610250  \n",
       "15  19951.717920  10727.439431  \n",
       "16  19203.650192  10319.181499  \n",
       "17  21191.695514  11520.760918  \n",
       "18  18265.334364  10077.256165  \n",
       "19  17802.554166   9947.749576  \n",
       "20  17512.912586   9902.663300  \n",
       "21  16133.605532   9166.765660  \n",
       "22  14197.423266   8282.146136  \n",
       "23  12142.950901   7145.852109  \n",
       "24   7565.911958   4767.421534  \n",
       "25   4029.627426   2629.766310  \n",
       "26   9103.981499   5507.162324  "
      ]
     },
     "execution_count": 15,
     "metadata": {},
     "output_type": "execute_result"
    }
   ],
   "source": [
    "m_df.head(50)"
   ]
  },
  {
   "cell_type": "code",
   "execution_count": 6,
   "metadata": {
    "scrolled": true
   },
   "outputs": [
    {
     "name": "stdout",
     "output_type": "stream",
     "text": [
      "(4, 27)\n",
      "(4, 27)\n",
      "Optimization terminated successfully.\n",
      "         Current function value: 0.205192\n",
      "         Iterations: 73\n",
      "         Function evaluations: 145\n",
      "Optimization terminated successfully.\n",
      "         Current function value: 0.001177\n",
      "         Iterations: 72\n",
      "         Function evaluations: 143\n",
      "Optimization terminated successfully.\n",
      "         Current function value: 0.336900\n",
      "         Iterations: 77\n",
      "         Function evaluations: 153\n",
      "Optimization terminated successfully.\n",
      "         Current function value: 0.141957\n",
      "         Iterations: 73\n",
      "         Function evaluations: 145\n",
      "Optimization terminated successfully.\n",
      "         Current function value: 0.082053\n",
      "         Iterations: 75\n",
      "         Function evaluations: 145\n",
      "Optimization terminated successfully.\n",
      "         Current function value: 0.217901\n",
      "         Iterations: 79\n",
      "         Function evaluations: 155\n",
      "Optimization terminated successfully.\n",
      "         Current function value: 0.010103\n",
      "         Iterations: 75\n",
      "         Function evaluations: 145\n",
      "Optimization terminated successfully.\n",
      "         Current function value: 0.155625\n",
      "         Iterations: 73\n",
      "         Function evaluations: 143\n",
      "Optimization terminated successfully.\n",
      "         Current function value: 0.101988\n",
      "         Iterations: 72\n",
      "         Function evaluations: 143\n",
      "Optimization terminated successfully.\n",
      "         Current function value: 0.149667\n",
      "         Iterations: 69\n",
      "         Function evaluations: 137\n",
      "Optimization terminated successfully.\n",
      "         Current function value: 0.162868\n",
      "         Iterations: 67\n",
      "         Function evaluations: 133\n",
      "Optimization terminated successfully.\n",
      "         Current function value: 0.087978\n",
      "         Iterations: 73\n",
      "         Function evaluations: 139\n",
      "Optimization terminated successfully.\n",
      "         Current function value: 0.051907\n",
      "         Iterations: 68\n",
      "         Function evaluations: 134\n",
      "Optimization terminated successfully.\n",
      "         Current function value: 0.051574\n",
      "         Iterations: 65\n",
      "         Function evaluations: 130\n",
      "Optimization terminated successfully.\n",
      "         Current function value: 0.061137\n",
      "         Iterations: 69\n",
      "         Function evaluations: 134\n",
      "Optimization terminated successfully.\n",
      "         Current function value: 0.066792\n",
      "         Iterations: 66\n",
      "         Function evaluations: 130\n",
      "Optimization terminated successfully.\n",
      "         Current function value: 0.096275\n",
      "         Iterations: 68\n",
      "         Function evaluations: 132\n",
      "Optimization terminated successfully.\n",
      "         Current function value: 0.089470\n",
      "         Iterations: 67\n",
      "         Function evaluations: 131\n",
      "Optimization terminated successfully.\n",
      "         Current function value: 0.065776\n",
      "         Iterations: 65\n",
      "         Function evaluations: 126\n",
      "Optimization terminated successfully.\n",
      "         Current function value: 0.087437\n",
      "         Iterations: 66\n",
      "         Function evaluations: 129\n",
      "Optimization terminated successfully.\n",
      "         Current function value: 0.094498\n",
      "         Iterations: 64\n",
      "         Function evaluations: 128\n",
      "Optimization terminated successfully.\n",
      "         Current function value: 0.112145\n",
      "         Iterations: 65\n",
      "         Function evaluations: 131\n",
      "Optimization terminated successfully.\n",
      "         Current function value: 0.051328\n",
      "         Iterations: 65\n",
      "         Function evaluations: 129\n",
      "Optimization terminated successfully.\n",
      "         Current function value: 0.025061\n",
      "         Iterations: 64\n",
      "         Function evaluations: 127\n",
      "Optimization terminated successfully.\n",
      "         Current function value: 0.193987\n",
      "         Iterations: 74\n",
      "         Function evaluations: 148\n",
      "Optimization terminated successfully.\n",
      "         Current function value: 0.426030\n",
      "         Iterations: 98\n",
      "         Function evaluations: 195\n",
      "Optimization terminated successfully.\n",
      "         Current function value: 0.109059\n",
      "         Iterations: 69\n",
      "         Function evaluations: 136\n"
     ]
    }
   ],
   "source": [
    "mea_df = m_df[p_index].values.T\n",
    "sim_df = s_df[p_index].values.T\n",
    "\n",
    "print(mea_df.shape)\n",
    "print(sim_df.shape)\n",
    "a, b, rr = calib.fit(mea_df, sim_df, cross_valid=False)"
   ]
  },
  {
   "cell_type": "code",
   "execution_count": 7,
   "metadata": {},
   "outputs": [
    {
     "data": {
      "text/plain": [
       "[0.5697872102571977,\n",
       " 0.9993498117693961,\n",
       " 0.09738302889253636,\n",
       " 0.8191881440964588,\n",
       " 0.9321946083435309,\n",
       " 0.5604827686764222,\n",
       " 0.9984952454065033,\n",
       " 0.7584168879684445,\n",
       " 0.9108220375643902,\n",
       " 0.767219685706749,\n",
       " 0.714842259370365,\n",
       " 0.8694499718387935,\n",
       " 0.9700298138205985,\n",
       " 0.9625342126525911,\n",
       " 0.9603235789348564,\n",
       " 0.9509484333723701,\n",
       " 0.9027737863565103,\n",
       " 0.892518152433731,\n",
       " 0.9364026428371836,\n",
       " 0.9028767198491934,\n",
       " 0.8634689339551834,\n",
       " 0.841007044896799,\n",
       " 0.9517888709428579,\n",
       " 0.9852183674662822,\n",
       " 0.5304521122610223,\n",
       " -0.5769751389213404,\n",
       " 0.810687449258769]"
      ]
     },
     "execution_count": 7,
     "metadata": {},
     "output_type": "execute_result"
    }
   ],
   "source": [
    "rr"
   ]
  },
  {
   "cell_type": "code",
   "execution_count": 8,
   "metadata": {
    "scrolled": true
   },
   "outputs": [
    {
     "data": {
      "text/html": [
       "<div>\n",
       "<style scoped>\n",
       "    .dataframe tbody tr th:only-of-type {\n",
       "        vertical-align: middle;\n",
       "    }\n",
       "\n",
       "    .dataframe tbody tr th {\n",
       "        vertical-align: top;\n",
       "    }\n",
       "\n",
       "    .dataframe thead th {\n",
       "        text-align: right;\n",
       "    }\n",
       "</style>\n",
       "<table border=\"1\" class=\"dataframe\">\n",
       "  <thead>\n",
       "    <tr style=\"text-align: right;\">\n",
       "      <th></th>\n",
       "      <th>wl</th>\n",
       "      <th>c</th>\n",
       "      <th>h</th>\n",
       "      <th>i</th>\n",
       "      <th>k</th>\n",
       "    </tr>\n",
       "  </thead>\n",
       "  <tbody>\n",
       "    <tr>\n",
       "      <th>1</th>\n",
       "      <td>660</td>\n",
       "      <td>5.351570e-13</td>\n",
       "      <td>4.862817e-11</td>\n",
       "      <td>2.609549e-09</td>\n",
       "      <td>1.648040e-08</td>\n",
       "    </tr>\n",
       "    <tr>\n",
       "      <th>2</th>\n",
       "      <td>670</td>\n",
       "      <td>7.332732e-13</td>\n",
       "      <td>1.772918e-10</td>\n",
       "      <td>2.559710e-09</td>\n",
       "      <td>1.829626e-08</td>\n",
       "    </tr>\n",
       "    <tr>\n",
       "      <th>3</th>\n",
       "      <td>680</td>\n",
       "      <td>1.540873e-14</td>\n",
       "      <td>3.300411e-11</td>\n",
       "      <td>3.058366e-09</td>\n",
       "      <td>1.723034e-08</td>\n",
       "    </tr>\n",
       "  </tbody>\n",
       "</table>\n",
       "</div>"
      ],
      "text/plain": [
       "    wl             c             h             i             k\n",
       "1  660  5.351570e-13  4.862817e-11  2.609549e-09  1.648040e-08\n",
       "2  670  7.332732e-13  1.772918e-10  2.559710e-09  1.829626e-08\n",
       "3  680  1.540873e-14  3.300411e-11  3.058366e-09  1.723034e-08"
      ]
     },
     "execution_count": 8,
     "metadata": {},
     "output_type": "execute_result"
    }
   ],
   "source": [
    "s_df.head(3)"
   ]
  },
  {
   "cell_type": "code",
   "execution_count": 9,
   "metadata": {},
   "outputs": [
    {
     "data": {
      "text/html": [
       "<div>\n",
       "<style scoped>\n",
       "    .dataframe tbody tr th:only-of-type {\n",
       "        vertical-align: middle;\n",
       "    }\n",
       "\n",
       "    .dataframe tbody tr th {\n",
       "        vertical-align: top;\n",
       "    }\n",
       "\n",
       "    .dataframe thead th {\n",
       "        text-align: right;\n",
       "    }\n",
       "</style>\n",
       "<table border=\"1\" class=\"dataframe\">\n",
       "  <thead>\n",
       "    <tr style=\"text-align: right;\">\n",
       "      <th></th>\n",
       "      <th>wavelength</th>\n",
       "      <th>c</th>\n",
       "      <th>e</th>\n",
       "      <th>h</th>\n",
       "      <th>i</th>\n",
       "      <th>k</th>\n",
       "      <th>n</th>\n",
       "    </tr>\n",
       "  </thead>\n",
       "  <tbody>\n",
       "    <tr>\n",
       "      <th>0</th>\n",
       "      <td>660</td>\n",
       "      <td>14.135375</td>\n",
       "      <td>2627.638745</td>\n",
       "      <td>62.549053</td>\n",
       "      <td>711.787844</td>\n",
       "      <td>5688.642882</td>\n",
       "      <td>2323.380046</td>\n",
       "    </tr>\n",
       "    <tr>\n",
       "      <th>1</th>\n",
       "      <td>670</td>\n",
       "      <td>14.745857</td>\n",
       "      <td>3260.374712</td>\n",
       "      <td>81.241801</td>\n",
       "      <td>899.666403</td>\n",
       "      <td>6885.355479</td>\n",
       "      <td>2887.483696</td>\n",
       "    </tr>\n",
       "    <tr>\n",
       "      <th>2</th>\n",
       "      <td>680</td>\n",
       "      <td>17.472876</td>\n",
       "      <td>3917.584497</td>\n",
       "      <td>103.084893</td>\n",
       "      <td>1111.359977</td>\n",
       "      <td>8082.936002</td>\n",
       "      <td>3471.861290</td>\n",
       "    </tr>\n",
       "  </tbody>\n",
       "</table>\n",
       "</div>"
      ],
      "text/plain": [
       "   wavelength          c            e           h            i            k  \\\n",
       "0         660  14.135375  2627.638745   62.549053   711.787844  5688.642882   \n",
       "1         670  14.745857  3260.374712   81.241801   899.666403  6885.355479   \n",
       "2         680  17.472876  3917.584497  103.084893  1111.359977  8082.936002   \n",
       "\n",
       "             n  \n",
       "0  2323.380046  \n",
       "1  2887.483696  \n",
       "2  3471.861290  "
      ]
     },
     "execution_count": 9,
     "metadata": {},
     "output_type": "execute_result"
    }
   ],
   "source": [
    "m_df.head(3)"
   ]
  },
  {
   "cell_type": "code",
   "execution_count": 10,
   "metadata": {
    "scrolled": false
   },
   "outputs": [
    {
     "data": {
      "text/plain": [
       "(4, 27)"
      ]
     },
     "execution_count": 10,
     "metadata": {},
     "output_type": "execute_result"
    }
   ],
   "source": [
    "m_df[[\"c\", \"h\", \"i\", \"k\"]].values.T.shape"
   ]
  },
  {
   "cell_type": "code",
   "execution_count": 11,
   "metadata": {},
   "outputs": [],
   "source": [
    "mm_df = m_df[[\"c\", \"h\", \"i\", \"k\"]].values.T\n",
    "calibed = calib.calibrate(mm_df)"
   ]
  },
  {
   "cell_type": "code",
   "execution_count": 12,
   "metadata": {},
   "outputs": [
    {
     "data": {
      "text/plain": [
       "(4, 27)"
      ]
     },
     "execution_count": 12,
     "metadata": {},
     "output_type": "execute_result"
    }
   ],
   "source": [
    "calibed.shape\n"
   ]
  },
  {
   "cell_type": "code",
   "execution_count": 13,
   "metadata": {},
   "outputs": [
    {
     "data": {
      "image/png": "[encoded data removed]",
      "text/plain": [
       "<Figure size 432x288 with 1 Axes>"
      ]
     },
     "metadata": {
      "needs_background": "light"
     },
     "output_type": "display_data"
    },
    {
     "data": {
      "image/png": "[encoded data removed]",
      "text/plain": [
       "<Figure size 432x288 with 1 Axes>"
      ]
     },
     "metadata": {
      "needs_background": "light"
     },
     "output_type": "display_data"
    },
    {
     "data": {
      "image/png": "[encoded data removed]",
      "text/plain": [
       "<Figure size 432x288 with 1 Axes>"
      ]
     },
     "metadata": {
      "needs_background": "light"
     },
     "output_type": "display_data"
    },
    {
     "data": {
      "image/png": "[encoded data removed]",
      "text/plain": [
       "<Figure size 432x288 with 1 Axes>"
      ]
     },
     "metadata": {
      "needs_background": "light"
     },
     "output_type": "display_data"
    }
   ],
   "source": [
    "# for i in \"chik\":\n",
    "for i, p in enumerate(\"chik\"):\n",
    "    plt.plot(wl, s_df[p])\n",
    "    plt.plot(wl, calibed[i])\n",
    "    plt.xlabel(\"wavelength [nm]\")\n",
    "    plt.ylabel(\"reflectance [-]\")\n",
    "    plt.grid()\n",
    "    plt.show()"
   ]
  },
  {
   "cell_type": "code",
   "execution_count": 14,
   "metadata": {},
   "outputs": [
    {
     "ename": "AssertionError",
     "evalue": "",
     "output_type": "error",
     "traceback": [
      "\u001b[0;31m---------------------------------------------------------------------------\u001b[0m",
      "\u001b[0;31mAssertionError\u001b[0m                            Traceback (most recent call last)",
      "\u001b[0;32m<ipython-input-14-a871fdc9ebee>\u001b[0m in \u001b[0;36m<module>\u001b[0;34m\u001b[0m\n\u001b[0;32m----> 1\u001b[0;31m \u001b[0;32massert\u001b[0m \u001b[0;32mFalse\u001b[0m\u001b[0;34m\u001b[0m\u001b[0;34m\u001b[0m\u001b[0m\n\u001b[0m",
      "\u001b[0;31mAssertionError\u001b[0m: "
     ]
    }
   ],
   "source": [
    "assert False"
   ]
  },
  {
   "cell_type": "code",
   "execution_count": null,
   "metadata": {},
   "outputs": [],
   "source": [
    "m_df[\"c\"], calib.calibrate(m_df[\"c\"])"
   ]
  },
  {
   "cell_type": "code",
   "execution_count": null,
   "metadata": {},
   "outputs": [],
   "source": [
    "x = np.arange(1, 100)\n",
    "y = x * 6 + 62"
   ]
  },
  {
   "cell_type": "code",
   "execution_count": null,
   "metadata": {},
   "outputs": [],
   "source": [
    "# plt.plot(x, y)\n",
    "plt.plot(np.log(x), np.log(y))"
   ]
  },
  {
   "cell_type": "code",
   "execution_count": null,
   "metadata": {},
   "outputs": [],
   "source": [
    "from scipy.optimize import curve_fit"
   ]
  },
  {
   "cell_type": "code",
   "execution_count": null,
   "metadata": {},
   "outputs": [],
   "source": [
    "def rmsp(x, a, b, c):\n",
    "    return (x ** a)  * b + c\n"
   ]
  },
  {
   "cell_type": "code",
   "execution_count": null,
   "metadata": {},
   "outputs": [],
   "source": [
    "x = np.arange(1, 100)\n",
    "y = (x**1.1) * 2 + 4 + np.random.rand() * 1\n",
    "\n",
    "result = curve_fit(rmsp, x, y)"
   ]
  },
  {
   "cell_type": "code",
   "execution_count": null,
   "metadata": {},
   "outputs": [],
   "source": [
    "result"
   ]
  },
  {
   "cell_type": "code",
   "execution_count": null,
   "metadata": {},
   "outputs": [],
   "source": [
    "x = np.asarray([1,2,3,4,5,6])\n",
    "y = x ** 2 + x * 4 + 3\n",
    "np.polyfit(x, y, 2)"
   ]
  },
  {
   "cell_type": "code",
   "execution_count": null,
   "metadata": {},
   "outputs": [],
   "source": [
    "m_df.head(1)"
   ]
  },
  {
   "cell_type": "code",
   "execution_count": null,
   "metadata": {},
   "outputs": [],
   "source": [
    "live = pd.read_csv(\"data/processed/20190510/IJV/live/20190510_1_1.csv\")\n",
    "live.head(1)"
   ]
  },
  {
   "cell_type": "code",
   "execution_count": null,
   "metadata": {},
   "outputs": [],
   "source": [
    "plt.plot(wl, m_df[\"c\"], label=\"c\")\n",
    "plt.plot(wl, m_df[\"h\"], label=\"h\")\n",
    "plt.plot(wl, m_df[\"i\"], label=\"i\")\n",
    "plt.plot(wl, m_df[\"k\"], label=\"k\")\n",
    "\n",
    "plt.plot(wl, live[\"max\"], label=\"live\")\n",
    "plt.plot(wl, live[\"min\"], label=\"live\")\n",
    "\n",
    "plt.legend()\n",
    "plt.show()"
   ]
  },
  {
   "cell_type": "code",
   "execution_count": null,
   "metadata": {},
   "outputs": [],
   "source": [
    "def linear_fit(x, y):\n",
    "    x = np.asarray(x)\n",
    "    y = np.asarray(y)\n",
    "\n",
    "    n = x.shape[0]\n",
    "    \n",
    "    x_mean = x.mean()\n",
    "    y_mean = y.mean()\n",
    "    \n",
    "    Sxy = ((y-y_mean) * x).sum()\n",
    "    Sxx = ((x-x_mean) * x).sum()\n",
    "    b1 = Sxy/Sxx\n",
    "    b0 = y_mean - b1 * x_mean\n",
    "    \n",
    "    return b0, b1\n",
    "    "
   ]
  },
  {
   "cell_type": "code",
   "execution_count": null,
   "metadata": {},
   "outputs": [],
   "source": [
    "x = np.arange(1, 10)\n",
    "y = x * 5 + 186\n",
    "linear_fit(x, y)"
   ]
  },
  {
   "cell_type": "code",
   "execution_count": null,
   "metadata": {},
   "outputs": [],
   "source": [
    "from scipy.optimize import fmin"
   ]
  },
  {
   "cell_type": "code",
   "execution_count": null,
   "metadata": {},
   "outputs": [],
   "source": [
    "xx = np.array([1,2,3,4,5])\n",
    "yy = 34 * xx + 21\n",
    "rmsp = lambda x: (((x[0] * xx + x[1] - yy)/yy)**2).mean()"
   ]
  },
  {
   "cell_type": "code",
   "execution_count": null,
   "metadata": {},
   "outputs": [],
   "source": [
    "r = fmin(rmsp, x0=[1, 2])"
   ]
  },
  {
   "cell_type": "code",
   "execution_count": null,
   "metadata": {},
   "outputs": [],
   "source": [
    "r"
   ]
  },
  {
   "cell_type": "code",
   "execution_count": null,
   "metadata": {},
   "outputs": [],
   "source": []
  }
 ],
 "metadata": {
  "kernelspec": {
   "display_name": "Python 3",
   "language": "python",
   "name": "python3"
  },
  "language_info": {
   "codemirror_mode": {
    "name": "ipython",
    "version": 3
   },
   "file_extension": ".py",
   "mimetype": "text/x-python",
   "name": "python",
   "nbconvert_exporter": "python",
   "pygments_lexer": "ipython3",
   "version": "3.7.3"
  }
 },
 "nbformat": 4,
 "nbformat_minor": 2
}
