{
 "cells": [
  {
   "cell_type": "code",
   "execution_count": 65,
   "metadata": {},
   "outputs": [
    {
     "ename": "ImportError",
     "evalue": "cannot import name 'queue' from 'torch._six' (/Users/tushicheng/toast_env/lib/python3.7/site-packages/torch/_six.py)",
     "output_type": "error",
     "traceback": [
      "\u001b[0;31m---------------------------------------------------------------------------\u001b[0m",
      "\u001b[0;31mImportError\u001b[0m                               Traceback (most recent call last)",
      "\u001b[0;32m<ipython-input-65-a3b87b8c0665>\u001b[0m in \u001b[0;36m<module>\u001b[0;34m\u001b[0m\n\u001b[1;32m      3\u001b[0m \u001b[0;32mimport\u001b[0m \u001b[0mtorch\u001b[0m\u001b[0;34m.\u001b[0m\u001b[0moptim\u001b[0m \u001b[0;32mas\u001b[0m \u001b[0moptim\u001b[0m\u001b[0;34m\u001b[0m\u001b[0;34m\u001b[0m\u001b[0m\n\u001b[1;32m      4\u001b[0m \u001b[0;32mimport\u001b[0m \u001b[0mtorch\u001b[0m\u001b[0;34m.\u001b[0m\u001b[0mnn\u001b[0m\u001b[0;34m.\u001b[0m\u001b[0mfunctional\u001b[0m \u001b[0;32mas\u001b[0m \u001b[0mF\u001b[0m\u001b[0;34m\u001b[0m\u001b[0;34m\u001b[0m\u001b[0m\n\u001b[0;32m----> 5\u001b[0;31m \u001b[0;32mfrom\u001b[0m \u001b[0mtorch\u001b[0m\u001b[0;34m.\u001b[0m\u001b[0mutils\u001b[0m\u001b[0;34m.\u001b[0m\u001b[0mdata\u001b[0m \u001b[0;32mimport\u001b[0m \u001b[0mDataset\u001b[0m\u001b[0;34m,\u001b[0m \u001b[0mDataLoader\u001b[0m\u001b[0;34m\u001b[0m\u001b[0;34m\u001b[0m\u001b[0m\n\u001b[0m\u001b[1;32m      6\u001b[0m \u001b[0;34m\u001b[0m\u001b[0m\n\u001b[1;32m      7\u001b[0m \u001b[0;32mimport\u001b[0m \u001b[0mnumpy\u001b[0m \u001b[0;32mas\u001b[0m \u001b[0mnp\u001b[0m\u001b[0;34m\u001b[0m\u001b[0;34m\u001b[0m\u001b[0m\n",
      "\u001b[0;32m~/toast_env/lib/python3.7/site-packages/torch/utils/data/__init__.py\u001b[0m in \u001b[0;36m<module>\u001b[0;34m\u001b[0m\n\u001b[1;32m      2\u001b[0m \u001b[0;32mfrom\u001b[0m \u001b[0;34m.\u001b[0m\u001b[0mdistributed\u001b[0m \u001b[0;32mimport\u001b[0m \u001b[0mDistributedSampler\u001b[0m  \u001b[0;31m# noqa: F401\u001b[0m\u001b[0;34m\u001b[0m\u001b[0;34m\u001b[0m\u001b[0m\n\u001b[1;32m      3\u001b[0m \u001b[0;32mfrom\u001b[0m \u001b[0;34m.\u001b[0m\u001b[0mdataset\u001b[0m \u001b[0;32mimport\u001b[0m \u001b[0mDataset\u001b[0m\u001b[0;34m,\u001b[0m \u001b[0mTensorDataset\u001b[0m\u001b[0;34m,\u001b[0m \u001b[0mConcatDataset\u001b[0m\u001b[0;34m,\u001b[0m \u001b[0mSubset\u001b[0m\u001b[0;34m,\u001b[0m \u001b[0mrandom_split\u001b[0m  \u001b[0;31m# noqa: F401\u001b[0m\u001b[0;34m\u001b[0m\u001b[0;34m\u001b[0m\u001b[0m\n\u001b[0;32m----> 4\u001b[0;31m \u001b[0;32mfrom\u001b[0m \u001b[0;34m.\u001b[0m\u001b[0mdataloader\u001b[0m \u001b[0;32mimport\u001b[0m \u001b[0mDataLoader\u001b[0m  \u001b[0;31m# noqa: F401\u001b[0m\u001b[0;34m\u001b[0m\u001b[0;34m\u001b[0m\u001b[0m\n\u001b[0m",
      "\u001b[0;32m~/toast_env/lib/python3.7/site-packages/torch/utils/data/dataloader.py\u001b[0m in \u001b[0;36m<module>\u001b[0;34m\u001b[0m\n\u001b[1;32m      9\u001b[0m \u001b[0;32mimport\u001b[0m \u001b[0mtorch\u001b[0m\u001b[0;34m.\u001b[0m\u001b[0mmultiprocessing\u001b[0m \u001b[0;32mas\u001b[0m \u001b[0mmultiprocessing\u001b[0m\u001b[0;34m\u001b[0m\u001b[0;34m\u001b[0m\u001b[0m\n\u001b[1;32m     10\u001b[0m \u001b[0;32mfrom\u001b[0m \u001b[0;34m.\u001b[0m \u001b[0;32mimport\u001b[0m \u001b[0mSequentialSampler\u001b[0m\u001b[0;34m,\u001b[0m \u001b[0mRandomSampler\u001b[0m\u001b[0;34m,\u001b[0m \u001b[0mBatchSampler\u001b[0m\u001b[0;34m\u001b[0m\u001b[0;34m\u001b[0m\u001b[0m\n\u001b[0;32m---> 11\u001b[0;31m \u001b[0;32mfrom\u001b[0m \u001b[0;34m.\u001b[0m \u001b[0;32mimport\u001b[0m \u001b[0m_utils\u001b[0m\u001b[0;34m\u001b[0m\u001b[0;34m\u001b[0m\u001b[0m\n\u001b[0m\u001b[1;32m     12\u001b[0m \u001b[0;32mimport\u001b[0m \u001b[0mthreading\u001b[0m\u001b[0;34m\u001b[0m\u001b[0;34m\u001b[0m\u001b[0m\n\u001b[1;32m     13\u001b[0m \u001b[0;32mfrom\u001b[0m \u001b[0mtorch\u001b[0m\u001b[0;34m.\u001b[0m\u001b[0m_six\u001b[0m \u001b[0;32mimport\u001b[0m \u001b[0mqueue\u001b[0m\u001b[0;34m\u001b[0m\u001b[0;34m\u001b[0m\u001b[0m\n",
      "\u001b[0;32m~/toast_env/lib/python3.7/site-packages/torch/utils/data/_utils/__init__.py\u001b[0m in \u001b[0;36m<module>\u001b[0;34m\u001b[0m\n\u001b[1;32m     59\u001b[0m \u001b[0;34m\u001b[0m\u001b[0m\n\u001b[1;32m     60\u001b[0m \u001b[0;34m\u001b[0m\u001b[0m\n\u001b[0;32m---> 61\u001b[0;31m \u001b[0;32mfrom\u001b[0m \u001b[0;34m.\u001b[0m \u001b[0;32mimport\u001b[0m \u001b[0mworker\u001b[0m\u001b[0;34m,\u001b[0m \u001b[0msignal_handling\u001b[0m\u001b[0;34m,\u001b[0m \u001b[0mpin_memory\u001b[0m\u001b[0;34m,\u001b[0m \u001b[0mcollate\u001b[0m  \u001b[0;31m# noqa: F401\u001b[0m\u001b[0;34m\u001b[0m\u001b[0;34m\u001b[0m\u001b[0m\n\u001b[0m",
      "\u001b[0;32m~/toast_env/lib/python3.7/site-packages/torch/utils/data/_utils/worker.py\u001b[0m in \u001b[0;36m<module>\u001b[0;34m\u001b[0m\n\u001b[1;32m      9\u001b[0m \u001b[0;32mimport\u001b[0m \u001b[0msys\u001b[0m\u001b[0;34m\u001b[0m\u001b[0;34m\u001b[0m\u001b[0m\n\u001b[1;32m     10\u001b[0m \u001b[0;32mimport\u001b[0m \u001b[0mos\u001b[0m\u001b[0;34m\u001b[0m\u001b[0;34m\u001b[0m\u001b[0m\n\u001b[0;32m---> 11\u001b[0;31m \u001b[0;32mfrom\u001b[0m \u001b[0mtorch\u001b[0m\u001b[0;34m.\u001b[0m\u001b[0m_six\u001b[0m \u001b[0;32mimport\u001b[0m \u001b[0mqueue\u001b[0m\u001b[0;34m\u001b[0m\u001b[0;34m\u001b[0m\u001b[0m\n\u001b[0m\u001b[1;32m     12\u001b[0m \u001b[0;32mfrom\u001b[0m \u001b[0;34m.\u001b[0m \u001b[0;32mimport\u001b[0m \u001b[0mcollate\u001b[0m\u001b[0;34m,\u001b[0m \u001b[0msignal_handling\u001b[0m\u001b[0;34m,\u001b[0m \u001b[0mMP_STATUS_CHECK_INTERVAL\u001b[0m\u001b[0;34m,\u001b[0m\u001b[0;31m \u001b[0m\u001b[0;31m\\\u001b[0m\u001b[0;34m\u001b[0m\u001b[0;34m\u001b[0m\u001b[0m\n\u001b[1;32m     13\u001b[0m     \u001b[0mExceptionWrapper\u001b[0m\u001b[0;34m,\u001b[0m \u001b[0mIS_WINDOWS\u001b[0m\u001b[0;34m\u001b[0m\u001b[0;34m\u001b[0m\u001b[0m\n",
      "\u001b[0;31mImportError\u001b[0m: cannot import name 'queue' from 'torch._six' (/Users/tushicheng/toast_env/lib/python3.7/site-packages/torch/_six.py)"
     ]
    }
   ],
   "source": [
    "import torch\n",
    "import torch.nn as nn\n",
    "import torch.optim as optim\n",
    "import torch.nn.functional as F\n",
    "from torch.utils.data import Dataset, DataLoader\n",
    "\n",
    "import numpy as np \n",
    "import pandas as pd \n",
    "import matplotlib.pyplot as plt\n",
    "from MySQLdb import connect\n",
    "%matplotlib inline"
   ]
  },
  {
   "cell_type": "code",
   "execution_count": 54,
   "metadata": {},
   "outputs": [],
   "source": [
    "class Model(nn.Module):\n",
    "    def __init__(self):\n",
    "        super().__init__()\n",
    "        self.spec_layer = nn.Linear(29, 64)\n",
    "        self.geo_layer = nn.Linear(7, 64)\n",
    "        \n",
    "        self.fc1 = nn.Linear(64, 64)\n",
    "        self.fc2 = nn.Linear(64, 19)\n",
    "    \n",
    "    def forward(self, spec, geo):\n",
    "        spec = self.spec_layer(spec)\n",
    "        spec = torch.relu(spec)\n",
    "        \n",
    "        geo = self.geo_layer(geo)\n",
    "        geo = torch.relu(geo)\n",
    "        \n",
    "        out = self.fc1(spec + geo)\n",
    "        out = torch.relu(out)\n",
    "        out = self.fc2(out)\n",
    "        out = torch.sigmoid(out)\n",
    "        \n",
    "        return out"
   ]
  },
  {
   "cell_type": "code",
   "execution_count": 50,
   "metadata": {},
   "outputs": [],
   "source": [
    "model = Model()\n",
    "loss = nn.MSELoss(reduction=\"sum\")\n",
    "optimizer = optim.Adam(lr=1e-4, params=model.parameters())"
   ]
  },
  {
   "cell_type": "code",
   "execution_count": 51,
   "metadata": {},
   "outputs": [],
   "source": [
    "spec = torch.rand(100, 29)\n",
    "geo = torch.rand(100, 7)"
   ]
  },
  {
   "cell_type": "code",
   "execution_count": 52,
   "metadata": {},
   "outputs": [
    {
     "data": {
      "text/plain": [
       "torch.Size([100, 26])"
      ]
     },
     "execution_count": 52,
     "metadata": {},
     "output_type": "execute_result"
    }
   ],
   "source": [
    "y = model(spec, geo)\n",
    "y.shape"
   ]
  },
  {
   "cell_type": "code",
   "execution_count": 53,
   "metadata": {},
   "outputs": [
    {
     "data": {
      "text/plain": [
       "tensor([[0.4587, 0.5275, 0.4734,  ..., 0.4953, 0.5064, 0.5431],\n",
       "        [0.4597, 0.5208, 0.4878,  ..., 0.4985, 0.4934, 0.5300],\n",
       "        [0.4610, 0.5410, 0.4828,  ..., 0.5103, 0.4946, 0.5288],\n",
       "        ...,\n",
       "        [0.4719, 0.5409, 0.4827,  ..., 0.4966, 0.5026, 0.5444],\n",
       "        [0.4796, 0.5162, 0.4911,  ..., 0.4939, 0.4975, 0.5546],\n",
       "        [0.4678, 0.5472, 0.4742,  ..., 0.5070, 0.4860, 0.5465]],\n",
       "       grad_fn=<SigmoidBackward>)"
      ]
     },
     "execution_count": 53,
     "metadata": {},
     "output_type": "execute_result"
    }
   ],
   "source": [
    "y"
   ]
  },
  {
   "cell_type": "code",
   "execution_count": 58,
   "metadata": {},
   "outputs": [
    {
     "data": {
      "text/html": [
       "<div>\n",
       "<style scoped>\n",
       "    .dataframe tbody tr th:only-of-type {\n",
       "        vertical-align: middle;\n",
       "    }\n",
       "\n",
       "    .dataframe tbody tr th {\n",
       "        vertical-align: top;\n",
       "    }\n",
       "\n",
       "    .dataframe thead th {\n",
       "        text-align: right;\n",
       "    }\n",
       "</style>\n",
       "<table border=\"1\" class=\"dataframe\">\n",
       "  <thead>\n",
       "    <tr style=\"text-align: right;\">\n",
       "      <th></th>\n",
       "      <th>id</th>\n",
       "      <th>idx</th>\n",
       "      <th>skin_b</th>\n",
       "      <th>skin_s</th>\n",
       "      <th>skin_w</th>\n",
       "      <th>skin_f</th>\n",
       "      <th>skin_m</th>\n",
       "      <th>fat_f</th>\n",
       "      <th>muscle_b</th>\n",
       "      <th>muscle_s</th>\n",
       "      <th>...</th>\n",
       "      <th>muscle_bmie</th>\n",
       "      <th>ijv_musp</th>\n",
       "      <th>cca_musp</th>\n",
       "      <th>geo_skin</th>\n",
       "      <th>geo_fat</th>\n",
       "      <th>geo_ijvr</th>\n",
       "      <th>geo_ijvd</th>\n",
       "      <th>geo_ccar</th>\n",
       "      <th>geo_ccad</th>\n",
       "      <th>geo_ijvcca</th>\n",
       "    </tr>\n",
       "  </thead>\n",
       "  <tbody>\n",
       "    <tr>\n",
       "      <th>0</th>\n",
       "      <td>1</td>\n",
       "      <td>rEex0Ikp72</td>\n",
       "      <td>0.001578</td>\n",
       "      <td>0.986756</td>\n",
       "      <td>0.185165</td>\n",
       "      <td>0.212165</td>\n",
       "      <td>0.012897</td>\n",
       "      <td>0.500404</td>\n",
       "      <td>0.038247</td>\n",
       "      <td>0.847001</td>\n",
       "      <td>...</td>\n",
       "      <td>2.799222</td>\n",
       "      <td>16.865398</td>\n",
       "      <td>15.316587</td>\n",
       "      <td>0.555695</td>\n",
       "      <td>0.968492</td>\n",
       "      <td>2.809574</td>\n",
       "      <td>14.908403</td>\n",
       "      <td>3.920479</td>\n",
       "      <td>22.581128</td>\n",
       "      <td>6.743225</td>\n",
       "    </tr>\n",
       "    <tr>\n",
       "      <th>1</th>\n",
       "      <td>2</td>\n",
       "      <td>G2ne6zkU9O</td>\n",
       "      <td>0.003130</td>\n",
       "      <td>0.999259</td>\n",
       "      <td>0.214317</td>\n",
       "      <td>0.246911</td>\n",
       "      <td>0.013295</td>\n",
       "      <td>0.803872</td>\n",
       "      <td>0.029362</td>\n",
       "      <td>0.812739</td>\n",
       "      <td>...</td>\n",
       "      <td>2.799222</td>\n",
       "      <td>16.865398</td>\n",
       "      <td>15.316587</td>\n",
       "      <td>0.555695</td>\n",
       "      <td>0.968492</td>\n",
       "      <td>2.809574</td>\n",
       "      <td>14.908403</td>\n",
       "      <td>3.920479</td>\n",
       "      <td>22.581128</td>\n",
       "      <td>6.743225</td>\n",
       "    </tr>\n",
       "    <tr>\n",
       "      <th>2</th>\n",
       "      <td>3</td>\n",
       "      <td>tQrojsJTKf</td>\n",
       "      <td>0.004095</td>\n",
       "      <td>0.992246</td>\n",
       "      <td>0.219400</td>\n",
       "      <td>0.252054</td>\n",
       "      <td>0.010603</td>\n",
       "      <td>0.658904</td>\n",
       "      <td>0.018714</td>\n",
       "      <td>0.567127</td>\n",
       "      <td>...</td>\n",
       "      <td>2.799222</td>\n",
       "      <td>16.865398</td>\n",
       "      <td>15.316587</td>\n",
       "      <td>0.555695</td>\n",
       "      <td>0.968492</td>\n",
       "      <td>2.809574</td>\n",
       "      <td>14.908403</td>\n",
       "      <td>3.920479</td>\n",
       "      <td>22.581128</td>\n",
       "      <td>6.743225</td>\n",
       "    </tr>\n",
       "    <tr>\n",
       "      <th>3</th>\n",
       "      <td>4</td>\n",
       "      <td>QT4wRfxVbs</td>\n",
       "      <td>0.001441</td>\n",
       "      <td>0.997800</td>\n",
       "      <td>0.213012</td>\n",
       "      <td>0.274114</td>\n",
       "      <td>0.014002</td>\n",
       "      <td>0.605281</td>\n",
       "      <td>0.011880</td>\n",
       "      <td>0.656199</td>\n",
       "      <td>...</td>\n",
       "      <td>2.799222</td>\n",
       "      <td>16.865398</td>\n",
       "      <td>15.316587</td>\n",
       "      <td>0.555695</td>\n",
       "      <td>0.968492</td>\n",
       "      <td>2.809574</td>\n",
       "      <td>14.908403</td>\n",
       "      <td>3.920479</td>\n",
       "      <td>22.581128</td>\n",
       "      <td>6.743225</td>\n",
       "    </tr>\n",
       "    <tr>\n",
       "      <th>4</th>\n",
       "      <td>5</td>\n",
       "      <td>BnhBpEoIUs</td>\n",
       "      <td>0.002893</td>\n",
       "      <td>0.995540</td>\n",
       "      <td>0.257708</td>\n",
       "      <td>0.225956</td>\n",
       "      <td>0.011420</td>\n",
       "      <td>0.841960</td>\n",
       "      <td>0.014797</td>\n",
       "      <td>0.612145</td>\n",
       "      <td>...</td>\n",
       "      <td>2.799222</td>\n",
       "      <td>16.865398</td>\n",
       "      <td>15.316587</td>\n",
       "      <td>0.555695</td>\n",
       "      <td>0.968492</td>\n",
       "      <td>2.809574</td>\n",
       "      <td>14.908403</td>\n",
       "      <td>3.920479</td>\n",
       "      <td>22.581128</td>\n",
       "      <td>6.743225</td>\n",
       "    </tr>\n",
       "  </tbody>\n",
       "</table>\n",
       "<p>5 rows × 28 columns</p>\n",
       "</div>"
      ],
      "text/plain": [
       "   id         idx    skin_b    skin_s    skin_w    skin_f    skin_m     fat_f  \\\n",
       "0   1  rEex0Ikp72  0.001578  0.986756  0.185165  0.212165  0.012897  0.500404   \n",
       "1   2  G2ne6zkU9O  0.003130  0.999259  0.214317  0.246911  0.013295  0.803872   \n",
       "2   3  tQrojsJTKf  0.004095  0.992246  0.219400  0.252054  0.010603  0.658904   \n",
       "3   4  QT4wRfxVbs  0.001441  0.997800  0.213012  0.274114  0.014002  0.605281   \n",
       "4   5  BnhBpEoIUs  0.002893  0.995540  0.257708  0.225956  0.011420  0.841960   \n",
       "\n",
       "   muscle_b  muscle_s  ...  muscle_bmie   ijv_musp   cca_musp  geo_skin  \\\n",
       "0  0.038247  0.847001  ...     2.799222  16.865398  15.316587  0.555695   \n",
       "1  0.029362  0.812739  ...     2.799222  16.865398  15.316587  0.555695   \n",
       "2  0.018714  0.567127  ...     2.799222  16.865398  15.316587  0.555695   \n",
       "3  0.011880  0.656199  ...     2.799222  16.865398  15.316587  0.555695   \n",
       "4  0.014797  0.612145  ...     2.799222  16.865398  15.316587  0.555695   \n",
       "\n",
       "    geo_fat  geo_ijvr   geo_ijvd  geo_ccar   geo_ccad  geo_ijvcca  \n",
       "0  0.968492  2.809574  14.908403  3.920479  22.581128    6.743225  \n",
       "1  0.968492  2.809574  14.908403  3.920479  22.581128    6.743225  \n",
       "2  0.968492  2.809574  14.908403  3.920479  22.581128    6.743225  \n",
       "3  0.968492  2.809574  14.908403  3.920479  22.581128    6.743225  \n",
       "4  0.968492  2.809574  14.908403  3.920479  22.581128    6.743225  \n",
       "\n",
       "[5 rows x 28 columns]"
      ]
     },
     "execution_count": 58,
     "metadata": {},
     "output_type": "execute_result"
    }
   ],
   "source": [
    "conn = connect(\n",
    "    host=\"140.112.174.26\",\n",
    "    user=\"md703\",\n",
    "    passwd=\"MD703\",\n",
    "    db=\"ijv\"\n",
    ")\n",
    "df = pd.read_sql(\"SELECT * FROM ijv_sim_spec\", con=conn)\n",
    "df.head()"
   ]
  },
  {
   "cell_type": "code",
   "execution_count": 64,
   "metadata": {},
   "outputs": [
    {
     "ename": "AttributeError",
     "evalue": "module 'torch.utils' has no attribute 'data'",
     "output_type": "error",
     "traceback": [
      "\u001b[0;31m---------------------------------------------------------------------------\u001b[0m",
      "\u001b[0;31mAttributeError\u001b[0m                            Traceback (most recent call last)",
      "\u001b[0;32m<ipython-input-64-e868b806653f>\u001b[0m in \u001b[0;36m<module>\u001b[0;34m\u001b[0m\n\u001b[0;32m----> 1\u001b[0;31m \u001b[0mtorch\u001b[0m\u001b[0;34m.\u001b[0m\u001b[0mutils\u001b[0m\u001b[0;34m.\u001b[0m\u001b[0mdata\u001b[0m\u001b[0;34m\u001b[0m\u001b[0;34m\u001b[0m\u001b[0m\n\u001b[0m",
      "\u001b[0;31mAttributeError\u001b[0m: module 'torch.utils' has no attribute 'data'"
     ]
    }
   ],
   "source": [
    "torch.utils.\n"
   ]
  },
  {
   "cell_type": "code",
   "execution_count": null,
   "metadata": {},
   "outputs": [],
   "source": []
  }
 ],
 "metadata": {
  "kernelspec": {
   "display_name": "Python 3",
   "language": "python",
   "name": "python3"
  },
  "language_info": {
   "codemirror_mode": {
    "name": "ipython",
    "version": 3
   },
   "file_extension": ".py",
   "mimetype": "text/x-python",
   "name": "python",
   "nbconvert_exporter": "python",
   "pygments_lexer": "ipython3",
   "version": "3.7.3"
  }
 },
 "nbformat": 4,
 "nbformat_minor": 2
}
