{
 "cells": [
  {
   "cell_type": "code",
   "execution_count": 62,
   "metadata": {},
   "outputs": [],
   "source": [
    "import numpy as np \n",
    "import pandas as pd\n",
    "from tqdm import tqdm\n",
    "import matplotlib.pyplot as plt\n",
    "\n",
    "import os \n",
    "import json\n",
    "import random\n",
    "import string\n",
    "from time import time\n",
    "from collections import defaultdict\n",
    "\n",
    "from utils.mch import MCHHandler\n",
    "\n",
    "%matplotlib inline"
   ]
  },
  {
   "cell_type": "code",
   "execution_count": 37,
   "metadata": {},
   "outputs": [],
   "source": [
    "for ss in s[5:]:\n",
    "    plt.plot(ss)\n",
    "plt.show()"
   ]
  },
  {
   "cell_type": "markdown",
   "metadata": {},
   "source": [
    "#### 生產data list"
   ]
  },
  {
   "cell_type": "code",
   "execution_count": 52,
   "metadata": {},
   "outputs": [
    {
     "data": {
      "text/plain": [
       "dict_keys(['idx', 'skin_b', 'skin_s', 'skin_w', 'skin_f', 'skin_m', 'fat_f', 'muscle_b', 'muscle_s', 'muscle_w', 'ijv_s', 'cca_s'])"
      ]
     },
     "execution_count": 52,
     "metadata": {},
     "output_type": "execute_result"
    }
   ],
   "source": [
    "x_range = {\n",
    "    \"idx\": None,\n",
    "    \"skin_b\": (0.0012, 0.0041),\n",
    "    \"skin_s\": (0.985, 1.0),\n",
    "    \"skin_w\": (0.166, 0.261),\n",
    "    \"skin_f\": (0.187, 0.277),\n",
    "    \"skin_m\": (0.0087, 0.0165),\n",
    "\n",
    "    \"fat_f\": (0.5, 1),\n",
    "\n",
    "    \"muscle_b\": (0.005, 0.050),\n",
    "    \"muscle_s\": (0.5, 0.9),\n",
    "    \"muscle_w\": (0.5, 0.9),\n",
    "\n",
    "    \"ijv_s\": (0.0, 1.0),\n",
    "\n",
    "    \"cca_s\": (0.0, 1.0),\n",
    "}\n",
    "x_range.keys()"
   ]
  },
  {
   "cell_type": "code",
   "execution_count": 53,
   "metadata": {},
   "outputs": [],
   "source": [
    "def get_idx(n=10):\n",
    "    assert n > 1, \"n should be greater than 1\"\n",
    "    first = random.choice(string.ascii_letters)\n",
    "    rest = \"\".join(random.sample(string.ascii_letters + string.digits, n-1))\n",
    "    return first + rest"
   ]
  },
  {
   "cell_type": "code",
   "execution_count": null,
   "metadata": {},
   "outputs": [
    {
     "name": "stderr",
     "output_type": "stream",
     "text": [
      "\n",
      "\n",
      "\n",
      "\n",
      "  0%|          | 0/100 [00:00<?, ?it/s]\u001b[A\u001b[A\u001b[A\u001b[A\n",
      "\n",
      "\n",
      "\n",
      "  1%|          | 1/100 [03:25<5:38:54, 205.40s/it]\u001b[A\u001b[A\u001b[A\u001b[A"
     ]
    },
    {
     "name": "stdout",
     "output_type": "stream",
     "text": [
      "time:  205.24720096588135\n"
     ]
    },
    {
     "name": "stderr",
     "output_type": "stream",
     "text": [
      "\n",
      "\n",
      "\n",
      "\n",
      "  2%|▏         | 2/100 [06:50<5:35:18, 205.29s/it]\u001b[A\u001b[A\u001b[A\u001b[A"
     ]
    },
    {
     "name": "stdout",
     "output_type": "stream",
     "text": [
      "time:  204.89542031288147\n"
     ]
    },
    {
     "name": "stderr",
     "output_type": "stream",
     "text": [
      "\n",
      "\n",
      "\n",
      "\n",
      "  3%|▎         | 3/100 [10:14<5:31:28, 205.03s/it]\u001b[A\u001b[A\u001b[A\u001b[A"
     ]
    },
    {
     "name": "stdout",
     "output_type": "stream",
     "text": [
      "time:  204.31357336044312\n"
     ]
    },
    {
     "name": "stderr",
     "output_type": "stream",
     "text": [
      "\n",
      "\n",
      "\n",
      "\n",
      "  4%|▍         | 4/100 [13:38<5:27:09, 204.47s/it]\u001b[A\u001b[A\u001b[A\u001b[A"
     ]
    },
    {
     "name": "stdout",
     "output_type": "stream",
     "text": [
      "time:  203.04518818855286\n"
     ]
    },
    {
     "name": "stderr",
     "output_type": "stream",
     "text": [
      "\n",
      "\n",
      "\n",
      "\n",
      "  5%|▌         | 5/100 [17:01<5:23:20, 204.21s/it]\u001b[A\u001b[A\u001b[A\u001b[A"
     ]
    },
    {
     "name": "stdout",
     "output_type": "stream",
     "text": [
      "time:  203.45653200149536\n"
     ]
    },
    {
     "name": "stderr",
     "output_type": "stream",
     "text": [
      "\n",
      "\n",
      "\n",
      "\n",
      "  6%|▌         | 6/100 [20:25<5:19:44, 204.09s/it]\u001b[A\u001b[A\u001b[A\u001b[A"
     ]
    },
    {
     "name": "stdout",
     "output_type": "stream",
     "text": [
      "time:  203.65936017036438\n"
     ]
    },
    {
     "name": "stderr",
     "output_type": "stream",
     "text": [
      "\n",
      "\n",
      "\n",
      "\n",
      "  7%|▋         | 7/100 [23:48<5:15:49, 203.76s/it]\u001b[A\u001b[A\u001b[A\u001b[A"
     ]
    },
    {
     "name": "stdout",
     "output_type": "stream",
     "text": [
      "time:  202.8347671031952\n"
     ]
    },
    {
     "name": "stderr",
     "output_type": "stream",
     "text": [
      "\n",
      "\n",
      "\n",
      "\n",
      "  8%|▊         | 8/100 [27:11<5:12:18, 203.68s/it]\u001b[A\u001b[A\u001b[A\u001b[A"
     ]
    },
    {
     "name": "stdout",
     "output_type": "stream",
     "text": [
      "time:  203.34801292419434\n"
     ]
    },
    {
     "name": "stderr",
     "output_type": "stream",
     "text": [
      "\n",
      "\n",
      "\n",
      "\n",
      "  9%|▉         | 9/100 [30:33<5:08:11, 203.20s/it]\u001b[A\u001b[A\u001b[A\u001b[A"
     ]
    },
    {
     "name": "stdout",
     "output_type": "stream",
     "text": [
      "time:  201.9405438899994\n"
     ]
    },
    {
     "name": "stderr",
     "output_type": "stream",
     "text": [
      "\n",
      "\n",
      "\n",
      "\n",
      " 10%|█         | 10/100 [33:57<5:04:45, 203.17s/it]\u001b[A\u001b[A\u001b[A\u001b[A"
     ]
    },
    {
     "name": "stdout",
     "output_type": "stream",
     "text": [
      "time:  202.9679000377655\n"
     ]
    },
    {
     "name": "stderr",
     "output_type": "stream",
     "text": [
      "\n",
      "\n",
      "\n",
      "\n",
      " 11%|█         | 11/100 [37:20<5:01:32, 203.28s/it]\u001b[A\u001b[A\u001b[A\u001b[A"
     ]
    },
    {
     "name": "stdout",
     "output_type": "stream",
     "text": [
      "time:  203.42622661590576\n"
     ]
    },
    {
     "name": "stderr",
     "output_type": "stream",
     "text": [
      "\n",
      "\n",
      "\n",
      "\n",
      " 12%|█▏        | 12/100 [40:45<4:58:47, 203.73s/it]\u001b[A\u001b[A\u001b[A\u001b[A"
     ]
    },
    {
     "name": "stdout",
     "output_type": "stream",
     "text": [
      "time:  204.61115074157715\n"
     ]
    },
    {
     "name": "stderr",
     "output_type": "stream",
     "text": [
      "\n",
      "\n",
      "\n",
      "\n",
      " 13%|█▎        | 13/100 [44:09<4:55:38, 203.89s/it]\u001b[A\u001b[A\u001b[A\u001b[A"
     ]
    },
    {
     "name": "stdout",
     "output_type": "stream",
     "text": [
      "time:  204.14556741714478\n"
     ]
    },
    {
     "name": "stderr",
     "output_type": "stream",
     "text": [
      "\n",
      "\n",
      "\n",
      "\n",
      " 14%|█▍        | 14/100 [47:33<4:52:12, 203.87s/it]\u001b[A\u001b[A\u001b[A\u001b[A"
     ]
    },
    {
     "name": "stdout",
     "output_type": "stream",
     "text": [
      "time:  203.6874074935913\n"
     ]
    },
    {
     "name": "stderr",
     "output_type": "stream",
     "text": [
      "\n",
      "\n",
      "\n",
      "\n",
      " 15%|█▌        | 15/100 [50:57<4:48:53, 203.93s/it]\u001b[A\u001b[A\u001b[A\u001b[A"
     ]
    },
    {
     "name": "stdout",
     "output_type": "stream",
     "text": [
      "time:  203.94970870018005\n",
      "time:  210.03297400474548\n"
     ]
    },
    {
     "name": "stderr",
     "output_type": "stream",
     "text": [
      "\n",
      "\n",
      "\n",
      "\n",
      " 16%|█▌        | 16/100 [54:27<4:48:10, 205.84s/it]\u001b[A\u001b[A\u001b[A\u001b[A\n",
      "\n",
      "\n",
      "\n",
      " 17%|█▋        | 17/100 [57:53<4:44:34, 205.72s/it]\u001b[A\u001b[A\u001b[A\u001b[A"
     ]
    },
    {
     "name": "stdout",
     "output_type": "stream",
     "text": [
      "time:  205.3096616268158\n"
     ]
    },
    {
     "name": "stderr",
     "output_type": "stream",
     "text": [
      "\n",
      "\n",
      "\n",
      "\n",
      " 18%|█▊        | 18/100 [1:01:15<4:39:48, 204.73s/it]\u001b[A\u001b[A\u001b[A\u001b[A"
     ]
    },
    {
     "name": "stdout",
     "output_type": "stream",
     "text": [
      "time:  202.31905364990234\n"
     ]
    },
    {
     "name": "stderr",
     "output_type": "stream",
     "text": [
      "\n",
      "\n",
      "\n",
      "\n",
      " 19%|█▉        | 19/100 [1:04:38<4:35:28, 204.05s/it]\u001b[A\u001b[A\u001b[A\u001b[A"
     ]
    },
    {
     "name": "stdout",
     "output_type": "stream",
     "text": [
      "time:  202.36244130134583\n"
     ]
    },
    {
     "name": "stderr",
     "output_type": "stream",
     "text": [
      "\n",
      "\n",
      "\n",
      "\n",
      " 20%|██        | 20/100 [1:08:01<4:31:23, 203.54s/it]"
     ]
    },
    {
     "name": "stdout",
     "output_type": "stream",
     "text": [
      "time:  202.22616243362427\n"
     ]
    },
    {
     "name": "stderr",
     "output_type": "stream",
     "text": [
      "\u001b[A\u001b[A\u001b[A\u001b[A/home/toast/toast/lib/python3.6/site-packages/matplotlib/pyplot.py:513: RuntimeWarning: More than 20 figures have been opened. Figures created through the pyplot interface (`matplotlib.pyplot.figure`) are retained until explicitly closed and may consume too much memory. (To control this warning, see the rcParam `figure.max_open_warning`).\n",
      "  max_open_warning, RuntimeWarning)\n",
      "\n",
      "\n",
      "\n",
      "\n",
      " 21%|██        | 21/100 [1:11:24<4:28:06, 203.62s/it]\u001b[A\u001b[A\u001b[A\u001b[A"
     ]
    },
    {
     "name": "stdout",
     "output_type": "stream",
     "text": [
      "time:  202.60491275787354\n"
     ]
    },
    {
     "name": "stderr",
     "output_type": "stream",
     "text": [
      "\n",
      "\n",
      "\n",
      "\n",
      " 22%|██▏       | 22/100 [1:14:47<4:24:38, 203.57s/it]\u001b[A\u001b[A\u001b[A\u001b[A"
     ]
    },
    {
     "name": "stdout",
     "output_type": "stream",
     "text": [
      "time:  203.35642981529236\n"
     ]
    },
    {
     "name": "stderr",
     "output_type": "stream",
     "text": [
      "\n",
      "\n",
      "\n",
      "\n",
      " 23%|██▎       | 23/100 [1:18:10<4:20:46, 203.20s/it]\u001b[A\u001b[A\u001b[A\u001b[A"
     ]
    },
    {
     "name": "stdout",
     "output_type": "stream",
     "text": [
      "time:  202.11187052726746\n"
     ]
    },
    {
     "name": "stderr",
     "output_type": "stream",
     "text": [
      "\n",
      "\n",
      "\n",
      "\n",
      " 24%|██▍       | 24/100 [1:21:32<4:17:12, 203.06s/it]\u001b[A\u001b[A\u001b[A\u001b[A"
     ]
    },
    {
     "name": "stdout",
     "output_type": "stream",
     "text": [
      "time:  202.609224319458\n"
     ]
    },
    {
     "name": "stderr",
     "output_type": "stream",
     "text": [
      "\n",
      "\n",
      "\n",
      "\n",
      " 25%|██▌       | 25/100 [1:24:56<4:13:52, 203.10s/it]\u001b[A\u001b[A\u001b[A\u001b[A"
     ]
    },
    {
     "name": "stdout",
     "output_type": "stream",
     "text": [
      "time:  203.09255242347717\n"
     ]
    },
    {
     "name": "stderr",
     "output_type": "stream",
     "text": [
      "\n",
      "\n",
      "\n",
      "\n",
      " 26%|██▌       | 26/100 [1:28:19<4:10:34, 203.17s/it]\u001b[A\u001b[A\u001b[A\u001b[A"
     ]
    },
    {
     "name": "stdout",
     "output_type": "stream",
     "text": [
      "time:  203.23763179779053\n"
     ]
    },
    {
     "name": "stderr",
     "output_type": "stream",
     "text": [
      "\n",
      "\n",
      "\n",
      "\n",
      " 27%|██▋       | 27/100 [1:31:43<4:07:30, 203.43s/it]\u001b[A\u001b[A\u001b[A\u001b[A"
     ]
    },
    {
     "name": "stdout",
     "output_type": "stream",
     "text": [
      "time:  203.92653584480286\n"
     ]
    },
    {
     "name": "stderr",
     "output_type": "stream",
     "text": [
      "\n",
      "\n",
      "\n",
      "\n",
      " 28%|██▊       | 28/100 [1:35:07<4:04:22, 203.64s/it]\u001b[A\u001b[A\u001b[A\u001b[A"
     ]
    },
    {
     "name": "stdout",
     "output_type": "stream",
     "text": [
      "time:  204.0353078842163\n"
     ]
    },
    {
     "name": "stderr",
     "output_type": "stream",
     "text": [
      "\n",
      "\n",
      "\n",
      "\n",
      " 29%|██▉       | 29/100 [1:38:31<4:01:01, 203.68s/it]\u001b[A\u001b[A\u001b[A\u001b[A"
     ]
    },
    {
     "name": "stdout",
     "output_type": "stream",
     "text": [
      "time:  203.3982322216034\n"
     ]
    },
    {
     "name": "stderr",
     "output_type": "stream",
     "text": [
      "\n",
      "\n",
      "\n",
      "\n",
      " 30%|███       | 30/100 [1:41:55<3:57:41, 203.73s/it]\u001b[A\u001b[A\u001b[A\u001b[A"
     ]
    },
    {
     "name": "stdout",
     "output_type": "stream",
     "text": [
      "time:  203.7005934715271\n"
     ]
    },
    {
     "name": "stderr",
     "output_type": "stream",
     "text": [
      "\n",
      "\n",
      "\n",
      "\n",
      " 31%|███       | 31/100 [1:45:18<3:54:01, 203.50s/it]\u001b[A\u001b[A\u001b[A\u001b[A"
     ]
    },
    {
     "name": "stdout",
     "output_type": "stream",
     "text": [
      "time:  202.81593227386475\n"
     ]
    },
    {
     "name": "stderr",
     "output_type": "stream",
     "text": [
      "\n",
      "\n",
      "\n",
      "\n",
      " 32%|███▏      | 32/100 [1:48:40<3:50:24, 203.30s/it]\u001b[A\u001b[A\u001b[A\u001b[A"
     ]
    },
    {
     "name": "stdout",
     "output_type": "stream",
     "text": [
      "time:  202.67511892318726\n"
     ]
    },
    {
     "name": "stderr",
     "output_type": "stream",
     "text": [
      "\n",
      "\n",
      "\n",
      "\n",
      " 33%|███▎      | 33/100 [1:52:12<3:49:48, 205.80s/it]\u001b[A\u001b[A\u001b[A\u001b[A"
     ]
    },
    {
     "name": "stdout",
     "output_type": "stream",
     "text": [
      "time:  211.52710127830505\n"
     ]
    }
   ],
   "source": [
    "df = pd.read_csv(\"train/data_list.csv\")\n",
    "# x = {i: [] for i in x_range.keys()}\n",
    "x = defaultdict(list)\n",
    "mch = MCHHandler()\n",
    "\n",
    "for step_one_idx in range(1):\n",
    "    \n",
    "    ### 準備好mch的結果\n",
    "    with open(\"configs/train.json\", \"r\") as f:\n",
    "        config = json.load(f)\n",
    "    wl = pd.read_csv(config[\"wavelength\"])[\"wavelength\"].values\n",
    "    session_id = df[\"idx\"][0]\n",
    "    config[\"session_id\"] = session_id\n",
    "    config[\"parameters\"] = \"train/input/\" + session_id + \".json\"\n",
    "\n",
    "    path = \"configs/train/\" + session_id + \".json\"\n",
    "    with open(path, \"w+\") as f:\n",
    "        json.dump(config, f, indent=4)\n",
    "        \n",
    "    mch.load_config(path)\n",
    "    \n",
    "    ###\n",
    "    \n",
    "    ### random生產100組吸收係數，並存下來\n",
    "    for i in tqdm(range(100)):\n",
    "        for xx in x_range.keys():\n",
    "            if xx == \"idx\":\n",
    "                x[xx] += [get_idx()]            \n",
    "            else:\n",
    "                x[xx] += [random.uniform(x_range[xx][0], x_range[xx][1])]\n",
    "        for xx in df.columns[1:]:\n",
    "            x[xx] += [df[xx][step_one_idx]]\n",
    "        \n",
    "        ijv_args = {\n",
    "            \"skin\":{\n",
    "                \"blood_volume_fraction\": x[\"skin_b\"][i],\n",
    "                \"ScvO2\": x[\"skin_s\"][i],\n",
    "                \"water_volume\":x[\"skin_w\"][i],\n",
    "                \"fat_volume\": x[\"skin_f\"][i],\n",
    "                \"melanin_volume\": x[\"skin_m\"][i],\n",
    "            },\n",
    "\n",
    "            \"fat\":{\n",
    "                \"blood_volume_fraction\": 0,\n",
    "                \"ScvO2\": 0,\n",
    "                \"water_volume\": 0,\n",
    "                \"fat_volume\": x[\"fat_f\"][i],\n",
    "                \"melanin_volume\": 0,\n",
    "            },\n",
    "\n",
    "            \"muscle\":{\n",
    "                \"blood_volume_fraction\": x[\"muscle_b\"][i],\n",
    "                \"ScvO2\": x[\"muscle_s\"][i],\n",
    "                \"water_volume\": x[\"muscle_w\"][i],\n",
    "                \"fat_volume\": 0,\n",
    "                \"melanin_volume\": 0,\n",
    "            },\n",
    "            \"ijv\":{\n",
    "                \"blood_volume_fraction\": 1,\n",
    "                \"ScvO2\": x[\"ijv_s\"][i],\n",
    "                \"water_volume\": 0,\n",
    "                \"fat_volume\": 0,\n",
    "                \"melanin_volume\": 0,\n",
    "            },\n",
    "            \"cca\":{\n",
    "                \"blood_volume_fraction\": 1,\n",
    "                \"ScvO2\": x[\"cca_s\"][i],\n",
    "                \"water_volume\": 0,\n",
    "                \"fat_volume\": 0,\n",
    "                \"melanin_volume\": 0,\n",
    "            },\n",
    "        }\n",
    "    \n",
    "        \n",
    "        start = time()\n",
    "        s, p = mch.run_wmc(ijv_args)\n",
    "        end = time()\n",
    "#         print(\"time: \", end - start)\n",
    "        if not os.path.isdir(os.path.join(\"train\", \"spec\", x[\"idx\"][i])):\n",
    "            os.mkdir(os.path.join(\"train\", \"spec\", x[\"idx\"][i]))\n",
    "        np.save(os.path.join(\"train\", \"spec\", x[\"idx\"][i], x[\"idx\"][i]), s)\n",
    "        \n",
    "        plt.figure()\n",
    "        for n, ss in enumerate(s[5:]):\n",
    "            plt.plot(wl, ss, label=\"SDS: %d\" % n)\n",
    "        plt.legend()\n",
    "        plt.grid()\n",
    "        plt.xlabel(\"wavelength [nm]\")\n",
    "        plt.ylabel(\"reflectance [-]\")\n",
    "        plt.savefig(os.path.join(\"train\", \"spec\", x[\"idx\"][i], x[\"idx\"][i] + \".png\"))\n",
    "        plt.clf()\n",
    "        \n",
    "df_full = pd.DataFrame(x)"
   ]
  },
  {
   "cell_type": "code",
   "execution_count": null,
   "metadata": {},
   "outputs": [],
   "source": []
  }
 ],
 "metadata": {
  "kernelspec": {
   "display_name": "Python 3",
   "language": "python",
   "name": "python3"
  },
  "language_info": {
   "codemirror_mode": {
    "name": "ipython",
    "version": 3
   },
   "file_extension": ".py",
   "mimetype": "text/x-python",
   "name": "python",
   "nbconvert_exporter": "python",
   "pygments_lexer": "ipython3",
   "version": "3.6.4"
  }
 },
 "nbformat": 4,
 "nbformat_minor": 2
}
