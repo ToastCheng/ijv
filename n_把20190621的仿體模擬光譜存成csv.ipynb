{
 "cells": [
  {
   "cell_type": "code",
   "execution_count": 1,
   "metadata": {},
   "outputs": [],
   "source": [
    "from utils.mch import MCHHandler\n",
    "from utils import load_mch\n",
    "import pandas as pd \n",
    "import numpy as np \n",
    "import matplotlib.pyplot as plt \n",
    "from glob import glob\n",
    "\n",
    "%matplotlib inline "
   ]
  },
  {
   "cell_type": "code",
   "execution_count": 2,
   "metadata": {},
   "outputs": [],
   "source": [
    "# glob(\"output/phantom/mcx_output/\")\n",
    "\n",
    "mch = MCHHandler()"
   ]
  },
  {
   "cell_type": "code",
   "execution_count": 3,
   "metadata": {},
   "outputs": [],
   "source": [
    "mch.load_config(\"configs/phantom.json\")\n",
    "s = mch.run_wmc()"
   ]
  },
  {
   "cell_type": "code",
   "execution_count": 4,
   "metadata": {},
   "outputs": [],
   "source": [
    "ss = s[0][0]"
   ]
  },
  {
   "cell_type": "code",
   "execution_count": 5,
   "metadata": {
    "scrolled": true
   },
   "outputs": [
    {
     "data": {
      "text/plain": [
       "(3, 80)"
      ]
     },
     "execution_count": 5,
     "metadata": {},
     "output_type": "execute_result"
    }
   ],
   "source": [
    "ss.shape"
   ]
  },
  {
   "cell_type": "code",
   "execution_count": 6,
   "metadata": {
    "scrolled": true
   },
   "outputs": [
    {
     "data": {
      "text/plain": [
       "{'version': 1,\n",
       " 'maxmedia': 1,\n",
       " 'detnum': 3,\n",
       " 'colcount': 10,\n",
       " 'total_photon': 2000000000,\n",
       " 'detected': 221638,\n",
       " 'saved_photon': 221638,\n",
       " 'unitmm': 0.25,\n",
       " 'seed_byte': 0,\n",
       " 'normalize': 1.600000023841858,\n",
       " 'respin': 1}"
      ]
     },
     "execution_count": 6,
     "metadata": {},
     "output_type": "execute_result"
    }
   ],
   "source": [
    "d, h, _ = load_mch(\"output/phantom/mcx_output/phantom_820_C.mch\")\n",
    "h"
   ]
  },
  {
   "cell_type": "code",
   "execution_count": 17,
   "metadata": {},
   "outputs": [
    {
     "data": {
      "text/html": [
       "<div>\n",
       "<style scoped>\n",
       "    .dataframe tbody tr th:only-of-type {\n",
       "        vertical-align: middle;\n",
       "    }\n",
       "\n",
       "    .dataframe tbody tr th {\n",
       "        vertical-align: top;\n",
       "    }\n",
       "\n",
       "    .dataframe thead th {\n",
       "        text-align: right;\n",
       "    }\n",
       "</style>\n",
       "<table border=\"1\" class=\"dataframe\">\n",
       "  <thead>\n",
       "    <tr style=\"text-align: right;\">\n",
       "      <th></th>\n",
       "      <th>detector_idx</th>\n",
       "      <th>scattering</th>\n",
       "      <th>media_0</th>\n",
       "      <th>x</th>\n",
       "      <th>y</th>\n",
       "      <th>z</th>\n",
       "      <th>dx</th>\n",
       "      <th>dy</th>\n",
       "      <th>dz</th>\n",
       "    </tr>\n",
       "  </thead>\n",
       "  <tbody>\n",
       "    <tr>\n",
       "      <th>0</th>\n",
       "      <td>1.0</td>\n",
       "      <td>314.0</td>\n",
       "      <td>158.697586</td>\n",
       "      <td>90.156967</td>\n",
       "      <td>71.579453</td>\n",
       "      <td>-0.000061</td>\n",
       "      <td>0.164985</td>\n",
       "      <td>0.364526</td>\n",
       "      <td>-0.916461</td>\n",
       "    </tr>\n",
       "    <tr>\n",
       "      <th>1</th>\n",
       "      <td>3.0</td>\n",
       "      <td>498.0</td>\n",
       "      <td>215.909027</td>\n",
       "      <td>119.611488</td>\n",
       "      <td>73.595078</td>\n",
       "      <td>-0.000061</td>\n",
       "      <td>0.160629</td>\n",
       "      <td>0.322140</td>\n",
       "      <td>-0.932965</td>\n",
       "    </tr>\n",
       "    <tr>\n",
       "      <th>2</th>\n",
       "      <td>1.0</td>\n",
       "      <td>540.0</td>\n",
       "      <td>241.064331</td>\n",
       "      <td>90.634544</td>\n",
       "      <td>70.760223</td>\n",
       "      <td>-0.000061</td>\n",
       "      <td>0.262827</td>\n",
       "      <td>0.420560</td>\n",
       "      <td>-0.868361</td>\n",
       "    </tr>\n",
       "  </tbody>\n",
       "</table>\n",
       "</div>"
      ],
      "text/plain": [
       "   detector_idx  scattering     media_0           x          y         z  \\\n",
       "0           1.0       314.0  158.697586   90.156967  71.579453 -0.000061   \n",
       "1           3.0       498.0  215.909027  119.611488  73.595078 -0.000061   \n",
       "2           1.0       540.0  241.064331   90.634544  70.760223 -0.000061   \n",
       "\n",
       "         dx        dy        dz  \n",
       "0  0.164985  0.364526 -0.916461  \n",
       "1  0.160629  0.322140 -0.932965  \n",
       "2  0.262827  0.420560 -0.868361  "
      ]
     },
     "execution_count": 17,
     "metadata": {},
     "output_type": "execute_result"
    }
   ],
   "source": [
    "d.head(3)"
   ]
  },
  {
   "cell_type": "code",
   "execution_count": 8,
   "metadata": {},
   "outputs": [
    {
     "data": {
      "image/png": "[encoded data removed]",
      "text/plain": [
       "<Figure size 720x720 with 1 Axes>"
      ]
     },
     "metadata": {
      "needs_background": "light"
     },
     "output_type": "display_data"
    }
   ],
   "source": [
    "plt.figure(figsize=(10, 10))\n",
    "plt.plot([i for i in range(660, 851, 10)],ss[0][::4], label=\"C\")\n",
    "plt.plot([i for i in range(660, 851, 10)],ss[0][1::4], label=\"H\")\n",
    "plt.plot([i for i in range(660, 851, 10)],ss[0][2::4], label=\"I\")\n",
    "plt.plot([i for i in range(660, 851, 10)],ss[0][3::4], label=\"K\")\n",
    "# plt.plot(ss[0][4::6], label=\"E\")\n",
    "# plt.plot(ss[0][5::6], label=\"N\")\n",
    "\n",
    "plt.legend()\n",
    "plt.show()"
   ]
  },
  {
   "cell_type": "code",
   "execution_count": 45,
   "metadata": {},
   "outputs": [],
   "source": [
    "df = pd.DataFrame({\n",
    "    \"wl\": [i for i in range(660, 851, 10)],\n",
    "    \"c\": ss[0][::4],\n",
    "    \"h\": ss[0][1::4],\n",
    "    \"i\": ss[0][2::4],\n",
    "    \"k\": ss[0][3::4]\n",
    "})"
   ]
  },
  {
   "cell_type": "code",
   "execution_count": 46,
   "metadata": {},
   "outputs": [],
   "source": [
    "df.to_csv(\"CHIKEN/20190621_sim_chik.csv\", index=None)"
   ]
  },
  {
   "cell_type": "code",
   "execution_count": null,
   "metadata": {},
   "outputs": [],
   "source": []
  }
 ],
 "metadata": {
  "kernelspec": {
   "display_name": "Python 3",
   "language": "python",
   "name": "python3"
  },
  "language_info": {
   "codemirror_mode": {
    "name": "ipython",
    "version": 3
   },
   "file_extension": ".py",
   "mimetype": "text/x-python",
   "name": "python",
   "nbconvert_exporter": "python",
   "pygments_lexer": "ipython3",
   "version": "3.7.3"
  }
 },
 "nbformat": 4,
 "nbformat_minor": 2
}
