{
 "cells": [
  {
   "cell_type": "code",
   "execution_count": 2,
   "metadata": {},
   "outputs": [],
   "source": [
    "import numpy as np \n",
    "import pandas as pd\n",
    "from tqdm import tqdm\n",
    "import matplotlib.pyplot as plt\n",
    "from MySQLdb import connect\n",
    "\n",
    "import os \n",
    "import json\n",
    "import random\n",
    "import string\n",
    "from time import time\n",
    "from collections import defaultdict\n",
    "\n",
    "from utils.mch import MCHHandler"
   ]
  },
  {
   "cell_type": "code",
   "execution_count": 3,
   "metadata": {},
   "outputs": [],
   "source": [
    "def get_idx(n=10):\n",
    "    assert n > 1, \"n should be greater than 1\"\n",
    "    first = random.choice(string.ascii_letters)\n",
    "    rest = \"\".join(random.sample(string.ascii_letters + string.digits, n-1))\n",
    "    return first + rest"
   ]
  },
  {
   "cell_type": "code",
   "execution_count": 6,
   "metadata": {},
   "outputs": [],
   "source": [
    "# 1/cm\n",
    "mus_range = {\n",
    "    \"skin_musp\": (29.7, 48.9),\n",
    "    \"skin_bmie\": (0.705, 2.453),\n",
    "    \"fat_musp\": (13.7, 35.8),\n",
    "    \"fat_bmie\": (0.385, 0.988),\n",
    "    \"muscle_musp\": (9.8, 13.0),\n",
    "    \"muscle_bmie\": (0.926, 2.82),\n",
    "    \"ijv_musp\": (10, 20),\n",
    "    \"ijv_bmie\": (10, 20),\n",
    "    \"cca_musp\": (10, 20),\n",
    "    \"cca_bmie\": (10, 20),\n",
    "}\n",
    "\n",
    "geo_range = {\n",
    "# mm\n",
    "    \"geo_skin\": (0.5, 1.5),\n",
    "    \"geo_fat\": (0.5, 1.5),\n",
    "    \"geo_ijvr\": (2.5, 10.5),\n",
    "    \"geo_ijvd\": (2, 16),\n",
    "    \"geo_ccar\": (2.5, 4.5),\n",
    "    \"geo_ccad\": (5, 26),\n",
    "    \"geo_ijvcca\": (5, 10)\n",
    "}\n",
    "\n",
    "mua_range = {\n",
    "    \"idx\": None,\n",
    "    \"skin_b\": (0.0012, 0.0041),\n",
    "    \"skin_s\": (0.985, 1.0),\n",
    "    \"skin_w\": (0.166, 0.261),\n",
    "    \"skin_f\": (0.187, 0.277),\n",
    "    \"skin_m\": (0.0087, 0.0165),\n",
    "\n",
    "    \"fat_f\": (0.5, 1),\n",
    "\n",
    "    \"muscle_b\": (0.005, 0.050),\n",
    "    \"muscle_s\": (0.5, 0.9),\n",
    "    \"muscle_w\": (0.5, 0.9),\n",
    "\n",
    "    \"ijv_s\": (0.0, 1.0),\n",
    "\n",
    "    \"cca_s\": (0.0, 1.0),\n",
    "}\n",
    "\n"
   ]
  },
  {
   "cell_type": "code",
   "execution_count": 7,
   "metadata": {},
   "outputs": [],
   "source": [
    "# mus\n",
    "skin_musp = random.uniform(mus_range[\"skin_musp\"][0], mus_range[\"skin_musp\"][1])\n",
    "skin_bmie = random.uniform(mus_range[\"skin_bmie\"][0], mus_range[\"skin_bmie\"][1])\n",
    "fat_musp = random.uniform(mus_range[\"fat_musp\"][0], mus_range[\"fat_musp\"][1])\n",
    "fat_bmie = random.uniform(mus_range[\"fat_bmie\"][0], mus_range[\"fat_bmie\"][1])\n",
    "muscle_musp = random.uniform(mus_range[\"muscle_musp\"][0], mus_range[\"muscle_musp\"][1])\n",
    "muscle_bmie = random.uniform(mus_range[\"muscle_bmie\"][0], mus_range[\"muscle_bmie\"][1])\n",
    "ijv_musp = random.uniform(mus_range[\"ijv_musp\"][0], mus_range[\"ijv_musp\"][1])\n",
    "ijv_bmie = random.uniform(mus_range[\"ijv_bmie\"][0], mus_range[\"ijv_bmie\"][1])\n",
    "cca_musp = random.uniform(mus_range[\"cca_musp\"][0], mus_range[\"cca_musp\"][1])\n",
    "cca_bmie = random.uniform(mus_range[\"cca_bmie\"][0], mus_range[\"cca_bmie\"][1])\n",
    "        \n",
    "# geo\n",
    "\n",
    "geo_skin = random.uniform(geo_range[\"geo_skin\"][0], geo_range[\"geo_skin\"][1])\n",
    "geo_fat = random.uniform(geo_range[\"geo_fat\"][0], geo_range[\"geo_fat\"][1])\n",
    "geo_ijvd = random.uniform(geo_range[\"geo_ijvd\"][0], geo_range[\"geo_ijvd\"][1])\n",
    "geo_ijvr = random.uniform(geo_range[\"geo_ijvr\"][0], geo_range[\"geo_ijvr\"][1])\n",
    "while geo_skin + geo_fat > geo_ijvd - geo_ijvr:\n",
    "    geo_ijvd = random.uniform(geo_range[\"geo_ijvd\"][0], geo_range[\"geo_ijvd\"][1])\n",
    "    geo_ijvr = random.uniform(geo_range[\"geo_ijvr\"][0], geo_range[\"geo_ijvr\"][1])\n",
    "\n",
    "geo_ccad = random.uniform(geo_range[\"geo_ccad\"][0], geo_range[\"geo_ccad\"][1])\n",
    "geo_ccar = random.uniform(geo_range[\"geo_ccar\"][0], geo_range[\"geo_ccar\"][1])\n",
    "geo_ijvcca = random.uniform(geo_range[\"geo_ijvcca\"][0], geo_range[\"geo_ijvcca\"][1])\n",
    "while (geo_ccad - geo_ijvd)**2 + (geo_ijvcca)**2 <  (geo_ccar + geo_ijvr)**2:\n",
    "    geo_ccad = random.uniform(geo_range[\"geo_ccad\"][0], geo_range[\"geo_ccad\"][1])\n",
    "    geo_ccar = random.uniform(geo_range[\"geo_ccar\"][0], geo_range[\"geo_ccar\"][1])\n",
    "    geo_ijvcca = random.uniform(geo_range[\"geo_ijvcca\"][0], geo_range[\"geo_ijvcca\"][1])\n",
    "\n"
   ]
  },
  {
   "cell_type": "code",
   "execution_count": 8,
   "metadata": {},
   "outputs": [],
   "source": [
    "with open(\"train/template.json\") as f:\n",
    "    inp = json.load(f)"
   ]
  },
  {
   "cell_type": "code",
   "execution_count": 9,
   "metadata": {},
   "outputs": [],
   "source": [
    "inp[\"skin\"][\"muspx\"] = skin_musp\n",
    "inp[\"skin\"][\"bmie\"] = skin_bmie\n",
    "\n",
    "inp[\"fat\"][\"muspx\"] = fat_musp\n",
    "inp[\"fat\"][\"bmie\"] = fat_bmie\n",
    "\n",
    "inp[\"muscle\"][\"muspx\"] = muscle_musp\n",
    "inp[\"muscle\"][\"bmie\"] = muscle_bmie\n",
    "\n",
    "inp[\"IJV\"][\"muspx\"] = ijv_musp\n",
    "inp[\"IJV\"][\"bmie\"] = ijv_bmie\n",
    "inp[\"CCA\"][\"muspx\"] = cca_musp\n",
    "inp[\"CCA\"][\"bmie\"] = cca_bmie\n",
    "\n",
    "inp[\"geometry\"][\"skin_thickness\"] = geo_skin\n",
    "inp[\"geometry\"][\"fat_thickness\"] = geo_fat\n",
    "inp[\"geometry\"][\"ijv_radius\"] = geo_ijvr\n",
    "inp[\"geometry\"][\"ijv_depth\"] = geo_ijvd\n",
    "inp[\"geometry\"][\"cca_radius\"] = geo_ccar\n",
    "inp[\"geometry\"][\"cca_depth\"] = geo_ccad\n",
    "inp[\"geometry\"][\"ijv_cca_distance\"] = geo_ijvcca\n",
    "inp[\"boundary\"][\"x_size\"] = 150\n",
    "inp[\"boundary\"][\"y_size\"] = 150\n",
    "inp[\"boundary\"][\"z_size\"] = 200"
   ]
  },
  {
   "cell_type": "code",
   "execution_count": 10,
   "metadata": {},
   "outputs": [
    {
     "data": {
      "text/plain": [
       "{'skin': {'n': 1.4,\n",
       "  'g': 0.94,\n",
       "  'muspx': 48.22294843427134,\n",
       "  'bmie': 1.726165179426705},\n",
       " 'fat': {'n': 1.4,\n",
       "  'g': 0.94,\n",
       "  'muspx': 20.814078277131763,\n",
       "  'bmie': 0.9042435381978435},\n",
       " 'muscle': {'n': 1.4,\n",
       "  'g': 0.94,\n",
       "  'muspx': 12.597990285291406,\n",
       "  'bmie': 2.3639551518242095},\n",
       " 'IJV': {'n': 1.4,\n",
       "  'g': 0.94,\n",
       "  'muspx': 18.49803738386337,\n",
       "  'bmie': 19.80591435101853},\n",
       " 'CCA': {'n': 1.4,\n",
       "  'g': 0.94,\n",
       "  'muspx': 14.559481879621172,\n",
       "  'bmie': 13.522411517192968},\n",
       " 'geometry': {'skin_thickness': 1.389182454180723,\n",
       "  'fat_thickness': 1.186157370449629,\n",
       "  'ijv_radius': 3.5728779946222256,\n",
       "  'ijv_depth': 8.94258745746267,\n",
       "  'cca_radius': 3.407679169349727,\n",
       "  'cca_depth': 10.890177321302556,\n",
       "  'ijv_cca_distance': 7.995989432088793},\n",
       " 'boundary': {'x_size': 150, 'y_size': 150, 'z_size': 200}}"
      ]
     },
     "execution_count": 10,
     "metadata": {},
     "output_type": "execute_result"
    }
   ],
   "source": [
    "with open(\"train/inptemplate.json\", \"w+\") as f:\n",
    "    json.dump(inp, f, indent=4)np"
   ]
  },
  {
   "cell_type": "code",
   "execution_count": null,
   "metadata": {},
   "outputs": [],
   "source": []
  }
 ],
 "metadata": {
  "kernelspec": {
   "display_name": "Python 3",
   "language": "python",
   "name": "python3"
  },
  "language_info": {
   "codemirror_mode": {
    "name": "ipython",
    "version": 3
   },
   "file_extension": ".py",
   "mimetype": "text/x-python",
   "name": "python",
   "nbconvert_exporter": "python",
   "pygments_lexer": "ipython3",
   "version": "3.7.3"
  }
 },
 "nbformat": 4,
 "nbformat_minor": 2
}
