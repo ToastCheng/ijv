{
 "cells": [
  {
   "cell_type": "code",
   "execution_count": 1,
   "metadata": {},
   "outputs": [
    {
     "name": "stderr",
     "output_type": "stream",
     "text": [
      "/home/md703/toast/lib/python3.7/importlib/_bootstrap.py:219: RuntimeWarning: numpy.ufunc size changed, may indicate binary incompatibility. Expected 216, got 192\n",
      "  return f(*args, **kwds)\n",
      "/home/md703/toast/lib/python3.7/importlib/_bootstrap.py:219: RuntimeWarning: numpy.ufunc size changed, may indicate binary incompatibility. Expected 216, got 192\n",
      "  return f(*args, **kwds)\n"
     ]
    }
   ],
   "source": [
    "from utils import load_mch\n",
    "import pandas as pd \n",
    "import numpy as np \n",
    "import matplotlib.pyplot as plt "
   ]
  },
  {
   "cell_type": "code",
   "execution_count": 2,
   "metadata": {},
   "outputs": [],
   "source": [
    "df, header = load_mch(\"output/quicktest/mcx_output/quicktest_850_H.mch\")"
   ]
  },
  {
   "cell_type": "code",
   "execution_count": 3,
   "metadata": {},
   "outputs": [
    {
     "data": {
      "text/plain": [
       "array([[ 1.00000000e+00,  7.90000000e+01,  2.74525940e+02, ...,\n",
       "        -3.43532294e-01,  8.81161928e-01, -3.24867964e-01],\n",
       "       [ 1.00000000e+00,  1.09000000e+02,  4.07793213e+02, ...,\n",
       "         1.03652641e-01,  9.91974890e-01, -7.24011809e-02],\n",
       "       [ 3.00000000e+00,  1.25000000e+02,  4.86658936e+02, ...,\n",
       "         8.28073084e-01, -7.39009306e-02, -5.55728018e-01],\n",
       "       ...,\n",
       "       [ 1.00000000e+00,  1.94000000e+02,  7.61835449e+02, ...,\n",
       "        -5.45987844e-01,  4.35201913e-01, -7.15888679e-01],\n",
       "       [ 2.00000000e+00,  2.44000000e+02,  1.15029785e+03, ...,\n",
       "        -1.68524012e-01, -6.62730992e-01, -7.29648709e-01],\n",
       "       [ 1.00000000e+00,  2.27000000e+02,  9.22699158e+02, ...,\n",
       "         8.37837160e-01, -8.03519636e-02, -5.39974511e-01]])"
      ]
     },
     "execution_count": 3,
     "metadata": {},
     "output_type": "execute_result"
    }
   ],
   "source": [
    "df"
   ]
  },
  {
   "cell_type": "code",
   "execution_count": 4,
   "metadata": {},
   "outputs": [
    {
     "data": {
      "text/plain": [
       "(581035, 9)"
      ]
     },
     "execution_count": 4,
     "metadata": {},
     "output_type": "execute_result"
    }
   ],
   "source": [
    "df.shape"
   ]
  },
  {
   "cell_type": "code",
   "execution_count": 7,
   "metadata": {},
   "outputs": [],
   "source": [
    "df = pd.DataFrame(df)"
   ]
  },
  {
   "cell_type": "code",
   "execution_count": 9,
   "metadata": {
    "scrolled": true
   },
   "outputs": [
    {
     "data": {
      "text/html": [
       "<div>\n",
       "<style scoped>\n",
       "    .dataframe tbody tr th:only-of-type {\n",
       "        vertical-align: middle;\n",
       "    }\n",
       "\n",
       "    .dataframe tbody tr th {\n",
       "        vertical-align: top;\n",
       "    }\n",
       "\n",
       "    .dataframe thead th {\n",
       "        text-align: right;\n",
       "    }\n",
       "</style>\n",
       "<table border=\"1\" class=\"dataframe\">\n",
       "  <thead>\n",
       "    <tr style=\"text-align: right;\">\n",
       "      <th></th>\n",
       "      <th>0</th>\n",
       "      <th>1</th>\n",
       "      <th>2</th>\n",
       "      <th>3</th>\n",
       "      <th>4</th>\n",
       "      <th>5</th>\n",
       "      <th>6</th>\n",
       "      <th>7</th>\n",
       "      <th>8</th>\n",
       "    </tr>\n",
       "  </thead>\n",
       "  <tbody>\n",
       "    <tr>\n",
       "      <th>count</th>\n",
       "      <td>581035.000000</td>\n",
       "      <td>581035.000000</td>\n",
       "      <td>581035.000000</td>\n",
       "      <td>581035.000000</td>\n",
       "      <td>581035.000000</td>\n",
       "      <td>581035.000000</td>\n",
       "      <td>581035.000000</td>\n",
       "      <td>581035.000000</td>\n",
       "      <td>581035.000000</td>\n",
       "    </tr>\n",
       "    <tr>\n",
       "      <th>mean</th>\n",
       "      <td>1.568480</td>\n",
       "      <td>223.660155</td>\n",
       "      <td>929.962974</td>\n",
       "      <td>98.816655</td>\n",
       "      <td>74.997582</td>\n",
       "      <td>-0.000061</td>\n",
       "      <td>0.038465</td>\n",
       "      <td>0.000617</td>\n",
       "      <td>-0.691538</td>\n",
       "    </tr>\n",
       "    <tr>\n",
       "      <th>std</th>\n",
       "      <td>0.727881</td>\n",
       "      <td>137.766485</td>\n",
       "      <td>561.248331</td>\n",
       "      <td>11.916486</td>\n",
       "      <td>2.495226</td>\n",
       "      <td>0.000000</td>\n",
       "      <td>0.486062</td>\n",
       "      <td>0.485554</td>\n",
       "      <td>0.219721</td>\n",
       "    </tr>\n",
       "    <tr>\n",
       "      <th>min</th>\n",
       "      <td>1.000000</td>\n",
       "      <td>12.000000</td>\n",
       "      <td>100.803825</td>\n",
       "      <td>85.000648</td>\n",
       "      <td>70.000320</td>\n",
       "      <td>-0.000061</td>\n",
       "      <td>-0.999458</td>\n",
       "      <td>-0.999180</td>\n",
       "      <td>-0.999999</td>\n",
       "    </tr>\n",
       "    <tr>\n",
       "      <th>25%</th>\n",
       "      <td>1.000000</td>\n",
       "      <td>124.000000</td>\n",
       "      <td>523.152222</td>\n",
       "      <td>89.125881</td>\n",
       "      <td>72.984127</td>\n",
       "      <td>-0.000061</td>\n",
       "      <td>-0.346145</td>\n",
       "      <td>-0.387978</td>\n",
       "      <td>-0.876844</td>\n",
       "    </tr>\n",
       "    <tr>\n",
       "      <th>50%</th>\n",
       "      <td>1.000000</td>\n",
       "      <td>190.000000</td>\n",
       "      <td>789.369934</td>\n",
       "      <td>92.889618</td>\n",
       "      <td>74.995377</td>\n",
       "      <td>-0.000061</td>\n",
       "      <td>0.051065</td>\n",
       "      <td>0.000418</td>\n",
       "      <td>-0.730154</td>\n",
       "    </tr>\n",
       "    <tr>\n",
       "      <th>75%</th>\n",
       "      <td>2.000000</td>\n",
       "      <td>288.000000</td>\n",
       "      <td>1189.307678</td>\n",
       "      <td>106.596069</td>\n",
       "      <td>77.007404</td>\n",
       "      <td>-0.000061</td>\n",
       "      <td>0.431864</td>\n",
       "      <td>0.390375</td>\n",
       "      <td>-0.538514</td>\n",
       "    </tr>\n",
       "    <tr>\n",
       "      <th>max</th>\n",
       "      <td>3.000000</td>\n",
       "      <td>1095.000000</td>\n",
       "      <td>4240.062988</td>\n",
       "      <td>126.998192</td>\n",
       "      <td>79.998535</td>\n",
       "      <td>-0.000061</td>\n",
       "      <td>0.999379</td>\n",
       "      <td>0.999720</td>\n",
       "      <td>-0.009851</td>\n",
       "    </tr>\n",
       "  </tbody>\n",
       "</table>\n",
       "</div>"
      ],
      "text/plain": [
       "                   0              1              2              3  \\\n",
       "count  581035.000000  581035.000000  581035.000000  581035.000000   \n",
       "mean        1.568480     223.660155     929.962974      98.816655   \n",
       "std         0.727881     137.766485     561.248331      11.916486   \n",
       "min         1.000000      12.000000     100.803825      85.000648   \n",
       "25%         1.000000     124.000000     523.152222      89.125881   \n",
       "50%         1.000000     190.000000     789.369934      92.889618   \n",
       "75%         2.000000     288.000000    1189.307678     106.596069   \n",
       "max         3.000000    1095.000000    4240.062988     126.998192   \n",
       "\n",
       "                   4              5              6              7  \\\n",
       "count  581035.000000  581035.000000  581035.000000  581035.000000   \n",
       "mean       74.997582      -0.000061       0.038465       0.000617   \n",
       "std         2.495226       0.000000       0.486062       0.485554   \n",
       "min        70.000320      -0.000061      -0.999458      -0.999180   \n",
       "25%        72.984127      -0.000061      -0.346145      -0.387978   \n",
       "50%        74.995377      -0.000061       0.051065       0.000418   \n",
       "75%        77.007404      -0.000061       0.431864       0.390375   \n",
       "max        79.998535      -0.000061       0.999379       0.999720   \n",
       "\n",
       "                   8  \n",
       "count  581035.000000  \n",
       "mean       -0.691538  \n",
       "std         0.219721  \n",
       "min        -0.999999  \n",
       "25%        -0.876844  \n",
       "50%        -0.730154  \n",
       "75%        -0.538514  \n",
       "max        -0.009851  "
      ]
     },
     "execution_count": 9,
     "metadata": {},
     "output_type": "execute_result"
    }
   ],
   "source": [
    "df.describe()"
   ]
  },
  {
   "cell_type": "code",
   "execution_count": 10,
   "metadata": {},
   "outputs": [
    {
     "data": {
      "text/plain": [
       "{'version': 1,\n",
       " 'maxmedia': 1,\n",
       " 'detnum': 3,\n",
       " 'colcount': 9,\n",
       " 'total_photon': 2000000000,\n",
       " 'detected': 581035,\n",
       " 'saved_photon': 581035,\n",
       " 'unitmm': 0.25,\n",
       " 'seed_byte': 0,\n",
       " 'normalize': 1.600000023841858,\n",
       " 'respin': 1}"
      ]
     },
     "execution_count": 10,
     "metadata": {},
     "output_type": "execute_result"
    }
   ],
   "source": [
    "header"
   ]
  },
  {
   "cell_type": "code",
   "execution_count": 12,
   "metadata": {},
   "outputs": [
    {
     "data": {
      "text/plain": [
       "((10980, 13),\n",
       " {'version': 1,\n",
       "  'maxmedia': 5,\n",
       "  'detnum': 3,\n",
       "  'colcount': 13,\n",
       "  'total_photon': 20000000,\n",
       "  'detected': 10980,\n",
       "  'saved_photon': 10980,\n",
       "  'unitmm': 0.25,\n",
       "  'seed_byte': 0,\n",
       "  'normalize': 160.0,\n",
       "  'respin': 1})"
      ]
     },
     "execution_count": 12,
     "metadata": {},
     "output_type": "execute_result"
    }
   ],
   "source": [
    "df, header = load_mch(\"output/quicktest/mcx_output/quicktest_700.mch\")\n",
    "df.shape, header"
   ]
  },
  {
   "cell_type": "code",
   "execution_count": 13,
   "metadata": {},
   "outputs": [
    {
     "data": {
      "text/plain": [
       "0       1.878415\n",
       "1      38.973224\n",
       "2       4.121729\n",
       "3       5.366428\n",
       "4      52.974882\n",
       "5      21.406726\n",
       "6       5.371510\n",
       "7     103.965143\n",
       "8      74.991504\n",
       "9      -0.000061\n",
       "10      0.182334\n",
       "11      1.000000\n",
       "12     -0.673905\n",
       "dtype: float64"
      ]
     },
     "execution_count": 13,
     "metadata": {},
     "output_type": "execute_result"
    }
   ],
   "source": [
    "df = pd.DataFrame(df)\n",
    "df.mean()"
   ]
  },
  {
   "cell_type": "code",
   "execution_count": 14,
   "metadata": {},
   "outputs": [
    {
     "data": {
      "text/html": [
       "<div>\n",
       "<style scoped>\n",
       "    .dataframe tbody tr th:only-of-type {\n",
       "        vertical-align: middle;\n",
       "    }\n",
       "\n",
       "    .dataframe tbody tr th {\n",
       "        vertical-align: top;\n",
       "    }\n",
       "\n",
       "    .dataframe thead th {\n",
       "        text-align: right;\n",
       "    }\n",
       "</style>\n",
       "<table border=\"1\" class=\"dataframe\">\n",
       "  <thead>\n",
       "    <tr style=\"text-align: right;\">\n",
       "      <th></th>\n",
       "      <th>0</th>\n",
       "      <th>1</th>\n",
       "      <th>2</th>\n",
       "      <th>3</th>\n",
       "      <th>4</th>\n",
       "      <th>5</th>\n",
       "      <th>6</th>\n",
       "      <th>7</th>\n",
       "      <th>8</th>\n",
       "      <th>9</th>\n",
       "      <th>10</th>\n",
       "      <th>11</th>\n",
       "      <th>12</th>\n",
       "    </tr>\n",
       "  </thead>\n",
       "  <tbody>\n",
       "    <tr>\n",
       "      <th>0</th>\n",
       "      <td>2.0</td>\n",
       "      <td>29.0</td>\n",
       "      <td>2.886456</td>\n",
       "      <td>4.039504</td>\n",
       "      <td>9.401902</td>\n",
       "      <td>27.691898</td>\n",
       "      <td>0.000000</td>\n",
       "      <td>108.748062</td>\n",
       "      <td>76.894203</td>\n",
       "      <td>-0.000061</td>\n",
       "      <td>0.888741</td>\n",
       "      <td>1.0</td>\n",
       "      <td>-0.431393</td>\n",
       "    </tr>\n",
       "    <tr>\n",
       "      <th>1</th>\n",
       "      <td>2.0</td>\n",
       "      <td>14.0</td>\n",
       "      <td>3.197761</td>\n",
       "      <td>5.270757</td>\n",
       "      <td>19.269804</td>\n",
       "      <td>7.544571</td>\n",
       "      <td>0.000000</td>\n",
       "      <td>102.132492</td>\n",
       "      <td>75.262108</td>\n",
       "      <td>-0.000061</td>\n",
       "      <td>0.034444</td>\n",
       "      <td>1.0</td>\n",
       "      <td>-0.938341</td>\n",
       "    </tr>\n",
       "    <tr>\n",
       "      <th>2</th>\n",
       "      <td>1.0</td>\n",
       "      <td>36.0</td>\n",
       "      <td>2.599865</td>\n",
       "      <td>3.639811</td>\n",
       "      <td>10.297681</td>\n",
       "      <td>29.635948</td>\n",
       "      <td>5.375427</td>\n",
       "      <td>88.748161</td>\n",
       "      <td>71.880363</td>\n",
       "      <td>-0.000061</td>\n",
       "      <td>0.435709</td>\n",
       "      <td>1.0</td>\n",
       "      <td>-0.853205</td>\n",
       "    </tr>\n",
       "    <tr>\n",
       "      <th>3</th>\n",
       "      <td>3.0</td>\n",
       "      <td>31.0</td>\n",
       "      <td>2.756860</td>\n",
       "      <td>3.859605</td>\n",
       "      <td>19.049202</td>\n",
       "      <td>27.393753</td>\n",
       "      <td>0.000000</td>\n",
       "      <td>126.316872</td>\n",
       "      <td>76.678391</td>\n",
       "      <td>-0.000061</td>\n",
       "      <td>0.280211</td>\n",
       "      <td>1.0</td>\n",
       "      <td>-0.626087</td>\n",
       "    </tr>\n",
       "    <tr>\n",
       "      <th>4</th>\n",
       "      <td>1.0</td>\n",
       "      <td>16.0</td>\n",
       "      <td>2.776021</td>\n",
       "      <td>3.886429</td>\n",
       "      <td>39.357780</td>\n",
       "      <td>12.421786</td>\n",
       "      <td>0.000000</td>\n",
       "      <td>93.212181</td>\n",
       "      <td>77.607994</td>\n",
       "      <td>-0.000061</td>\n",
       "      <td>0.371572</td>\n",
       "      <td>1.0</td>\n",
       "      <td>-0.596819</td>\n",
       "    </tr>\n",
       "  </tbody>\n",
       "</table>\n",
       "</div>"
      ],
      "text/plain": [
       "    0     1         2         3          4          5         6           7   \\\n",
       "0  2.0  29.0  2.886456  4.039504   9.401902  27.691898  0.000000  108.748062   \n",
       "1  2.0  14.0  3.197761  5.270757  19.269804   7.544571  0.000000  102.132492   \n",
       "2  1.0  36.0  2.599865  3.639811  10.297681  29.635948  5.375427   88.748161   \n",
       "3  3.0  31.0  2.756860  3.859605  19.049202  27.393753  0.000000  126.316872   \n",
       "4  1.0  16.0  2.776021  3.886429  39.357780  12.421786  0.000000   93.212181   \n",
       "\n",
       "          8         9         10   11        12  \n",
       "0  76.894203 -0.000061  0.888741  1.0 -0.431393  \n",
       "1  75.262108 -0.000061  0.034444  1.0 -0.938341  \n",
       "2  71.880363 -0.000061  0.435709  1.0 -0.853205  \n",
       "3  76.678391 -0.000061  0.280211  1.0 -0.626087  \n",
       "4  77.607994 -0.000061  0.371572  1.0 -0.596819  "
      ]
     },
     "execution_count": 14,
     "metadata": {},
     "output_type": "execute_result"
    }
   ],
   "source": [
    "df.head(5)"
   ]
  },
  {
   "cell_type": "code",
   "execution_count": 39,
   "metadata": {},
   "outputs": [
    {
     "data": {
      "text/plain": [
       "(          0          1          2          3          4          5   \\\n",
       " 0   1.000000  15.000000   3.020712   5.316703  12.918086  12.179511   \n",
       " 1  12.000000  13.272984   4.685246  11.715032   9.609150   0.000000   \n",
       " 2  11.338808  15.874330  11.260224  32.363228   0.594280  26.280678   \n",
       " 3  22.615940  57.122978  23.264250   0.000000  29.368170  18.555676   \n",
       " 4  46.995682  76.617928   0.000000  25.683878  17.816254  -0.000015   \n",
       " \n",
       "           6          7          8         9          10         11         12  \\\n",
       " 0   0.000000  86.908028  77.106018 -0.000061   0.853200  -0.190191  -0.485672   \n",
       " 1  91.951584  71.937782  -0.000061  0.919783   0.184927  -0.346122   2.000000   \n",
       " 2  78.183815  -0.000061   0.856524  0.084284  -0.509178   3.000000  28.000000   \n",
       " 3  -0.000061  -0.054617  -0.337457 -0.939755   2.000000  15.000000  12.179986   \n",
       " 4   0.936907   0.275960  -0.214595  2.000000  17.000000  34.233467  40.445515   \n",
       " \n",
       "            13  \n",
       " 0    1.000000  \n",
       " 1   32.000000  \n",
       " 2   23.690506  \n",
       " 3   17.681677  \n",
       " 4  146.403137  ,\n",
       " {'version': 1,\n",
       "  'maxmedia': 5,\n",
       "  'detnum': 3,\n",
       "  'colcount': 14,\n",
       "  'total_photon': 20000000,\n",
       "  'detected': 10817,\n",
       "  'saved_photon': 10817,\n",
       "  'unitmm': 0.25,\n",
       "  'seed_byte': 0,\n",
       "  'normalize': 160.0,\n",
       "  'respin': 1})"
      ]
     },
     "execution_count": 39,
     "metadata": {},
     "output_type": "execute_result"
    }
   ],
   "source": [
    "df, header = load_mch(\"output/quicktest/mcx_output/quicktest_700.mch\")\n",
    "df = pd.DataFrame(df)\n",
    "df.head(5), header"
   ]
  },
  {
   "cell_type": "markdown",
   "metadata": {},
   "source": [
    "## 測試train data"
   ]
  },
  {
   "cell_type": "code",
   "execution_count": 98,
   "metadata": {},
   "outputs": [],
   "source": [
    "ref = []"
   ]
  },
  {
   "cell_type": "code",
   "execution_count": 96,
   "metadata": {
    "scrolled": true
   },
   "outputs": [
    {
     "data": {
      "text/plain": [
       "(   idx  scatter         m0         m1         m2   m3   m4          x  \\\n",
       " 0  1.0   3744.0  34.579288  25.702003  18.105782  0.0  0.0  89.602051   \n",
       " 1  1.0   8050.0  39.408085  21.976049  46.538319  0.0  0.0  88.563774   \n",
       " 2  1.0   6563.0  52.658947  43.899536  31.186853  0.0  0.0  87.536385   \n",
       " 3  1.0   2022.0  56.093063  36.488575   2.802624  0.0  0.0  87.292313   \n",
       " 4  1.0    510.0  34.648933  10.621715   0.000000  0.0  0.0  85.999237   \n",
       " \n",
       "            y         z        dx        dy        dz  weight  \n",
       " 0  78.646362 -0.000061 -0.776454 -0.583919 -0.236976     1.0  \n",
       " 1  78.935432 -0.000061 -0.810775 -0.215861 -0.544102     1.0  \n",
       " 2  79.180534 -0.000061  0.052974  0.558874 -0.827559     1.0  \n",
       " 3  78.507118 -0.000061 -0.762700  0.039080 -0.645571     1.0  \n",
       " 4  75.137360 -0.000061  0.958361  0.208422 -0.195203     1.0  ,\n",
       " {'version': 1,\n",
       "  'maxmedia': 5,\n",
       "  'detnum': 3,\n",
       "  'colcount': 14,\n",
       "  'total_photon': 20000000,\n",
       "  'detected': 298,\n",
       "  'saved_photon': 298,\n",
       "  'unitmm': 0.25,\n",
       "  'seed_byte': 0,\n",
       "  'normalize': 160.0,\n",
       "  'respin': 1})"
      ]
     },
     "execution_count": 96,
     "metadata": {},
     "output_type": "execute_result"
    }
   ],
   "source": [
    "path = \"output/quicktest/mcx_output/quicktest_700.mch\"\n",
    "df, header = load_mch(path)\n",
    "df = pd.DataFrame(df)\n",
    "df.columns = [\"idx\", \"scatter\", \"m0\", \"m1\", \"m2\", \"m3\", \"m4\", \"x\", \"y\", \"z\", \"dx\", \"dy\", \"dz\", \"weight\"]\n",
    "df.head(5), header"
   ]
  },
  {
   "cell_type": "code",
   "execution_count": null,
   "metadata": {},
   "outputs": [],
   "source": []
  },
  {
   "cell_type": "code",
   "execution_count": 97,
   "metadata": {},
   "outputs": [
    {
     "data": {
      "text/plain": [
       "idx            1.322148\n",
       "scatter    46500.714765\n",
       "m0            36.754220\n",
       "m1            34.629887\n",
       "m2           290.234411\n",
       "m3            65.988644\n",
       "m4             0.044348\n",
       "x             94.570461\n",
       "y             75.019788\n",
       "z             -0.000061\n",
       "dx             0.076849\n",
       "dy            -0.011751\n",
       "dz            -0.676520\n",
       "weight         1.000000\n",
       "dtype: float64"
      ]
     },
     "execution_count": 97,
     "metadata": {},
     "output_type": "execute_result"
    }
   ],
   "source": [
    "df.mean()"
   ]
  },
  {
   "cell_type": "code",
   "execution_count": 94,
   "metadata": {},
   "outputs": [
    {
     "data": {
      "text/plain": [
       "[4.679070440690397e-06, 4.531349241910163e-06, 4.521452688607084e-06]"
      ]
     },
     "execution_count": 94,
     "metadata": {},
     "output_type": "execute_result"
    }
   ],
   "source": [
    "ref += [df.weight.sum()/2e7]\n",
    "ref"
   ]
  },
  {
   "cell_type": "code",
   "execution_count": 95,
   "metadata": {},
   "outputs": [
    {
     "data": {
      "text/plain": [
       "0.015747830369956757"
      ]
     },
     "execution_count": 95,
     "metadata": {},
     "output_type": "execute_result"
    }
   ],
   "source": [
    "np.std(ref)/np.mean(ref)\n"
   ]
  },
  {
   "cell_type": "code",
   "execution_count": 101,
   "metadata": {},
   "outputs": [
    {
     "data": {
      "text/plain": [
       "1.0007075047725566e-08"
      ]
     },
     "execution_count": 101,
     "metadata": {},
     "output_type": "execute_result"
    }
   ],
   "source": []
  },
  {
   "cell_type": "code",
   "execution_count": null,
   "metadata": {},
   "outputs": [],
   "source": []
  },
  {
   "cell_type": "code",
   "execution_count": 77,
   "metadata": {
    "scrolled": true
   },
   "outputs": [
    {
     "data": {
      "text/plain": [
       "(   idx  scatter        m0        m1         m2         m3   m4           x  \\\n",
       " 0  1.0      8.0  3.039516  4.656096  10.642343  12.835475  0.0   92.568016   \n",
       " 1  3.0     22.0  2.651176  3.734482   8.543200  35.546619  0.0  120.602921   \n",
       " 2  3.0     32.0  2.706901  3.789870   8.679573  31.952274  0.0  122.814690   \n",
       " 3  1.0     25.0  2.608977  3.652569  10.221845  28.403709  0.0   86.222160   \n",
       " 4  1.0     22.0  6.249242  8.744296  22.324293  18.669756  0.0   88.797058   \n",
       " \n",
       "            y         z        dx        dy        dz        weight  \n",
       " 0  70.733086 -0.000061  0.761081 -0.419436 -0.494803  2.608575e-04  \n",
       " 1  76.996780 -0.000061  0.623901 -0.099278 -0.775172  4.293349e-09  \n",
       " 2  73.009758 -0.000061  0.661678  0.277156 -0.696683  2.526674e-08  \n",
       " 3  72.524353 -0.000061  0.536594 -0.097880 -0.838145  1.307219e-07  \n",
       " 4  70.770370 -0.000061 -0.309392 -0.817741 -0.485361  2.114546e-06  ,\n",
       " {'version': 1,\n",
       "  'maxmedia': 5,\n",
       "  'detnum': 3,\n",
       "  'colcount': 14,\n",
       "  'total_photon': 20000000,\n",
       "  'detected': 10757,\n",
       "  'saved_photon': 10757,\n",
       "  'unitmm': 0.25,\n",
       "  'seed_byte': 0,\n",
       "  'normalize': 160.0,\n",
       "  'respin': 1})"
      ]
     },
     "execution_count": 77,
     "metadata": {},
     "output_type": "execute_result"
    }
   ],
   "source": [
    "path = \"output/quicktest/mcx_output/quicktest_700.mch\"\n",
    "df, header = load_mch(path)\n",
    "df = pd.DataFrame(df)\n",
    "df.columns = [\"idx\", \"scatter\", \"m0\", \"m1\", \"m2\", \"m3\", \"m4\", \"x\", \"y\", \"z\", \"dx\", \"dy\", \"dz\", \"weight\"]\n",
    "df.head(5), header"
   ]
  },
  {
   "cell_type": "code",
   "execution_count": 78,
   "metadata": {
    "scrolled": true
   },
   "outputs": [
    {
     "data": {
      "text/plain": [
       "[6.488853908851002e-07,\n",
       " 6.551558936683211e-07,\n",
       " 6.997272688091169e-07,\n",
       " 6.622988582822998e-07,\n",
       " 6.938463238541156e-07,\n",
       " 6.744012558850267e-07]"
      ]
     },
     "execution_count": 78,
     "metadata": {},
     "output_type": "execute_result"
    }
   ],
   "source": [
    "ref += [df.weight.sum()/2e7]\n",
    "ref"
   ]
  },
  {
   "cell_type": "code",
   "execution_count": 79,
   "metadata": {},
   "outputs": [
    {
     "data": {
      "text/plain": [
       "0.028238383952221714"
      ]
     },
     "execution_count": 79,
     "metadata": {},
     "output_type": "execute_result"
    }
   ],
   "source": [
    "np.std(ref)/np.mean(ref)\n"
   ]
  },
  {
   "cell_type": "code",
   "execution_count": 84,
   "metadata": {},
   "outputs": [
    {
     "data": {
      "text/plain": [
       "array([2.60858347e-04, 4.29336262e-09, 2.52668771e-08, ...,\n",
       "       6.19157760e-10, 7.21129246e-08, 5.01056011e-09])"
      ]
     },
     "execution_count": 84,
     "metadata": {},
     "output_type": "execute_result"
    }
   ],
   "source": [
    "mua = np.array([0.1, 0.1, 0.1, 0.5, 0])\n",
    "pl = df.iloc[:, 2:7].values\n",
    "np.exp(np.matmul(-pl, mua))"
   ]
  },
  {
   "cell_type": "code",
   "execution_count": 35,
   "metadata": {},
   "outputs": [],
   "source": [
    "from struct import unpack\n",
    "\n",
    "f = open(path, 'rb')\n",
    "mch_data = []\n",
    "header = []\n",
    "photon_seed = []\n",
    "# while True:\n",
    "# the first 4 byte in a mch file is always 'MCXH'\n",
    "buffer_ = f.read(4)\n",
    "if not buffer_:\n",
    "    print('break')\n",
    "elif buffer_ != b'MCXH':\n",
    "    raise Exception(\"It might not be a mch file!\")\n",
    "\n",
    "version = unpack('i', f.read(4))[0]\n",
    "maxmedia = unpack('i', f.read(4))[0]\n",
    "detnum = unpack('i', f.read(4))[0]\n",
    "colcount = unpack('i', f.read(4))[0]\n",
    "total_photon = unpack('i', f.read(4))[0]\n",
    "detected = unpack('i', f.read(4))[0]\n",
    "saved_photon = unpack('i', f.read(4))[0]\n",
    "unitmm = unpack('f', f.read(4))[0]\n",
    "seed_byte = unpack('i', f.read(4))[0]\n",
    "normalize = unpack('f', f.read(4))[0]\n",
    "respin = unpack('i', f.read(4))[0]\n",
    "junk = unpack('4i', f.read(4*4))\n",
    "\n",
    "        "
   ]
  },
  {
   "cell_type": "code",
   "execution_count": 38,
   "metadata": {},
   "outputs": [
    {
     "data": {
      "text/plain": [
       "(1, 5, 15)"
      ]
     },
     "execution_count": 38,
     "metadata": {},
     "output_type": "execute_result"
    }
   ],
   "source": [
    "version, maxmedia, colcount"
   ]
  },
  {
   "cell_type": "code",
   "execution_count": null,
   "metadata": {},
   "outputs": [],
   "source": [
    "        # data = unpack('%df' % (colcount), f.read(4*colcount))\n",
    "        data = unpack('%df' % (colcount*saved_photon), f.read(4*colcount*saved_photon))\n",
    "        data = np.asarray(data).reshape(saved_photon, colcount)\n",
    "        # number of vortex -> actual length\n",
    "        data[:, 2:1+maxmedia] = data[:, 2:1+maxmedia] * unitmm\n",
    "        mch_data.append(data)\n",
    "\n",
    "        # if \"save photon seed\" is True\n",
    "        if seed_byte > 0:\n",
    "\n",
    "            seeds = unpack('%dB' % (saved_photon*seed_byte), f.read(saved_photon*seed_byte))\n",
    "            photon_seed.append(np.asarray(seeds).reshape((seed_byte,saved_photon), order='F'))\n",
    "\n",
    "        if respin > 1:\n",
    "            total_photon *= respin\n",
    "\n",
    "        header = {\"version\": version,\n",
    "                  \"maxmedia\": maxmedia,\n",
    "                  \"detnum\": detnum,\n",
    "                  \"colcount\": colcount,\n",
    "                  \"total_photon\": total_photon,\n",
    "                  \"detected\": detected,\n",
    "                  \"saved_photon\": saved_photon,\n",
    "                  \"unitmm\": unitmm,\n",
    "                  \"seed_byte\": seed_byte,\n",
    "                  \"normalize\": normalize,\n",
    "                  \"respin\": respin\n",
    "                  }\n",
    "\n",
    "finally:\n",
    "    f.close()\n",
    "\n",
    "mch_data = np.asarray(mch_data).squeeze()\n",
    "\n",
    "if seed_byte > 0:\n",
    "    photon_seed = np.asarray(photon_seed).transpose((0,2,1)).squeeze()\n",
    "    return mch_data, header, photon_seed\n",
    "else:\n",
    "    return mch_data, header"
   ]
  }
 ],
 "metadata": {
  "kernelspec": {
   "display_name": "Python 3",
   "language": "python",
   "name": "python3"
  },
  "language_info": {
   "codemirror_mode": {
    "name": "ipython",
    "version": 3
   },
   "file_extension": ".py",
   "mimetype": "text/x-python",
   "name": "python",
   "nbconvert_exporter": "python",
   "pygments_lexer": "ipython3",
   "version": "3.7.3"
  }
 },
 "nbformat": 4,
 "nbformat_minor": 2
}
