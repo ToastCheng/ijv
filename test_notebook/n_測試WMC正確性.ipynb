{
 "cells": [
  {
   "cell_type": "code",
   "execution_count": 139,
   "metadata": {},
   "outputs": [],
   "source": [
    "from utils import load_mch\n",
    "import pandas as pd \n",
    "import numpy as np \n",
    "import matplotlib.pyplot as plt \n",
    "\n",
    "%matplotlib inline"
   ]
  },
  {
   "cell_type": "markdown",
   "metadata": {},
   "source": [
    "## 測試train data"
   ]
  },
  {
   "cell_type": "code",
   "execution_count": 224,
   "metadata": {},
   "outputs": [
    {
     "name": "stdout",
     "output_type": "stream",
     "text": [
      "white:  7.271243175741935e-06\n",
      "native mcx:  0.02217775\n"
     ]
    }
   ],
   "source": [
    "path = \"output/quicktest/mcx_output/quicktest_700.mch\"\n",
    "df, header = load_mch(path)\n",
    "df = pd.DataFrame(df)\n",
    "df.columns = [\"idx\", \"scatter\", \"m0\", \"m1\", \"m2\", \"m3\", \"m4\", \"x\", \"y\", \"z\", \"dx\", \"dy\", \"dz\", \"weight\"]\n",
    "df.head(5), header\n",
    "# dff += [df]\n",
    "# hh  += [header]\n",
    "mua = np.array([0.07, 0.1, 0.2, 50, 20])\n",
    "pl = df[df.idx==1].iloc[:, 2:7].values\n",
    "white = np.exp(np.matmul(-pl, mua)).sum()/2e7\n",
    "native = df[df.idx==1].weight.sum()/2e7\n",
    "print(\"white: \", white)\n",
    "print(\"native mcx: \", native)"
   ]
  },
  {
   "cell_type": "code",
   "execution_count": 225,
   "metadata": {},
   "outputs": [
    {
     "data": {
      "text/plain": [
       "{'version': 1,\n",
       " 'maxmedia': 5,\n",
       " 'detnum': 3,\n",
       " 'colcount': 14,\n",
       " 'total_photon': 2000000000,\n",
       " 'detected': 923719,\n",
       " 'saved_photon': 923719,\n",
       " 'unitmm': 0.25,\n",
       " 'seed_byte': 0,\n",
       " 'normalize': 1.600000023841858,\n",
       " 'respin': 1}"
      ]
     },
     "execution_count": 225,
     "metadata": {},
     "output_type": "execute_result"
    }
   ],
   "source": [
    "header"
   ]
  },
  {
   "cell_type": "code",
   "execution_count": null,
   "metadata": {},
   "outputs": [],
   "source": []
  },
  {
   "cell_type": "code",
   "execution_count": 216,
   "metadata": {},
   "outputs": [],
   "source": [
    "ref = []"
   ]
  },
  {
   "cell_type": "code",
   "execution_count": 217,
   "metadata": {
    "scrolled": false
   },
   "outputs": [
    {
     "name": "stdout",
     "output_type": "stream",
     "text": [
      "white:  7.344244958396303e-08\n",
      "native mcx:  0.00877595\n",
      "white:  6.175444304896102e-08\n",
      "native mcx:  0.00871055\n",
      "white:  6.910844210204606e-08\n",
      "native mcx:  0.00875035\n",
      "white:  5.96792073085182e-08\n",
      "native mcx:  0.0087885\n",
      "white:  5.995214317404781e-08\n",
      "native mcx:  0.00873685\n",
      "white:  5.188347362727416e-08\n",
      "native mcx:  0.00875045\n",
      "white:  4.934898692193973e-08\n",
      "native mcx:  0.0087325\n",
      "white:  5.322054756926757e-08\n",
      "native mcx:  0.008774\n",
      "white:  7.360980808197688e-08\n",
      "native mcx:  0.00875765\n",
      "white:  4.7246089530481836e-08\n",
      "native mcx:  0.00878115\n"
     ]
    }
   ],
   "source": [
    "dff = []\n",
    "hh = []\n",
    "for i in range(10):\n",
    "    os.system(\"python run.py\")\n",
    "    path = \"output/quicktest/mcx_output/quicktest_700.mch\"\n",
    "    df, header = load_mch(path)\n",
    "    df = pd.DataFrame(df)\n",
    "    df.columns = [\"idx\", \"scatter\", \"m0\", \"m1\", \"m2\", \"m3\", \"m4\", \"x\", \"y\", \"z\", \"dx\", \"dy\", \"dz\", \"weight\"]\n",
    "    df.head(5), header\n",
    "    dff += [df]\n",
    "    hh  += [header]\n",
    "    mua = np.array([0.07, 0.1, 0.2, 50, 20])\n",
    "    pl = df[df.idx==1].iloc[:, 2:7].values\n",
    "    white = np.exp(np.matmul(-pl, mua)).sum()/2e7\n",
    "    native = df[df.idx==1].weight.sum()/2e7\n",
    "    print(\"white: \", white)\n",
    "    print(\"native mcx: \", native)\n",
    "    ref += [np.exp(np.matmul(-pl, mua)).sum()/2e7]\n",
    "    ref"
   ]
  },
  {
   "cell_type": "code",
   "execution_count": 223,
   "metadata": {},
   "outputs": [
    {
     "data": {
      "text/plain": [
       "0.1529413401184236"
      ]
     },
     "execution_count": 223,
     "metadata": {},
     "output_type": "execute_result"
    }
   ],
   "source": [
    "np.std(ref)/np.mean(ref)"
   ]
  },
  {
   "cell_type": "code",
   "execution_count": 220,
   "metadata": {},
   "outputs": [
    {
     "name": "stdout",
     "output_type": "stream",
     "text": [
      "326355\n",
      "325204\n",
      "325803\n",
      "326501\n",
      "324730\n",
      "325793\n",
      "324850\n",
      "326183\n",
      "325757\n",
      "326756\n"
     ]
    }
   ],
   "source": [
    "for i in range(10):\n",
    "    print(hh[i][\"detected\"])"
   ]
  },
  {
   "cell_type": "code",
   "execution_count": 204,
   "metadata": {},
   "outputs": [
    {
     "name": "stdout",
     "output_type": "stream",
     "text": [
      "white:  1.960367777670524e-09\n",
      "native mcx:  8.325e-05\n"
     ]
    },
    {
     "data": {
      "text/plain": [
       "[3.016372140071212e-09,\n",
       " 2.5375742505091124e-09,\n",
       " 2.3078853815249952e-09,\n",
       " 3.088972735724363e-09,\n",
       " 2.1559938775138227e-09,\n",
       " 2.113881758146279e-09,\n",
       " 3.353496493582495e-09,\n",
       " 3.0611018443411886e-09,\n",
       " 2.158960672448357e-09,\n",
       " 1.960367777670524e-09]"
      ]
     },
     "execution_count": 204,
     "metadata": {},
     "output_type": "execute_result"
    }
   ],
   "source": [
    "mua = np.array([0.1, 0.1, 0.1, 0.5, 0])\n",
    "pl = df[df.idx==1].iloc[:, 2:7].values\n",
    "white = np.exp(np.matmul(-pl, mua)).sum()/2e7\n",
    "native = df[df.idx==1].weight.sum()/2e7\n",
    "print(\"white: \", white)\n",
    "print(\"native mcx: \", native)\n",
    "ref += [np.exp(np.matmul(-pl, mua)).sum()/2e7]\n",
    "ref"
   ]
  },
  {
   "cell_type": "code",
   "execution_count": 205,
   "metadata": {},
   "outputs": [
    {
     "data": {
      "text/plain": [
       "0.18674355302496026"
      ]
     },
     "execution_count": 205,
     "metadata": {},
     "output_type": "execute_result"
    }
   ],
   "source": [
    "np.std(ref)/np.mean(ref)\n"
   ]
  },
  {
   "cell_type": "code",
   "execution_count": 206,
   "metadata": {},
   "outputs": [],
   "source": [
    "r2e7 = [3.016372140071212e-09,\n",
    " 2.5375742505091124e-09,\n",
    " 2.3078853815249952e-09,\n",
    " 3.088972735724363e-09,\n",
    " 2.1559938775138227e-09,\n",
    " 2.113881758146279e-09,\n",
    " 3.353496493582495e-09,\n",
    " 3.0611018443411886e-09,\n",
    " 2.158960672448357e-09,\n",
    " 1.960367777670524e-09]\n",
    "\n"
   ]
  },
  {
   "cell_type": "code",
   "execution_count": 126,
   "metadata": {},
   "outputs": [],
   "source": [
    "from MySQLdb import connect\n",
    "import os \n",
    "con = connect(\n",
    "    host=\"140.112.174.26\",\n",
    "    user=\"md703\",\n",
    "    passwd=\"MD703\",\n",
    "    db=\"ijv\"\n",
    ")"
   ]
  },
  {
   "cell_type": "code",
   "execution_count": 130,
   "metadata": {},
   "outputs": [
    {
     "data": {
      "text/html": [
       "<div>\n",
       "<style scoped>\n",
       "    .dataframe tbody tr th:only-of-type {\n",
       "        vertical-align: middle;\n",
       "    }\n",
       "\n",
       "    .dataframe tbody tr th {\n",
       "        vertical-align: top;\n",
       "    }\n",
       "\n",
       "    .dataframe thead th {\n",
       "        text-align: right;\n",
       "    }\n",
       "</style>\n",
       "<table border=\"1\" class=\"dataframe\">\n",
       "  <thead>\n",
       "    <tr style=\"text-align: right;\">\n",
       "      <th></th>\n",
       "      <th>skin_mus</th>\n",
       "      <th>fat_mus</th>\n",
       "      <th>muscle_mus</th>\n",
       "      <th>ijv_mus</th>\n",
       "      <th>cca_mus</th>\n",
       "    </tr>\n",
       "  </thead>\n",
       "  <tbody>\n",
       "    <tr>\n",
       "      <th>0</th>\n",
       "      <td>5.18862</td>\n",
       "      <td>12.9606</td>\n",
       "      <td>7.96249</td>\n",
       "      <td>9.13444</td>\n",
       "      <td>21.6706</td>\n",
       "    </tr>\n",
       "  </tbody>\n",
       "</table>\n",
       "</div>"
      ],
      "text/plain": [
       "   skin_mus  fat_mus  muscle_mus  ijv_mus  cca_mus\n",
       "0   5.18862  12.9606     7.96249  9.13444  21.6706"
      ]
     },
     "execution_count": 130,
     "metadata": {},
     "output_type": "execute_result"
    }
   ],
   "source": [
    "ijv = pd.read_sql(\"SELECT DISTINCT skin_mus, fat_mus, muscle_mus, ijv_mus, cca_mus FROM ijv_ann_2\", con=con)\n",
    "ijv.head(1)"
   ]
  },
  {
   "cell_type": "code",
   "execution_count": 142,
   "metadata": {},
   "outputs": [
    {
     "data": {
      "image/png": "[encoded data removed]",
      "text/plain": [
       "<Figure size 432x288 with 1 Axes>"
      ]
     },
     "metadata": {
      "needs_background": "light"
     },
     "output_type": "display_data"
    },
    {
     "data": {
      "image/png": "[encoded data removed]",
      "text/plain": [
       "<Figure size 432x288 with 1 Axes>"
      ]
     },
     "metadata": {
      "needs_background": "light"
     },
     "output_type": "display_data"
    },
    {
     "data": {
      "image/png": "[encoded data removed]",
      "text/plain": [
       "<Figure size 432x288 with 1 Axes>"
      ]
     },
     "metadata": {
      "needs_background": "light"
     },
     "output_type": "display_data"
    },
    {
     "data": {
      "image/png": "[encoded data removed]",
      "text/plain": [
       "<Figure size 432x288 with 1 Axes>"
      ]
     },
     "metadata": {
      "needs_background": "light"
     },
     "output_type": "display_data"
    }
   ],
   "source": [
    "b = 20\n",
    "plt.hist(ijv.skin_mus, bins=b)\n",
    "plt.show()\n",
    "plt.hist(ijv.fat_mus, bins=b)\n",
    "plt.show()\n",
    "plt.hist(ijv.muscle_mus, bins=b)\n",
    "plt.show()\n",
    "plt.hist(ijv.ijv_mus, bins=b)\n",
    "plt.show()\n"
   ]
  },
  {
   "cell_type": "code",
   "execution_count": 211,
   "metadata": {},
   "outputs": [],
   "source": [
    "ijv_abs = pd.read_sql(\"SELECT DISTINCT skin_mua, fat_mua, muscle_mua, ijv_mua, cca_mua FROM ijv_ann_2\", con=con)\n"
   ]
  },
  {
   "cell_type": "code",
   "execution_count": 212,
   "metadata": {
    "scrolled": true
   },
   "outputs": [
    {
     "data": {
      "image/png": "[encoded data removed]",
      "text/plain": [
       "<Figure size 432x288 with 1 Axes>"
      ]
     },
     "metadata": {
      "needs_background": "light"
     },
     "output_type": "display_data"
    },
    {
     "data": {
      "image/png": "[encoded data removed]",
      "text/plain": [
       "<Figure size 432x288 with 1 Axes>"
      ]
     },
     "metadata": {
      "needs_background": "light"
     },
     "output_type": "display_data"
    },
    {
     "data": {
      "image/png": "[encoded data removed]",
      "text/plain": [
       "<Figure size 432x288 with 1 Axes>"
      ]
     },
     "metadata": {
      "needs_background": "light"
     },
     "output_type": "display_data"
    },
    {
     "data": {
      "image/png": "[encoded data removed]",
      "text/plain": [
       "<Figure size 432x288 with 1 Axes>"
      ]
     },
     "metadata": {
      "needs_background": "light"
     },
     "output_type": "display_data"
    }
   ],
   "source": [
    "b = 20\n",
    "plt.hist(ijv_abs.skin_mua, bins=b)\n",
    "plt.show()\n",
    "plt.hist(ijv_abs.fat_mua, bins=b)\n",
    "plt.show()\n",
    "plt.hist(ijv_abs.muscle_mua, bins=b)\n",
    "plt.show()\n",
    "plt.hist(ijv_abs.ijv_mua, bins=b)\n",
    "plt.show()"
   ]
  },
  {
   "cell_type": "code",
   "execution_count": 226,
   "metadata": {},
   "outputs": [],
   "source": []
  },
  {
   "cell_type": "code",
   "execution_count": 254,
   "metadata": {},
   "outputs": [],
   "source": []
  },
  {
   "cell_type": "code",
   "execution_count": 256,
   "metadata": {},
   "outputs": [
    {
     "data": {
      "text/plain": [
       "20804.37927512113"
      ]
     },
     "execution_count": 256,
     "metadata": {},
     "output_type": "execute_result"
    }
   ],
   "source": [
    "d.mean()"
   ]
  },
  {
   "cell_type": "code",
   "execution_count": 257,
   "metadata": {},
   "outputs": [
    {
     "data": {
      "text/plain": [
       "(103669432.0, 0.0)"
      ]
     },
     "execution_count": 257,
     "metadata": {},
     "output_type": "execute_result"
    }
   ],
   "source": [
    "d.max(), d.min()"
   ]
  },
  {
   "cell_type": "code",
   "execution_count": 258,
   "metadata": {},
   "outputs": [],
   "source": []
  },
  {
   "cell_type": "code",
   "execution_count": 260,
   "metadata": {},
   "outputs": [
    {
     "data": {
      "text/plain": [
       "(0.0, 0.0)"
      ]
     },
     "execution_count": 260,
     "metadata": {},
     "output_type": "execute_result"
    }
   ],
   "source": [
    "dr.max(), dr.min()"
   ]
  },
  {
   "cell_type": "code",
   "execution_count": null,
   "metadata": {},
   "outputs": [],
   "source": []
  }
 ],
 "metadata": {
  "kernelspec": {
   "display_name": "Python 3",
   "language": "python",
   "name": "python3"
  },
  "language_info": {
   "codemirror_mode": {
    "name": "ipython",
    "version": 3
   },
   "file_extension": ".py",
   "mimetype": "text/x-python",
   "name": "python",
   "nbconvert_exporter": "python",
   "pygments_lexer": "ipython3",
   "version": "3.7.3"
  }
 },
 "nbformat": 4,
 "nbformat_minor": 2
}
