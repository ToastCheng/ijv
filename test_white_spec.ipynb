{
 "cells": [
  {
   "cell_type": "code",
   "execution_count": 1,
   "metadata": {},
   "outputs": [],
   "source": [
    "from utils.mch import MCHHandler\n",
    "import numpy as np \n",
    "import pandas as pd\n",
    "import matplotlib.pyplot as plt\n",
    "\n",
    "%matplotlib inline"
   ]
  },
  {
   "cell_type": "code",
   "execution_count": 2,
   "metadata": {},
   "outputs": [],
   "source": [
    "wl = [i for i in range(650, 1001, 10)]\n",
    "\n",
    "mh = MCHHandler()\n",
    "\n",
    "mh.load_config(\"configs/muscle.json\")\n",
    "\n",
    "def calculate_mua(b, s, w, f, m, oxy, deoxy, water, fat, melanin):\n",
    "    mua = b * (s * oxy + (1-s) * deoxy) + w * water + f * fat + m * melanin\n",
    "    return mua\n",
    "\n",
    "mua = pd.read_csv(\"input/coefficients.csv\")\n",
    "oxy = mua['oxy'].values\n",
    "deoxy = mua['deoxy'].values\n",
    "water = mua['water'].values\n",
    "collagen = mua['collagen'].values\n",
    "fat = mua['fat'].values\n",
    "melanin = mua['mel'].values\n",
    "wavelength = mua['wavelength'].values\n",
    "\n",
    "# interpolation\n",
    "oxy = np.interp(wl, wavelength, oxy)\n",
    "deoxy = np.interp(wl, wavelength, deoxy)\n",
    "water = np.interp(wl, wavelength, water)\n",
    "collagen = np.interp(wl, wavelength, collagen)\n",
    "fat = np.interp(wl, wavelength, fat)\n",
    "melanin = np.interp(wl, wavelength, melanin)\n",
    "\n",
    "# turn the unit 1/cm --> 1/mm\n",
    "oxy *= 0.1\n",
    "deoxy *= 0.1\n",
    "water *= 0.1\n",
    "collagen *= 0.1\n",
    "fat *= 0.1\n",
    "melanin *= 0.1"
   ]
  },
  {
   "cell_type": "code",
   "execution_count": 25,
   "metadata": {},
   "outputs": [],
   "source": [
    "\n",
    "args = {\n",
    "    \"skin\":{\n",
    "        \"blood_volume_fraction\": 0.5,\n",
    "        \"ScvO2\": 0.7,\n",
    "        \"water_volume\": 0.49,\n",
    "        \"fat_volume\": 0,\n",
    "        \"melanin_volume\": 0.01,\n",
    "    },\n",
    "\n",
    "    \"fat\":{\n",
    "        \"blood_volume_fraction\": 0,\n",
    "        \"ScvO2\": 0,\n",
    "        \"water_volume\": 0,\n",
    "        \"fat_volume\": 1,\n",
    "        \"melanin_volume\": 0,\n",
    "    },\n",
    "\n",
    "    \"muscle\":{\n",
    "        \"blood_volume_fraction\": 0.05,\n",
    "        \"ScvO2\": 0.80,\n",
    "        \"water_volume\": 0.75,\n",
    "        \"fat_volume\": 0,\n",
    "        \"melanin_volume\": 0,\n",
    "    }\n",
    "}\n",
    "\n",
    "spec, ratio = mh.calculate_reflectance_white(args)\n",
    "for t in [\"skin\", \"fat\", \"muscle\"][:0]:\n",
    "    mua = calculate_mua(\n",
    "        args[t][\"blood_volume_fraction\"],\n",
    "        args[t][\"ScvO2\"],\n",
    "        args[t][\"water_volume\"],\n",
    "        args[t][\"fat_volume\"],\n",
    "        args[t][\"melanin_volume\"],\n",
    "        oxy, \n",
    "        deoxy, \n",
    "        water, \n",
    "        fat, \n",
    "        melanin\n",
    "    )\n",
    "\n",
    "plt.plot(wl, mua, label=\"blood: %f\" % i)\n",
    "plt.xlabel(\"wavelength [nm]\")\n",
    "plt.ylabel(\"mua [1/mm]\")\n",
    "plt.grid()\n",
    "plt.legend()\n",
    "plt.show()\n",
    "\n",
    "for i in range(5):\n",
    "    plt.plot(wl, spec[i], label=\"%d\" % i)\n",
    "plt.grid()\n",
    "plt.xlabel(\"wavelength [nm]\")\n",
    "plt.ylabel(\"reflectance [-]\")\n",
    "plt.legend()\n",
    "plt.show()\n",
    "\n"
   ]
  },
  {
   "cell_type": "code",
   "execution_count": 34,
   "metadata": {},
   "outputs": [],
   "source": [
    "spec = []\n",
    "mua = []\n",
    "for i in np.arange(0, 1, 0.1):\n",
    "    args = {\n",
    "        \"skin\":{\n",
    "            \"blood_volume_fraction\": i,\n",
    "            \"ScvO2\": 0.7,\n",
    "            \"water_volume\": 1 - i - 0.01,\n",
    "            \"fat_volume\": 0,\n",
    "            \"melanin_volume\": 0.01,\n",
    "        },\n",
    "\n",
    "        \"fat\":{\n",
    "            \"blood_volume_fraction\": 0,\n",
    "            \"ScvO2\": 0,\n",
    "            \"water_volume\": 0,\n",
    "            \"fat_volume\": 1,\n",
    "            \"melanin_volume\": 0,\n",
    "        },\n",
    "\n",
    "        \"muscle\":{\n",
    "            \"blood_volume_fraction\": 0.05,\n",
    "            \"ScvO2\": 0.80,\n",
    "            \"water_volume\": 0.75,\n",
    "            \"fat_volume\": 0,\n",
    "            \"melanin_volume\": 0,\n",
    "        }\n",
    "    }\n",
    "\n",
    "    s, ratio = mh.calculate_reflectance_white(args)\n",
    "    spec.append(s)\n",
    "    for t in [\"skin\", \"fat\", \"muscle\"][:1]:\n",
    "        m = calculate_mua(\n",
    "            args[t][\"blood_volume_fraction\"],\n",
    "            args[t][\"ScvO2\"],\n",
    "            args[t][\"water_volume\"],\n",
    "            args[t][\"fat_volume\"],\n",
    "            args[t][\"melanin_volume\"],\n",
    "            oxy, \n",
    "            deoxy, \n",
    "            water, \n",
    "            fat, \n",
    "            melanin\n",
    "        )\n",
    "        mua.append(m)"
   ]
  },
  {
   "cell_type": "code",
   "execution_count": 46,
   "metadata": {},
   "outputs": [
    {
     "data": {
      "text/plain": [
       "<Figure size 720x576 with 0 Axes>"
      ]
     },
     "metadata": {},
     "output_type": "display_data"
    },
    {
     "data": {
      "text/plain": [
       "<Figure size 720x576 with 0 Axes>"
      ]
     },
     "metadata": {},
     "output_type": "display_data"
    }
   ],
   "source": [
    "plt.figure(figsize=(10, 8))\n",
    "for idx, m in enumerate(mua):\n",
    "    plt.plot(wl, m, label=\"blood: %.1f\" % (idx*0.1))\n",
    "plt.xlabel(\"wavelength [nm]\")\n",
    "plt.ylabel(\"mua [1/mm]\")\n",
    "plt.grid()\n",
    "plt.legend()\n",
    "plt.savefig(\"skin_blood_mua.png\")\n",
    "plt.clf()\n",
    "\n",
    "plt.figure(figsize=(10, 8))\n",
    "for idx, s in enumerate(spec):\n",
    "    for i in range(5):\n",
    "        if i == 0:\n",
    "            plt.plot(wl, s[i], color=\"C%d\" % idx, label=\"blood: %.1f\" % (idx*0.1))\n",
    "        else:\n",
    "            plt.plot(wl, s[i], color=\"C%d\" % idx)\n",
    "plt.grid()\n",
    "plt.title(\"skin\")\n",
    "plt.xlabel(\"wavelength [nm]\")\n",
    "plt.ylabel(\"reflectance [-]\")\n",
    "plt.legend()\n",
    "plt.savefig(\"skin_blood_spec.png\")\n",
    "plt.clf()\n"
   ]
  },
  {
   "cell_type": "code",
   "execution_count": 47,
   "metadata": {},
   "outputs": [],
   "source": [
    "spec2 = []\n",
    "mua2 = []\n",
    "for i in np.arange(0, 1, 0.1):\n",
    "    args = {\n",
    "        \"skin\":{\n",
    "            \"blood_volume_fraction\": 0.5,\n",
    "            \"ScvO2\": i,\n",
    "            \"water_volume\": 0.49,\n",
    "            \"fat_volume\": 0,\n",
    "            \"melanin_volume\": 0.01,\n",
    "        },\n",
    "\n",
    "        \"fat\":{\n",
    "            \"blood_volume_fraction\": 0,\n",
    "            \"ScvO2\": 0,\n",
    "            \"water_volume\": 0,\n",
    "            \"fat_volume\": 1,\n",
    "            \"melanin_volume\": 0,\n",
    "        },\n",
    "\n",
    "        \"muscle\":{\n",
    "            \"blood_volume_fraction\": 0.05,\n",
    "            \"ScvO2\": 0.80,\n",
    "            \"water_volume\": 0.75,\n",
    "        }\n",
    "    }\n",
    "\n",
    "    s, ratio = mh.calculate_reflectance_white(args)\n",
    "    spec2.append(s)\n",
    "    for t in [\"skin\", \"fat\", \"muscle\"][:1]:\n",
    "        m = calculate_mua(\n",
    "            args[t][\"blood_volume_fraction\"],\n",
    "            args[t][\"ScvO2\"],\n",
    "            args[t][\"water_volume\"],\n",
    "            args[t][\"fat_volume\"],\n",
    "            args[t][\"melanin_volume\"],\n",
    "            oxy, \n",
    "            deoxy, \n",
    "            water, \n",
    "            fat, \n",
    "            melanin\n",
    "        )\n",
    "        mua2.append(m)"
   ]
  },
  {
   "cell_type": "code",
   "execution_count": 51,
   "metadata": {},
   "outputs": [
    {
     "data": {
      "text/plain": [
       "<Figure size 720x576 with 0 Axes>"
      ]
     },
     "metadata": {},
     "output_type": "display_data"
    },
    {
     "data": {
      "text/plain": [
       "<Figure size 720x576 with 0 Axes>"
      ]
     },
     "metadata": {},
     "output_type": "display_data"
    }
   ],
   "source": [
    "plt.figure(figsize=(10, 8))\n",
    "for idx, m in enumerate(mua2):\n",
    "    plt.plot(wl, m, label=\"scv: %.1f\" % (idx*0.1))\n",
    "plt.xlabel(\"wavelength [nm]\")\n",
    "plt.ylabel(\"mua [1/mm]\")\n",
    "plt.grid()\n",
    "plt.legend()\n",
    "plt.savefig(\"skin_scv_mua.png\")\n",
    "plt.clf()\n",
    "\n",
    "plt.figure(figsize=(10, 8))\n",
    "for idx, s in enumerate(spec2):\n",
    "    for i in range(5):\n",
    "        if i == 0:\n",
    "            plt.plot(wl, s[i], color=\"C%d\" % idx, label=\"scv: %.1f\" % (idx*0.1))\n",
    "        else:\n",
    "            plt.plot(wl, s[i], color=\"C%d\" % idx)\n",
    "plt.grid()\n",
    "plt.title(\"skin\")\n",
    "plt.xlabel(\"wavelength [nm]\")\n",
    "plt.ylabel(\"reflectance [-]\")\n",
    "plt.legend()\n",
    "plt.savefig(\"skin_scv_spec.png\")\n",
    "plt.clf()\n"
   ]
  },
  {
   "cell_type": "code",
   "execution_count": 43,
   "metadata": {},
   "outputs": [],
   "source": [
    "def calculate_mua_muscle(b, s, w, oxy, deoxy, water, collagen):\n",
    "    mua = w * water + (1-w-b) * collagen + b * (s * oxy + (1-s) * deoxy)\n",
    "\n",
    "    return mua "
   ]
  },
  {
   "cell_type": "code",
   "execution_count": 44,
   "metadata": {},
   "outputs": [],
   "source": [
    "spec3 = []\n",
    "mua3 = []\n",
    "for i in np.arange(0.5, 0.8, 0.05):\n",
    "    args = {\n",
    "        \"skin\":{\n",
    "            \"blood_volume_fraction\": 0.5,\n",
    "            \"ScvO2\": 0.7,\n",
    "            \"water_volume\": 0.49,\n",
    "            \"fat_volume\": 0,\n",
    "            \"melanin_volume\": 0.01,\n",
    "        },\n",
    "\n",
    "        \"fat\":{\n",
    "            \"blood_volume_fraction\": 0,\n",
    "            \"ScvO2\": 0,\n",
    "            \"water_volume\": 0,\n",
    "            \"fat_volume\": 1,\n",
    "            \"melanin_volume\": 0,\n",
    "        },\n",
    "\n",
    "        \"muscle\":{\n",
    "            \"blood_volume_fraction\": 0.05,\n",
    "            \"ScvO2\": 0.80,\n",
    "            \"water_volume\": i,\n",
    "            \"fat_volume\": 0,\n",
    "            \"melanin_volume\": 0,\n",
    "        }\n",
    "    }\n",
    "\n",
    "    s, ratio = mh.calculate_reflectance_white(args)\n",
    "    spec3.append(s)\n",
    "    for t in [\"skin\", \"fat\", \"muscle\"][-1:]:\n",
    "        m = calculate_mua_muscle(\n",
    "            args[t][\"blood_volume_fraction\"],\n",
    "            args[t][\"ScvO2\"],\n",
    "            args[t][\"water_volume\"],\n",
    "            oxy, \n",
    "            deoxy, \n",
    "            water, \n",
    "            collagen\n",
    "        )\n",
    "        mua3.append(m)"
   ]
  },
  {
   "cell_type": "code",
   "execution_count": 50,
   "metadata": {},
   "outputs": [
    {
     "data": {
      "text/plain": [
       "<Figure size 720x576 with 0 Axes>"
      ]
     },
     "metadata": {},
     "output_type": "display_data"
    },
    {
     "data": {
      "text/plain": [
       "<Figure size 720x576 with 0 Axes>"
      ]
     },
     "metadata": {},
     "output_type": "display_data"
    }
   ],
   "source": [
    "plt.figure(figsize=(10, 8))\n",
    "for idx, m in enumerate(mua3):\n",
    "    plt.plot(wl, m, label=\"water: %.1f\" % (idx*0.1))\n",
    "plt.xlabel(\"wavelength [nm]\")\n",
    "plt.ylabel(\"mua [1/mm]\")\n",
    "plt.grid()\n",
    "plt.legend()\n",
    "plt.savefig(\"muscle_water_mua.png\")\n",
    "plt.clf()\n",
    "\n",
    "plt.figure(figsize=(10, 8))\n",
    "for idx, s in enumerate(spec3):\n",
    "    for i in range(5):\n",
    "        if i == 0:\n",
    "            plt.plot(wl, s[i], color=\"C%d\" % idx, label=\"water: %.1f\" % (idx*0.1))\n",
    "        else:\n",
    "            plt.plot(wl, s[i], color=\"C%d\" % idx)\n",
    "plt.grid()\n",
    "plt.title(\"skin\")\n",
    "plt.xlabel(\"wavelength [nm]\")\n",
    "plt.ylabel(\"reflectance [-]\")\n",
    "plt.legend()\n",
    "plt.savefig(\"muscle_water_spec.png\")\n",
    "plt.clf()\n"
   ]
  },
  {
   "cell_type": "code",
   "execution_count": null,
   "metadata": {},
   "outputs": [],
   "source": []
  }
 ],
 "metadata": {
  "kernelspec": {
   "display_name": "Python 3",
   "language": "python",
   "name": "python3"
  },
  "language_info": {
   "codemirror_mode": {
    "name": "ipython",
    "version": 3
   },
   "file_extension": ".py",
   "mimetype": "text/x-python",
   "name": "python",
   "nbconvert_exporter": "python",
   "pygments_lexer": "ipython3",
   "version": "3.6.4"
  }
 },
 "nbformat": 4,
 "nbformat_minor": 2
}
